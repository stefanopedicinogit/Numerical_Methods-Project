{
 "cells": [
  {
   "cell_type": "markdown",
   "metadata": {},
   "source": [
    "Rusty Bargain used car sales service is developing an app to attract new customers. In that app, you can quickly find out the market value of your car. You have access to historical data: technical specifications, trim versions, and prices. You need to build the model to determine the value. \n",
    "\n",
    "Rusty Bargain is interested in:\n",
    "\n",
    "- the quality of the prediction;\n",
    "- the speed of the prediction;\n",
    "- the time required for training"
   ]
  },
  {
   "cell_type": "code",
   "execution_count": 1,
   "metadata": {},
   "outputs": [
    {
     "name": "stdout",
     "output_type": "stream",
     "text": [
      "Defaulting to user installation because normal site-packages is not writeable\n",
      "Collecting scikit-learn\n",
      "  Downloading scikit_learn-0.24.2-cp37-cp37m-manylinux2010_x86_64.whl (22.3 MB)\n",
      "\u001b[K     |████████████████████████████████| 22.3 MB 39 kB/s eta 0:00:0101\n",
      "\u001b[?25hCollecting threadpoolctl>=2.0.0\n",
      "  Downloading threadpoolctl-2.1.0-py3-none-any.whl (12 kB)\n",
      "Requirement already satisfied, skipping upgrade: joblib>=0.11 in /opt/conda/lib/python3.7/site-packages (from scikit-learn) (1.0.1)\n",
      "Requirement already satisfied, skipping upgrade: numpy>=1.13.3 in /opt/conda/lib/python3.7/site-packages (from scikit-learn) (1.19.5)\n",
      "Requirement already satisfied, skipping upgrade: scipy>=0.19.1 in /opt/conda/lib/python3.7/site-packages (from scikit-learn) (1.4.1)\n",
      "Installing collected packages: threadpoolctl, scikit-learn\n",
      "Successfully installed scikit-learn-0.24.2 threadpoolctl-2.1.0\n"
     ]
    }
   ],
   "source": [
    "!pip install --upgrade scikit-learn"
   ]
  },
  {
   "cell_type": "markdown",
   "metadata": {},
   "source": [
    "The presented dataset, was used to build an app where you can find the price of a car with some variables given. Those variables are going to become "
   ]
  },
  {
   "cell_type": "markdown",
   "metadata": {},
   "source": [
    "## Data preparation"
   ]
  },
  {
   "cell_type": "code",
   "execution_count": 1,
   "metadata": {},
   "outputs": [],
   "source": [
    "#Importing libraries and loading datasets.\n",
    "import scipy\n",
    "import warnings\n",
    "import pandas as pd\n",
    "import numpy as np\n",
    "import matplotlib.pyplot as plt\n",
    "%matplotlib inline\n",
    "\n",
    "from sklearn.preprocessing import StandardScaler \n",
    "from sklearn.preprocessing import LabelEncoder\n",
    "from sklearn.decomposition import PCA\n",
    "from sklearn.model_selection import cross_val_score\n",
    "from sklearn.model_selection import train_test_split\n",
    "from sklearn.model_selection import GridSearchCV\n",
    "from sklearn.tree import DecisionTreeRegressor\n",
    "from sklearn.ensemble import RandomForestRegressor\n",
    "from sklearn.linear_model import LinearRegression\n",
    "from sklearn.metrics import mean_squared_error\n",
    "from sklearn.metrics import mean_absolute_error\n",
    "from sklearn.metrics import make_scorer\n",
    "from sklearn.pipeline import Pipeline\n",
    "from sklearn.dummy import DummyRegressor\n",
    "\n",
    "from catboost import CatBoostRegressor\n",
    "from lightgbm import LGBMRegressor\n",
    "from xgboost import XGBRegressor\n",
    "\n",
    "cars = pd.read_csv('/datasets/car_data.csv')"
   ]
  },
  {
   "cell_type": "code",
   "execution_count": 2,
   "metadata": {},
   "outputs": [
    {
     "name": "stdout",
     "output_type": "stream",
     "text": [
      "Index(['DateCrawled', 'Price', 'VehicleType', 'RegistrationYear', 'Gearbox',\n",
      "       'Power', 'Model', 'Mileage', 'RegistrationMonth', 'FuelType', 'Brand',\n",
      "       'NotRepaired', 'DateCreated', 'NumberOfPictures', 'PostalCode',\n",
      "       'LastSeen'],\n",
      "      dtype='object')\n"
     ]
    }
   ],
   "source": [
    "print(cars.columns)"
   ]
  },
  {
   "cell_type": "code",
   "execution_count": 3,
   "metadata": {},
   "outputs": [],
   "source": [
    "#Renaming columns\n",
    "cars = cars.rename(columns={'DateCrawled': 'date_crawled', 'Price': 'price', 'VehicleType':'vehicle_type', \\\n",
    "                     'RegistrationYear': 'registration_year', 'Gearbox':'gearbox', 'Power':'power', 'Model': 'model', \\\n",
    "                     'Mileage':'mileage', 'RegistrationMonth':'registration_month','FuelType':'fuel_type', 'Brand':'brand', \\\n",
    "                     'NotRepaired':'not_repaired','DateCreated': 'date_created','NumberOfPictures':'number_of_pictures',\\\n",
    "                     'PostalCode':'postal_code','LastSeen':'last_seen'})"
   ]
  },
  {
   "cell_type": "code",
   "execution_count": 4,
   "metadata": {},
   "outputs": [
    {
     "data": {
      "text/html": [
       "<div>\n",
       "<style scoped>\n",
       "    .dataframe tbody tr th:only-of-type {\n",
       "        vertical-align: middle;\n",
       "    }\n",
       "\n",
       "    .dataframe tbody tr th {\n",
       "        vertical-align: top;\n",
       "    }\n",
       "\n",
       "    .dataframe thead th {\n",
       "        text-align: right;\n",
       "    }\n",
       "</style>\n",
       "<table border=\"1\" class=\"dataframe\">\n",
       "  <thead>\n",
       "    <tr style=\"text-align: right;\">\n",
       "      <th></th>\n",
       "      <th>date_crawled</th>\n",
       "      <th>price</th>\n",
       "      <th>vehicle_type</th>\n",
       "      <th>registration_year</th>\n",
       "      <th>gearbox</th>\n",
       "      <th>power</th>\n",
       "      <th>model</th>\n",
       "      <th>mileage</th>\n",
       "      <th>registration_month</th>\n",
       "      <th>fuel_type</th>\n",
       "      <th>brand</th>\n",
       "      <th>not_repaired</th>\n",
       "      <th>date_created</th>\n",
       "      <th>number_of_pictures</th>\n",
       "      <th>postal_code</th>\n",
       "      <th>last_seen</th>\n",
       "    </tr>\n",
       "  </thead>\n",
       "  <tbody>\n",
       "    <tr>\n",
       "      <td>0</td>\n",
       "      <td>24/03/2016 11:52</td>\n",
       "      <td>480</td>\n",
       "      <td>NaN</td>\n",
       "      <td>1993</td>\n",
       "      <td>manual</td>\n",
       "      <td>0</td>\n",
       "      <td>golf</td>\n",
       "      <td>150000</td>\n",
       "      <td>0</td>\n",
       "      <td>petrol</td>\n",
       "      <td>volkswagen</td>\n",
       "      <td>NaN</td>\n",
       "      <td>24/03/2016 00:00</td>\n",
       "      <td>0</td>\n",
       "      <td>70435</td>\n",
       "      <td>07/04/2016 03:16</td>\n",
       "    </tr>\n",
       "    <tr>\n",
       "      <td>1</td>\n",
       "      <td>24/03/2016 10:58</td>\n",
       "      <td>18300</td>\n",
       "      <td>coupe</td>\n",
       "      <td>2011</td>\n",
       "      <td>manual</td>\n",
       "      <td>190</td>\n",
       "      <td>NaN</td>\n",
       "      <td>125000</td>\n",
       "      <td>5</td>\n",
       "      <td>gasoline</td>\n",
       "      <td>audi</td>\n",
       "      <td>yes</td>\n",
       "      <td>24/03/2016 00:00</td>\n",
       "      <td>0</td>\n",
       "      <td>66954</td>\n",
       "      <td>07/04/2016 01:46</td>\n",
       "    </tr>\n",
       "    <tr>\n",
       "      <td>2</td>\n",
       "      <td>14/03/2016 12:52</td>\n",
       "      <td>9800</td>\n",
       "      <td>suv</td>\n",
       "      <td>2004</td>\n",
       "      <td>auto</td>\n",
       "      <td>163</td>\n",
       "      <td>grand</td>\n",
       "      <td>125000</td>\n",
       "      <td>8</td>\n",
       "      <td>gasoline</td>\n",
       "      <td>jeep</td>\n",
       "      <td>NaN</td>\n",
       "      <td>14/03/2016 00:00</td>\n",
       "      <td>0</td>\n",
       "      <td>90480</td>\n",
       "      <td>05/04/2016 12:47</td>\n",
       "    </tr>\n",
       "    <tr>\n",
       "      <td>3</td>\n",
       "      <td>17/03/2016 16:54</td>\n",
       "      <td>1500</td>\n",
       "      <td>small</td>\n",
       "      <td>2001</td>\n",
       "      <td>manual</td>\n",
       "      <td>75</td>\n",
       "      <td>golf</td>\n",
       "      <td>150000</td>\n",
       "      <td>6</td>\n",
       "      <td>petrol</td>\n",
       "      <td>volkswagen</td>\n",
       "      <td>no</td>\n",
       "      <td>17/03/2016 00:00</td>\n",
       "      <td>0</td>\n",
       "      <td>91074</td>\n",
       "      <td>17/03/2016 17:40</td>\n",
       "    </tr>\n",
       "    <tr>\n",
       "      <td>4</td>\n",
       "      <td>31/03/2016 17:25</td>\n",
       "      <td>3600</td>\n",
       "      <td>small</td>\n",
       "      <td>2008</td>\n",
       "      <td>manual</td>\n",
       "      <td>69</td>\n",
       "      <td>fabia</td>\n",
       "      <td>90000</td>\n",
       "      <td>7</td>\n",
       "      <td>gasoline</td>\n",
       "      <td>skoda</td>\n",
       "      <td>no</td>\n",
       "      <td>31/03/2016 00:00</td>\n",
       "      <td>0</td>\n",
       "      <td>60437</td>\n",
       "      <td>06/04/2016 10:17</td>\n",
       "    </tr>\n",
       "    <tr>\n",
       "      <td>...</td>\n",
       "      <td>...</td>\n",
       "      <td>...</td>\n",
       "      <td>...</td>\n",
       "      <td>...</td>\n",
       "      <td>...</td>\n",
       "      <td>...</td>\n",
       "      <td>...</td>\n",
       "      <td>...</td>\n",
       "      <td>...</td>\n",
       "      <td>...</td>\n",
       "      <td>...</td>\n",
       "      <td>...</td>\n",
       "      <td>...</td>\n",
       "      <td>...</td>\n",
       "      <td>...</td>\n",
       "      <td>...</td>\n",
       "    </tr>\n",
       "    <tr>\n",
       "      <td>354364</td>\n",
       "      <td>21/03/2016 09:50</td>\n",
       "      <td>0</td>\n",
       "      <td>NaN</td>\n",
       "      <td>2005</td>\n",
       "      <td>manual</td>\n",
       "      <td>0</td>\n",
       "      <td>colt</td>\n",
       "      <td>150000</td>\n",
       "      <td>7</td>\n",
       "      <td>petrol</td>\n",
       "      <td>mitsubishi</td>\n",
       "      <td>yes</td>\n",
       "      <td>21/03/2016 00:00</td>\n",
       "      <td>0</td>\n",
       "      <td>2694</td>\n",
       "      <td>21/03/2016 10:42</td>\n",
       "    </tr>\n",
       "    <tr>\n",
       "      <td>354365</td>\n",
       "      <td>14/03/2016 17:48</td>\n",
       "      <td>2200</td>\n",
       "      <td>NaN</td>\n",
       "      <td>2005</td>\n",
       "      <td>NaN</td>\n",
       "      <td>0</td>\n",
       "      <td>NaN</td>\n",
       "      <td>20000</td>\n",
       "      <td>1</td>\n",
       "      <td>NaN</td>\n",
       "      <td>sonstige_autos</td>\n",
       "      <td>NaN</td>\n",
       "      <td>14/03/2016 00:00</td>\n",
       "      <td>0</td>\n",
       "      <td>39576</td>\n",
       "      <td>06/04/2016 00:46</td>\n",
       "    </tr>\n",
       "    <tr>\n",
       "      <td>354366</td>\n",
       "      <td>05/03/2016 19:56</td>\n",
       "      <td>1199</td>\n",
       "      <td>convertible</td>\n",
       "      <td>2000</td>\n",
       "      <td>auto</td>\n",
       "      <td>101</td>\n",
       "      <td>fortwo</td>\n",
       "      <td>125000</td>\n",
       "      <td>3</td>\n",
       "      <td>petrol</td>\n",
       "      <td>smart</td>\n",
       "      <td>no</td>\n",
       "      <td>05/03/2016 00:00</td>\n",
       "      <td>0</td>\n",
       "      <td>26135</td>\n",
       "      <td>11/03/2016 18:17</td>\n",
       "    </tr>\n",
       "    <tr>\n",
       "      <td>354367</td>\n",
       "      <td>19/03/2016 18:57</td>\n",
       "      <td>9200</td>\n",
       "      <td>bus</td>\n",
       "      <td>1996</td>\n",
       "      <td>manual</td>\n",
       "      <td>102</td>\n",
       "      <td>transporter</td>\n",
       "      <td>150000</td>\n",
       "      <td>3</td>\n",
       "      <td>gasoline</td>\n",
       "      <td>volkswagen</td>\n",
       "      <td>no</td>\n",
       "      <td>19/03/2016 00:00</td>\n",
       "      <td>0</td>\n",
       "      <td>87439</td>\n",
       "      <td>07/04/2016 07:15</td>\n",
       "    </tr>\n",
       "    <tr>\n",
       "      <td>354368</td>\n",
       "      <td>20/03/2016 19:41</td>\n",
       "      <td>3400</td>\n",
       "      <td>wagon</td>\n",
       "      <td>2002</td>\n",
       "      <td>manual</td>\n",
       "      <td>100</td>\n",
       "      <td>golf</td>\n",
       "      <td>150000</td>\n",
       "      <td>6</td>\n",
       "      <td>gasoline</td>\n",
       "      <td>volkswagen</td>\n",
       "      <td>NaN</td>\n",
       "      <td>20/03/2016 00:00</td>\n",
       "      <td>0</td>\n",
       "      <td>40764</td>\n",
       "      <td>24/03/2016 12:45</td>\n",
       "    </tr>\n",
       "  </tbody>\n",
       "</table>\n",
       "<p>354369 rows × 16 columns</p>\n",
       "</div>"
      ],
      "text/plain": [
       "            date_crawled  price vehicle_type  registration_year gearbox  \\\n",
       "0       24/03/2016 11:52    480          NaN               1993  manual   \n",
       "1       24/03/2016 10:58  18300        coupe               2011  manual   \n",
       "2       14/03/2016 12:52   9800          suv               2004    auto   \n",
       "3       17/03/2016 16:54   1500        small               2001  manual   \n",
       "4       31/03/2016 17:25   3600        small               2008  manual   \n",
       "...                  ...    ...          ...                ...     ...   \n",
       "354364  21/03/2016 09:50      0          NaN               2005  manual   \n",
       "354365  14/03/2016 17:48   2200          NaN               2005     NaN   \n",
       "354366  05/03/2016 19:56   1199  convertible               2000    auto   \n",
       "354367  19/03/2016 18:57   9200          bus               1996  manual   \n",
       "354368  20/03/2016 19:41   3400        wagon               2002  manual   \n",
       "\n",
       "        power        model  mileage  registration_month fuel_type  \\\n",
       "0           0         golf   150000                   0    petrol   \n",
       "1         190          NaN   125000                   5  gasoline   \n",
       "2         163        grand   125000                   8  gasoline   \n",
       "3          75         golf   150000                   6    petrol   \n",
       "4          69        fabia    90000                   7  gasoline   \n",
       "...       ...          ...      ...                 ...       ...   \n",
       "354364      0         colt   150000                   7    petrol   \n",
       "354365      0          NaN    20000                   1       NaN   \n",
       "354366    101       fortwo   125000                   3    petrol   \n",
       "354367    102  transporter   150000                   3  gasoline   \n",
       "354368    100         golf   150000                   6  gasoline   \n",
       "\n",
       "                 brand not_repaired      date_created  number_of_pictures  \\\n",
       "0           volkswagen          NaN  24/03/2016 00:00                   0   \n",
       "1                 audi          yes  24/03/2016 00:00                   0   \n",
       "2                 jeep          NaN  14/03/2016 00:00                   0   \n",
       "3           volkswagen           no  17/03/2016 00:00                   0   \n",
       "4                skoda           no  31/03/2016 00:00                   0   \n",
       "...                ...          ...               ...                 ...   \n",
       "354364      mitsubishi          yes  21/03/2016 00:00                   0   \n",
       "354365  sonstige_autos          NaN  14/03/2016 00:00                   0   \n",
       "354366           smart           no  05/03/2016 00:00                   0   \n",
       "354367      volkswagen           no  19/03/2016 00:00                   0   \n",
       "354368      volkswagen          NaN  20/03/2016 00:00                   0   \n",
       "\n",
       "        postal_code         last_seen  \n",
       "0             70435  07/04/2016 03:16  \n",
       "1             66954  07/04/2016 01:46  \n",
       "2             90480  05/04/2016 12:47  \n",
       "3             91074  17/03/2016 17:40  \n",
       "4             60437  06/04/2016 10:17  \n",
       "...             ...               ...  \n",
       "354364         2694  21/03/2016 10:42  \n",
       "354365        39576  06/04/2016 00:46  \n",
       "354366        26135  11/03/2016 18:17  \n",
       "354367        87439  07/04/2016 07:15  \n",
       "354368        40764  24/03/2016 12:45  \n",
       "\n",
       "[354369 rows x 16 columns]"
      ]
     },
     "metadata": {},
     "output_type": "display_data"
    }
   ],
   "source": [
    "display(cars)"
   ]
  },
  {
   "cell_type": "code",
   "execution_count": 5,
   "metadata": {},
   "outputs": [
    {
     "name": "stdout",
     "output_type": "stream",
     "text": [
      "               price  registration_year          power        mileage  \\\n",
      "count  354369.000000      354369.000000  354369.000000  354369.000000   \n",
      "mean     4416.656776        2004.234448     110.094337  128211.172535   \n",
      "std      4514.158514          90.227958     189.850405   37905.341530   \n",
      "min         0.000000        1000.000000       0.000000    5000.000000   \n",
      "25%      1050.000000        1999.000000      69.000000  125000.000000   \n",
      "50%      2700.000000        2003.000000     105.000000  150000.000000   \n",
      "75%      6400.000000        2008.000000     143.000000  150000.000000   \n",
      "max     20000.000000        9999.000000   20000.000000  150000.000000   \n",
      "\n",
      "       registration_month  number_of_pictures    postal_code  \n",
      "count       354369.000000            354369.0  354369.000000  \n",
      "mean             5.714645                 0.0   50508.689087  \n",
      "std              3.726421                 0.0   25783.096248  \n",
      "min              0.000000                 0.0    1067.000000  \n",
      "25%              3.000000                 0.0   30165.000000  \n",
      "50%              6.000000                 0.0   49413.000000  \n",
      "75%              9.000000                 0.0   71083.000000  \n",
      "max             12.000000                 0.0   99998.000000  \n"
     ]
    }
   ],
   "source": [
    "#Describe method\n",
    "print(cars.describe())"
   ]
  },
  {
   "cell_type": "code",
   "execution_count": 6,
   "metadata": {},
   "outputs": [
    {
     "name": "stdout",
     "output_type": "stream",
     "text": [
      "date_crawled              0\n",
      "price                     0\n",
      "vehicle_type          37490\n",
      "registration_year         0\n",
      "gearbox               19833\n",
      "power                     0\n",
      "model                 19705\n",
      "mileage                   0\n",
      "registration_month        0\n",
      "fuel_type             32895\n",
      "brand                     0\n",
      "not_repaired          71154\n",
      "date_created              0\n",
      "number_of_pictures        0\n",
      "postal_code               0\n",
      "last_seen                 0\n",
      "dtype: int64\n"
     ]
    }
   ],
   "source": [
    "#Counting NaNs\n",
    "print(cars.isna().sum())"
   ]
  },
  {
   "cell_type": "code",
   "execution_count": 7,
   "metadata": {},
   "outputs": [
    {
     "name": "stdout",
     "output_type": "stream",
     "text": [
      "date_crawled          object\n",
      "price                  int64\n",
      "vehicle_type          object\n",
      "registration_year      int64\n",
      "gearbox               object\n",
      "power                  int64\n",
      "model                 object\n",
      "mileage                int64\n",
      "registration_month     int64\n",
      "fuel_type             object\n",
      "brand                 object\n",
      "not_repaired          object\n",
      "date_created          object\n",
      "number_of_pictures     int64\n",
      "postal_code            int64\n",
      "last_seen             object\n",
      "dtype: object\n"
     ]
    }
   ],
   "source": [
    "#Visualizing data type\n",
    "print(cars.dtypes)"
   ]
  },
  {
   "cell_type": "code",
   "execution_count": 8,
   "metadata": {},
   "outputs": [
    {
     "data": {
      "text/html": [
       "<div>\n",
       "<style scoped>\n",
       "    .dataframe tbody tr th:only-of-type {\n",
       "        vertical-align: middle;\n",
       "    }\n",
       "\n",
       "    .dataframe tbody tr th {\n",
       "        vertical-align: top;\n",
       "    }\n",
       "\n",
       "    .dataframe thead th {\n",
       "        text-align: right;\n",
       "    }\n",
       "</style>\n",
       "<table border=\"1\" class=\"dataframe\">\n",
       "  <thead>\n",
       "    <tr style=\"text-align: right;\">\n",
       "      <th></th>\n",
       "      <th>price</th>\n",
       "      <th>registration_year</th>\n",
       "      <th>power</th>\n",
       "      <th>mileage</th>\n",
       "      <th>registration_month</th>\n",
       "      <th>number_of_pictures</th>\n",
       "      <th>postal_code</th>\n",
       "    </tr>\n",
       "  </thead>\n",
       "  <tbody>\n",
       "    <tr>\n",
       "      <td>price</td>\n",
       "      <td>1.000000</td>\n",
       "      <td>0.026916</td>\n",
       "      <td>0.158872</td>\n",
       "      <td>-0.333199</td>\n",
       "      <td>0.110581</td>\n",
       "      <td>NaN</td>\n",
       "      <td>0.076055</td>\n",
       "    </tr>\n",
       "    <tr>\n",
       "      <td>registration_year</td>\n",
       "      <td>0.026916</td>\n",
       "      <td>1.000000</td>\n",
       "      <td>-0.000828</td>\n",
       "      <td>-0.053447</td>\n",
       "      <td>-0.011619</td>\n",
       "      <td>NaN</td>\n",
       "      <td>-0.003459</td>\n",
       "    </tr>\n",
       "    <tr>\n",
       "      <td>power</td>\n",
       "      <td>0.158872</td>\n",
       "      <td>-0.000828</td>\n",
       "      <td>1.000000</td>\n",
       "      <td>0.024002</td>\n",
       "      <td>0.043380</td>\n",
       "      <td>NaN</td>\n",
       "      <td>0.021665</td>\n",
       "    </tr>\n",
       "    <tr>\n",
       "      <td>mileage</td>\n",
       "      <td>-0.333199</td>\n",
       "      <td>-0.053447</td>\n",
       "      <td>0.024002</td>\n",
       "      <td>1.000000</td>\n",
       "      <td>0.009571</td>\n",
       "      <td>NaN</td>\n",
       "      <td>-0.007698</td>\n",
       "    </tr>\n",
       "    <tr>\n",
       "      <td>registration_month</td>\n",
       "      <td>0.110581</td>\n",
       "      <td>-0.011619</td>\n",
       "      <td>0.043380</td>\n",
       "      <td>0.009571</td>\n",
       "      <td>1.000000</td>\n",
       "      <td>NaN</td>\n",
       "      <td>0.013995</td>\n",
       "    </tr>\n",
       "    <tr>\n",
       "      <td>number_of_pictures</td>\n",
       "      <td>NaN</td>\n",
       "      <td>NaN</td>\n",
       "      <td>NaN</td>\n",
       "      <td>NaN</td>\n",
       "      <td>NaN</td>\n",
       "      <td>NaN</td>\n",
       "      <td>NaN</td>\n",
       "    </tr>\n",
       "    <tr>\n",
       "      <td>postal_code</td>\n",
       "      <td>0.076055</td>\n",
       "      <td>-0.003459</td>\n",
       "      <td>0.021665</td>\n",
       "      <td>-0.007698</td>\n",
       "      <td>0.013995</td>\n",
       "      <td>NaN</td>\n",
       "      <td>1.000000</td>\n",
       "    </tr>\n",
       "  </tbody>\n",
       "</table>\n",
       "</div>"
      ],
      "text/plain": [
       "                       price  registration_year     power   mileage  \\\n",
       "price               1.000000           0.026916  0.158872 -0.333199   \n",
       "registration_year   0.026916           1.000000 -0.000828 -0.053447   \n",
       "power               0.158872          -0.000828  1.000000  0.024002   \n",
       "mileage            -0.333199          -0.053447  0.024002  1.000000   \n",
       "registration_month  0.110581          -0.011619  0.043380  0.009571   \n",
       "number_of_pictures       NaN                NaN       NaN       NaN   \n",
       "postal_code         0.076055          -0.003459  0.021665 -0.007698   \n",
       "\n",
       "                    registration_month  number_of_pictures  postal_code  \n",
       "price                         0.110581                 NaN     0.076055  \n",
       "registration_year            -0.011619                 NaN    -0.003459  \n",
       "power                         0.043380                 NaN     0.021665  \n",
       "mileage                       0.009571                 NaN    -0.007698  \n",
       "registration_month            1.000000                 NaN     0.013995  \n",
       "number_of_pictures                 NaN                 NaN          NaN  \n",
       "postal_code                   0.013995                 NaN     1.000000  "
      ]
     },
     "metadata": {},
     "output_type": "display_data"
    }
   ],
   "source": [
    "display(cars.corr())"
   ]
  },
  {
   "cell_type": "code",
   "execution_count": 9,
   "metadata": {},
   "outputs": [
    {
     "name": "stdout",
     "output_type": "stream",
     "text": [
      "05/03/2016 14:25    66\n",
      "05/03/2016 14:26    59\n",
      "16/03/2016 18:49    55\n",
      "05/03/2016 15:48    54\n",
      "05/03/2016 14:49    54\n",
      "                    ..\n",
      "28/03/2016 00:44     1\n",
      "21/03/2016 18:23     1\n",
      "24/03/2016 01:59     1\n",
      "01/04/2016 11:40     1\n",
      "30/03/2016 13:59     1\n",
      "Name: date_crawled, Length: 15470, dtype: int64\n"
     ]
    }
   ],
   "source": [
    "#date_crawled column.\n",
    "print(cars.date_crawled.value_counts(dropna=False))"
   ]
  },
  {
   "cell_type": "code",
   "execution_count": 10,
   "metadata": {},
   "outputs": [],
   "source": [
    "#Changing date_crawled column data type\n",
    "cars['date_crawled'] = pd.to_datetime(cars['date_crawled'], format='%d/%m/%Y %H:%M')\n",
    "cars['date_created'] = pd.to_datetime(cars['date_created'], format='%d/%m/%Y %H:%M')\n",
    "cars['last_seen'] = pd.to_datetime(cars['last_seen'], format='%d/%m/%Y %H:%M')"
   ]
  },
  {
   "cell_type": "code",
   "execution_count": 11,
   "metadata": {},
   "outputs": [
    {
     "name": "stdout",
     "output_type": "stream",
     "text": [
      "0        10772\n",
      "500       5670\n",
      "1500      5394\n",
      "1000      4649\n",
      "1200      4594\n",
      "         ...  \n",
      "13440        1\n",
      "1414         1\n",
      "8069         1\n",
      "10370        1\n",
      "384          1\n",
      "Name: price, Length: 3731, dtype: int64\n"
     ]
    }
   ],
   "source": [
    "#price column\n",
    "print(cars.price.value_counts(dropna=False))"
   ]
  },
  {
   "cell_type": "code",
   "execution_count": 12,
   "metadata": {},
   "outputs": [
    {
     "name": "stdout",
     "output_type": "stream",
     "text": [
      "sedan          91457\n",
      "small          79831\n",
      "wagon          65166\n",
      "NaN            37490\n",
      "bus            28775\n",
      "convertible    20203\n",
      "coupe          16163\n",
      "suv            11996\n",
      "other           3288\n",
      "Name: vehicle_type, dtype: int64\n"
     ]
    }
   ],
   "source": [
    "#vehicle_type column\n",
    "print(cars.vehicle_type.value_counts(dropna=False))"
   ]
  },
  {
   "cell_type": "code",
   "execution_count": 13,
   "metadata": {},
   "outputs": [],
   "source": [
    "#converting NaNs in vehicle_type & model columns to 'missing' object.\n",
    "cars['vehicle_type'] = cars['vehicle_type'].replace (np.nan, 'missing')\n",
    "cars['model'] = cars['model'].replace (np.nan, 'missing')"
   ]
  },
  {
   "cell_type": "code",
   "execution_count": 14,
   "metadata": {},
   "outputs": [
    {
     "name": "stdout",
     "output_type": "stream",
     "text": [
      "sedan          91457\n",
      "small          79831\n",
      "wagon          65166\n",
      "missing        37490\n",
      "bus            28775\n",
      "convertible    20203\n",
      "coupe          16163\n",
      "suv            11996\n",
      "other           3288\n",
      "Name: vehicle_type, dtype: int64\n",
      "\n",
      "golf                  29232\n",
      "other                 24421\n",
      "3er                   19761\n",
      "missing               19705\n",
      "polo                  13066\n",
      "                      ...  \n",
      "serie_2                   8\n",
      "rangerover                4\n",
      "serie_3                   4\n",
      "serie_1                   2\n",
      "range_rover_evoque        2\n",
      "Name: model, Length: 251, dtype: int64\n"
     ]
    }
   ],
   "source": [
    "#check\n",
    "print(cars.vehicle_type.value_counts(dropna=False))\n",
    "print()\n",
    "print(cars.model.value_counts(dropna=False))"
   ]
  },
  {
   "cell_type": "code",
   "execution_count": 15,
   "metadata": {},
   "outputs": [
    {
     "name": "stdout",
     "output_type": "stream",
     "text": [
      "2000    24490\n",
      "1999    22728\n",
      "2005    22109\n",
      "2001    20124\n",
      "2006    19900\n",
      "        ...  \n",
      "3200        1\n",
      "1920        1\n",
      "1919        1\n",
      "1915        1\n",
      "8455        1\n",
      "Name: registration_year, Length: 151, dtype: int64\n",
      "              date_crawled  price vehicle_type  registration_year gearbox  \\\n",
      "622    2016-03-16 16:55:00      0      missing               1111     NaN   \n",
      "12946  2016-03-29 18:39:00     49      missing               5000     NaN   \n",
      "15147  2016-03-14 00:52:00      0      missing               9999     NaN   \n",
      "15870  2016-04-02 11:55:00   1700      missing               3200     NaN   \n",
      "16062  2016-03-29 23:42:00    190      missing               1000     NaN   \n",
      "...                    ...    ...          ...                ...     ...   \n",
      "340548 2016-04-02 17:44:00      0      missing               3500  manual   \n",
      "340759 2016-04-04 23:55:00    700      missing               1600  manual   \n",
      "341791 2016-03-28 17:37:00      1      missing               3000     NaN   \n",
      "348830 2016-03-22 00:38:00      1      missing               1000     NaN   \n",
      "351682 2016-03-12 00:57:00  11500      missing               1800     NaN   \n",
      "\n",
      "        power    model  mileage  registration_month fuel_type           brand  \\\n",
      "622         0  missing     5000                   0       NaN            opel   \n",
      "12946       0     golf     5000                  12       NaN      volkswagen   \n",
      "15147       0  missing    10000                   0       NaN  sonstige_autos   \n",
      "15870       0  missing     5000                   0       NaN  sonstige_autos   \n",
      "16062       0   mondeo     5000                   0       NaN            ford   \n",
      "...       ...      ...      ...                 ...       ...             ...   \n",
      "340548     75  missing     5000                   3    petrol  sonstige_autos   \n",
      "340759   1600       a3   150000                   4    petrol            audi   \n",
      "341791      0   zafira     5000                   0       NaN            opel   \n",
      "348830   1000  missing   150000                   0       NaN  sonstige_autos   \n",
      "351682     16    other     5000                   6    petrol            fiat   \n",
      "\n",
      "       not_repaired date_created  number_of_pictures  postal_code  \\\n",
      "622             NaN   2016-03-16                   0        44628   \n",
      "12946           NaN   2016-03-29                   0        74523   \n",
      "15147           NaN   2016-03-13                   0        32689   \n",
      "15870           NaN   2016-04-02                   0        33649   \n",
      "16062           NaN   2016-03-29                   0        47166   \n",
      "...             ...          ...                 ...          ...   \n",
      "340548          NaN   2016-04-02                   0        96465   \n",
      "340759           no   2016-04-04                   0        86343   \n",
      "341791          NaN   2016-03-28                   0        26624   \n",
      "348830          NaN   2016-03-21                   0        41472   \n",
      "351682          NaN   2016-03-11                   0        16515   \n",
      "\n",
      "                 last_seen  \n",
      "622    2016-03-20 16:44:00  \n",
      "12946  2016-04-06 04:16:00  \n",
      "15147  2016-03-21 23:46:00  \n",
      "15870  2016-04-06 09:46:00  \n",
      "16062  2016-04-06 10:44:00  \n",
      "...                    ...  \n",
      "340548 2016-04-04 15:17:00  \n",
      "340759 2016-04-05 06:44:00  \n",
      "341791 2016-04-02 22:17:00  \n",
      "348830 2016-04-05 14:18:00  \n",
      "351682 2016-04-05 19:47:00  \n",
      "\n",
      "[171 rows x 16 columns]\n"
     ]
    }
   ],
   "source": [
    "#registration_year column.\n",
    "print(cars.registration_year.value_counts(dropna=False))\n",
    "print(cars.query('registration_year < 1882 or registration_year > 2021'))"
   ]
  },
  {
   "cell_type": "code",
   "execution_count": 16,
   "metadata": {},
   "outputs": [
    {
     "name": "stdout",
     "output_type": "stream",
     "text": [
      "171\n"
     ]
    }
   ],
   "source": [
    "#replacing abnormal values in registration_year column with NaNs.\n",
    "cars['registration_year'] = np.where((cars['registration_year'] > 2021), np.nan, cars['registration_year'])\n",
    "cars['registration_year'] = np.where((cars['registration_year'] < 1882), np.nan, cars['registration_year'])\n",
    "print(cars['registration_year'].isna().sum())"
   ]
  },
  {
   "cell_type": "code",
   "execution_count": 17,
   "metadata": {},
   "outputs": [],
   "source": [
    "#Dropping NaNs values and changing back column data type.\n",
    "cars.dropna(subset=['registration_year'], how='any', inplace=True)\n",
    "cars['registration_year'] = cars['registration_year'].astype('int32')"
   ]
  },
  {
   "cell_type": "code",
   "execution_count": 18,
   "metadata": {},
   "outputs": [
    {
     "name": "stdout",
     "output_type": "stream",
     "text": [
      "manual    268225\n",
      "auto       66278\n",
      "NaN        19695\n",
      "Name: gearbox, dtype: int64\n"
     ]
    }
   ],
   "source": [
    "#gearbox column\n",
    "print(cars.gearbox.value_counts(dropna=False))"
   ]
  },
  {
   "cell_type": "code",
   "execution_count": 19,
   "metadata": {},
   "outputs": [],
   "source": [
    "#Assigning a fuel_type to NaN cars based on 'power' column.\n",
    "cars.fuel_type = cars.fuel_type.fillna('X')\n",
    "cars['fuel_type'] = np.where((cars['fuel_type'] == 'X'), cars.groupby('power')['fuel_type'].transform('max'), cars['fuel_type'])\n",
    "cars.fuel_type = cars.fuel_type.replace('X', np.nan) \n",
    "cars.dropna(subset=['fuel_type'], how='any', inplace=True)"
   ]
  },
  {
   "cell_type": "code",
   "execution_count": 20,
   "metadata": {},
   "outputs": [],
   "source": [
    "#Eliminating abnormal values from power column (<50, >500) & changing data type.\n",
    "cars.query('power == 0')\n",
    "cars['power'] = np.where((cars['power'] == 0), cars.groupby('fuel_type')['power'].transform('mean').round(0), cars['power'])\n",
    "cars.power.value_counts(dropna=False)\n",
    "cars['power'] = np.where((cars['power'] > 500), cars.groupby('brand')['power'].transform('mean').round(0), cars['power'])\n",
    "cars['power'] = np.where((cars['power'] < 50), cars.groupby('brand')['power'].transform('mean').round(0), cars['power'])\n",
    "cars['power'] = cars['power'].astype('int16')"
   ]
  },
  {
   "cell_type": "code",
   "execution_count": 21,
   "metadata": {},
   "outputs": [
    {
     "name": "stdout",
     "output_type": "stream",
     "text": [
      "petrol      249021\n",
      "gasoline     98720\n",
      "lpg           5313\n",
      "cng            564\n",
      "hybrid         233\n",
      "other          203\n",
      "electric        90\n",
      "Name: fuel_type, dtype: int64\n"
     ]
    }
   ],
   "source": [
    "#fuel_type after fillna.\n",
    "print(cars.fuel_type.value_counts(dropna=False))"
   ]
  },
  {
   "cell_type": "code",
   "execution_count": 22,
   "metadata": {},
   "outputs": [
    {
     "name": "stdout",
     "output_type": "stream",
     "text": [
      "manual    0.757296\n",
      "auto      0.242704\n",
      "Name: gearbox, dtype: float64\n"
     ]
    }
   ],
   "source": [
    "#replacing NaNs with automatic.\n",
    "cars.gearbox = cars.gearbox.replace(np.nan, 'auto')\n",
    "print(cars.gearbox.value_counts(normalize=True, dropna=False))"
   ]
  },
  {
   "cell_type": "code",
   "execution_count": 23,
   "metadata": {},
   "outputs": [
    {
     "name": "stdout",
     "output_type": "stream",
     "text": [
      "500      5660\n",
      "1500     5389\n",
      "1000     4646\n",
      "1200     4592\n",
      "2500     4434\n",
      "         ... \n",
      "16320       1\n",
      "1735        1\n",
      "2657        1\n",
      "9667        1\n",
      "8188        1\n",
      "Name: price, Length: 3674, dtype: int64\n"
     ]
    }
   ],
   "source": [
    "#Dropping abnormal values in price & changing data type\n",
    "cars['price'] = np.where((cars['price'] < 100), np.nan, cars['price'])\n",
    "cars.dropna(subset=['price'], how='any', inplace=True)\n",
    "cars['price'] = cars['price'].astype('int32')\n",
    "print(cars.price.value_counts(dropna=False))"
   ]
  },
  {
   "cell_type": "code",
   "execution_count": 24,
   "metadata": {},
   "outputs": [],
   "source": [
    "#Replacing not_repaired NaNs, trasform based on price column.\n",
    "cars['not_repaired'] = cars['not_repaired'].replace (np.nan, 'not_mentioned')"
   ]
  },
  {
   "cell_type": "code",
   "execution_count": 25,
   "metadata": {},
   "outputs": [
    {
     "name": "stdout",
     "output_type": "stream",
     "text": [
      "no               0.713334\n",
      "not_mentioned    0.188462\n",
      "yes              0.098204\n",
      "Name: not_repaired, dtype: float64\n"
     ]
    }
   ],
   "source": [
    "print(cars.not_repaired.value_counts(normalize=True, dropna=False))"
   ]
  },
  {
   "cell_type": "code",
   "execution_count": 26,
   "metadata": {},
   "outputs": [
    {
     "name": "stdout",
     "output_type": "stream",
     "text": [
      "date_crawled          0\n",
      "price                 0\n",
      "vehicle_type          0\n",
      "registration_year     0\n",
      "gearbox               0\n",
      "power                 0\n",
      "model                 0\n",
      "mileage               0\n",
      "registration_month    0\n",
      "fuel_type             0\n",
      "brand                 0\n",
      "not_repaired          0\n",
      "date_created          0\n",
      "number_of_pictures    0\n",
      "postal_code           0\n",
      "last_seen             0\n",
      "dtype: int64\n"
     ]
    }
   ],
   "source": [
    "#Check for more NaNs in the dataset.\n",
    "print(cars.isna().sum())"
   ]
  },
  {
   "cell_type": "code",
   "execution_count": 33,
   "metadata": {},
   "outputs": [
    {
     "data": {
      "text/html": [
       "<div>\n",
       "<style scoped>\n",
       "    .dataframe tbody tr th:only-of-type {\n",
       "        vertical-align: middle;\n",
       "    }\n",
       "\n",
       "    .dataframe tbody tr th {\n",
       "        vertical-align: top;\n",
       "    }\n",
       "\n",
       "    .dataframe thead th {\n",
       "        text-align: right;\n",
       "    }\n",
       "</style>\n",
       "<table border=\"1\" class=\"dataframe\">\n",
       "  <thead>\n",
       "    <tr style=\"text-align: right;\">\n",
       "      <th></th>\n",
       "      <th>date_crawled</th>\n",
       "      <th>price</th>\n",
       "      <th>vehicle_type</th>\n",
       "      <th>registration_year</th>\n",
       "      <th>gearbox</th>\n",
       "      <th>power</th>\n",
       "      <th>model</th>\n",
       "      <th>mileage</th>\n",
       "      <th>registration_month</th>\n",
       "      <th>fuel_type</th>\n",
       "      <th>brand</th>\n",
       "      <th>not_repaired</th>\n",
       "      <th>date_created</th>\n",
       "      <th>number_of_pictures</th>\n",
       "      <th>postal_code</th>\n",
       "      <th>last_seen</th>\n",
       "    </tr>\n",
       "  </thead>\n",
       "  <tbody>\n",
       "    <tr>\n",
       "      <td>0</td>\n",
       "      <td>2016-03-24 11:52:00</td>\n",
       "      <td>480</td>\n",
       "      <td>3</td>\n",
       "      <td>1993</td>\n",
       "      <td>1</td>\n",
       "      <td>101</td>\n",
       "      <td>116</td>\n",
       "      <td>150000</td>\n",
       "      <td>0</td>\n",
       "      <td>6</td>\n",
       "      <td>38</td>\n",
       "      <td>1</td>\n",
       "      <td>2016-03-24</td>\n",
       "      <td>0</td>\n",
       "      <td>70435</td>\n",
       "      <td>2016-04-07 03:16:00</td>\n",
       "    </tr>\n",
       "    <tr>\n",
       "      <td>1</td>\n",
       "      <td>2016-03-24 10:58:00</td>\n",
       "      <td>18300</td>\n",
       "      <td>2</td>\n",
       "      <td>2011</td>\n",
       "      <td>1</td>\n",
       "      <td>190</td>\n",
       "      <td>153</td>\n",
       "      <td>125000</td>\n",
       "      <td>5</td>\n",
       "      <td>2</td>\n",
       "      <td>1</td>\n",
       "      <td>2</td>\n",
       "      <td>2016-03-24</td>\n",
       "      <td>0</td>\n",
       "      <td>66954</td>\n",
       "      <td>2016-04-07 01:46:00</td>\n",
       "    </tr>\n",
       "    <tr>\n",
       "      <td>2</td>\n",
       "      <td>2016-03-14 12:52:00</td>\n",
       "      <td>9800</td>\n",
       "      <td>7</td>\n",
       "      <td>2004</td>\n",
       "      <td>0</td>\n",
       "      <td>163</td>\n",
       "      <td>117</td>\n",
       "      <td>125000</td>\n",
       "      <td>8</td>\n",
       "      <td>2</td>\n",
       "      <td>14</td>\n",
       "      <td>1</td>\n",
       "      <td>2016-03-14</td>\n",
       "      <td>0</td>\n",
       "      <td>90480</td>\n",
       "      <td>2016-04-05 12:47:00</td>\n",
       "    </tr>\n",
       "    <tr>\n",
       "      <td>3</td>\n",
       "      <td>2016-03-17 16:54:00</td>\n",
       "      <td>1500</td>\n",
       "      <td>6</td>\n",
       "      <td>2001</td>\n",
       "      <td>1</td>\n",
       "      <td>75</td>\n",
       "      <td>116</td>\n",
       "      <td>150000</td>\n",
       "      <td>6</td>\n",
       "      <td>6</td>\n",
       "      <td>38</td>\n",
       "      <td>0</td>\n",
       "      <td>2016-03-17</td>\n",
       "      <td>0</td>\n",
       "      <td>91074</td>\n",
       "      <td>2016-03-17 17:40:00</td>\n",
       "    </tr>\n",
       "    <tr>\n",
       "      <td>4</td>\n",
       "      <td>2016-03-31 17:25:00</td>\n",
       "      <td>3600</td>\n",
       "      <td>6</td>\n",
       "      <td>2008</td>\n",
       "      <td>1</td>\n",
       "      <td>69</td>\n",
       "      <td>101</td>\n",
       "      <td>90000</td>\n",
       "      <td>7</td>\n",
       "      <td>2</td>\n",
       "      <td>31</td>\n",
       "      <td>0</td>\n",
       "      <td>2016-03-31</td>\n",
       "      <td>0</td>\n",
       "      <td>60437</td>\n",
       "      <td>2016-04-06 10:17:00</td>\n",
       "    </tr>\n",
       "    <tr>\n",
       "      <td>...</td>\n",
       "      <td>...</td>\n",
       "      <td>...</td>\n",
       "      <td>...</td>\n",
       "      <td>...</td>\n",
       "      <td>...</td>\n",
       "      <td>...</td>\n",
       "      <td>...</td>\n",
       "      <td>...</td>\n",
       "      <td>...</td>\n",
       "      <td>...</td>\n",
       "      <td>...</td>\n",
       "      <td>...</td>\n",
       "      <td>...</td>\n",
       "      <td>...</td>\n",
       "      <td>...</td>\n",
       "      <td>...</td>\n",
       "    </tr>\n",
       "    <tr>\n",
       "      <td>340886</td>\n",
       "      <td>2016-03-27 20:36:00</td>\n",
       "      <td>1150</td>\n",
       "      <td>0</td>\n",
       "      <td>2000</td>\n",
       "      <td>1</td>\n",
       "      <td>101</td>\n",
       "      <td>250</td>\n",
       "      <td>150000</td>\n",
       "      <td>3</td>\n",
       "      <td>6</td>\n",
       "      <td>24</td>\n",
       "      <td>0</td>\n",
       "      <td>2016-03-27</td>\n",
       "      <td>0</td>\n",
       "      <td>26624</td>\n",
       "      <td>2016-03-29 10:17:00</td>\n",
       "    </tr>\n",
       "    <tr>\n",
       "      <td>340887</td>\n",
       "      <td>2016-03-14 17:48:00</td>\n",
       "      <td>2200</td>\n",
       "      <td>3</td>\n",
       "      <td>2005</td>\n",
       "      <td>0</td>\n",
       "      <td>101</td>\n",
       "      <td>153</td>\n",
       "      <td>20000</td>\n",
       "      <td>1</td>\n",
       "      <td>6</td>\n",
       "      <td>33</td>\n",
       "      <td>1</td>\n",
       "      <td>2016-03-14</td>\n",
       "      <td>0</td>\n",
       "      <td>39576</td>\n",
       "      <td>2016-04-06 00:46:00</td>\n",
       "    </tr>\n",
       "    <tr>\n",
       "      <td>340888</td>\n",
       "      <td>2016-03-05 19:56:00</td>\n",
       "      <td>1199</td>\n",
       "      <td>1</td>\n",
       "      <td>2000</td>\n",
       "      <td>0</td>\n",
       "      <td>101</td>\n",
       "      <td>106</td>\n",
       "      <td>125000</td>\n",
       "      <td>3</td>\n",
       "      <td>6</td>\n",
       "      <td>32</td>\n",
       "      <td>0</td>\n",
       "      <td>2016-03-05</td>\n",
       "      <td>0</td>\n",
       "      <td>26135</td>\n",
       "      <td>2016-03-11 18:17:00</td>\n",
       "    </tr>\n",
       "    <tr>\n",
       "      <td>340889</td>\n",
       "      <td>2016-03-19 18:57:00</td>\n",
       "      <td>9200</td>\n",
       "      <td>0</td>\n",
       "      <td>1996</td>\n",
       "      <td>1</td>\n",
       "      <td>102</td>\n",
       "      <td>225</td>\n",
       "      <td>150000</td>\n",
       "      <td>3</td>\n",
       "      <td>2</td>\n",
       "      <td>38</td>\n",
       "      <td>0</td>\n",
       "      <td>2016-03-19</td>\n",
       "      <td>0</td>\n",
       "      <td>87439</td>\n",
       "      <td>2016-04-07 07:15:00</td>\n",
       "    </tr>\n",
       "    <tr>\n",
       "      <td>340890</td>\n",
       "      <td>2016-03-20 19:41:00</td>\n",
       "      <td>3400</td>\n",
       "      <td>8</td>\n",
       "      <td>2002</td>\n",
       "      <td>1</td>\n",
       "      <td>100</td>\n",
       "      <td>116</td>\n",
       "      <td>150000</td>\n",
       "      <td>6</td>\n",
       "      <td>2</td>\n",
       "      <td>38</td>\n",
       "      <td>1</td>\n",
       "      <td>2016-03-20</td>\n",
       "      <td>0</td>\n",
       "      <td>40764</td>\n",
       "      <td>2016-03-24 12:45:00</td>\n",
       "    </tr>\n",
       "  </tbody>\n",
       "</table>\n",
       "<p>340891 rows × 16 columns</p>\n",
       "</div>"
      ],
      "text/plain": [
       "              date_crawled  price  vehicle_type  registration_year  gearbox  \\\n",
       "0      2016-03-24 11:52:00    480             3               1993        1   \n",
       "1      2016-03-24 10:58:00  18300             2               2011        1   \n",
       "2      2016-03-14 12:52:00   9800             7               2004        0   \n",
       "3      2016-03-17 16:54:00   1500             6               2001        1   \n",
       "4      2016-03-31 17:25:00   3600             6               2008        1   \n",
       "...                    ...    ...           ...                ...      ...   \n",
       "340886 2016-03-27 20:36:00   1150             0               2000        1   \n",
       "340887 2016-03-14 17:48:00   2200             3               2005        0   \n",
       "340888 2016-03-05 19:56:00   1199             1               2000        0   \n",
       "340889 2016-03-19 18:57:00   9200             0               1996        1   \n",
       "340890 2016-03-20 19:41:00   3400             8               2002        1   \n",
       "\n",
       "        power  model  mileage  registration_month  fuel_type  brand  \\\n",
       "0         101    116   150000                   0          6     38   \n",
       "1         190    153   125000                   5          2      1   \n",
       "2         163    117   125000                   8          2     14   \n",
       "3          75    116   150000                   6          6     38   \n",
       "4          69    101    90000                   7          2     31   \n",
       "...       ...    ...      ...                 ...        ...    ...   \n",
       "340886    101    250   150000                   3          6     24   \n",
       "340887    101    153    20000                   1          6     33   \n",
       "340888    101    106   125000                   3          6     32   \n",
       "340889    102    225   150000                   3          2     38   \n",
       "340890    100    116   150000                   6          2     38   \n",
       "\n",
       "        not_repaired date_created  number_of_pictures  postal_code  \\\n",
       "0                  1   2016-03-24                   0        70435   \n",
       "1                  2   2016-03-24                   0        66954   \n",
       "2                  1   2016-03-14                   0        90480   \n",
       "3                  0   2016-03-17                   0        91074   \n",
       "4                  0   2016-03-31                   0        60437   \n",
       "...              ...          ...                 ...          ...   \n",
       "340886             0   2016-03-27                   0        26624   \n",
       "340887             1   2016-03-14                   0        39576   \n",
       "340888             0   2016-03-05                   0        26135   \n",
       "340889             0   2016-03-19                   0        87439   \n",
       "340890             1   2016-03-20                   0        40764   \n",
       "\n",
       "                 last_seen  \n",
       "0      2016-04-07 03:16:00  \n",
       "1      2016-04-07 01:46:00  \n",
       "2      2016-04-05 12:47:00  \n",
       "3      2016-03-17 17:40:00  \n",
       "4      2016-04-06 10:17:00  \n",
       "...                    ...  \n",
       "340886 2016-03-29 10:17:00  \n",
       "340887 2016-04-06 00:46:00  \n",
       "340888 2016-03-11 18:17:00  \n",
       "340889 2016-04-07 07:15:00  \n",
       "340890 2016-03-24 12:45:00  \n",
       "\n",
       "[340891 rows x 16 columns]"
      ]
     },
     "metadata": {},
     "output_type": "display_data"
    }
   ],
   "source": [
    "#Resetting indexes in the original dataset.\n",
    "cars= cars.reset_index(drop=True)\n",
    "display(cars)"
   ]
  },
  {
   "cell_type": "code",
   "execution_count": 28,
   "metadata": {},
   "outputs": [
    {
     "data": {
      "text/html": [
       "<div>\n",
       "<style scoped>\n",
       "    .dataframe tbody tr th:only-of-type {\n",
       "        vertical-align: middle;\n",
       "    }\n",
       "\n",
       "    .dataframe tbody tr th {\n",
       "        vertical-align: top;\n",
       "    }\n",
       "\n",
       "    .dataframe thead th {\n",
       "        text-align: right;\n",
       "    }\n",
       "</style>\n",
       "<table border=\"1\" class=\"dataframe\">\n",
       "  <thead>\n",
       "    <tr style=\"text-align: right;\">\n",
       "      <th></th>\n",
       "      <th>date_crawled</th>\n",
       "      <th>price</th>\n",
       "      <th>vehicle_type</th>\n",
       "      <th>registration_year</th>\n",
       "      <th>gearbox</th>\n",
       "      <th>power</th>\n",
       "      <th>model</th>\n",
       "      <th>mileage</th>\n",
       "      <th>registration_month</th>\n",
       "      <th>fuel_type</th>\n",
       "      <th>brand</th>\n",
       "      <th>not_repaired</th>\n",
       "      <th>date_created</th>\n",
       "      <th>number_of_pictures</th>\n",
       "      <th>postal_code</th>\n",
       "      <th>last_seen</th>\n",
       "    </tr>\n",
       "  </thead>\n",
       "  <tbody>\n",
       "    <tr>\n",
       "      <td>0</td>\n",
       "      <td>2016-03-24 11:52:00</td>\n",
       "      <td>480</td>\n",
       "      <td>3</td>\n",
       "      <td>1993</td>\n",
       "      <td>1</td>\n",
       "      <td>101</td>\n",
       "      <td>116</td>\n",
       "      <td>150000</td>\n",
       "      <td>0</td>\n",
       "      <td>6</td>\n",
       "      <td>38</td>\n",
       "      <td>1</td>\n",
       "      <td>2016-03-24</td>\n",
       "      <td>0</td>\n",
       "      <td>70435</td>\n",
       "      <td>2016-04-07 03:16:00</td>\n",
       "    </tr>\n",
       "    <tr>\n",
       "      <td>1</td>\n",
       "      <td>2016-03-24 10:58:00</td>\n",
       "      <td>18300</td>\n",
       "      <td>2</td>\n",
       "      <td>2011</td>\n",
       "      <td>1</td>\n",
       "      <td>190</td>\n",
       "      <td>153</td>\n",
       "      <td>125000</td>\n",
       "      <td>5</td>\n",
       "      <td>2</td>\n",
       "      <td>1</td>\n",
       "      <td>2</td>\n",
       "      <td>2016-03-24</td>\n",
       "      <td>0</td>\n",
       "      <td>66954</td>\n",
       "      <td>2016-04-07 01:46:00</td>\n",
       "    </tr>\n",
       "    <tr>\n",
       "      <td>2</td>\n",
       "      <td>2016-03-14 12:52:00</td>\n",
       "      <td>9800</td>\n",
       "      <td>7</td>\n",
       "      <td>2004</td>\n",
       "      <td>0</td>\n",
       "      <td>163</td>\n",
       "      <td>117</td>\n",
       "      <td>125000</td>\n",
       "      <td>8</td>\n",
       "      <td>2</td>\n",
       "      <td>14</td>\n",
       "      <td>1</td>\n",
       "      <td>2016-03-14</td>\n",
       "      <td>0</td>\n",
       "      <td>90480</td>\n",
       "      <td>2016-04-05 12:47:00</td>\n",
       "    </tr>\n",
       "    <tr>\n",
       "      <td>3</td>\n",
       "      <td>2016-03-17 16:54:00</td>\n",
       "      <td>1500</td>\n",
       "      <td>6</td>\n",
       "      <td>2001</td>\n",
       "      <td>1</td>\n",
       "      <td>75</td>\n",
       "      <td>116</td>\n",
       "      <td>150000</td>\n",
       "      <td>6</td>\n",
       "      <td>6</td>\n",
       "      <td>38</td>\n",
       "      <td>0</td>\n",
       "      <td>2016-03-17</td>\n",
       "      <td>0</td>\n",
       "      <td>91074</td>\n",
       "      <td>2016-03-17 17:40:00</td>\n",
       "    </tr>\n",
       "    <tr>\n",
       "      <td>4</td>\n",
       "      <td>2016-03-31 17:25:00</td>\n",
       "      <td>3600</td>\n",
       "      <td>6</td>\n",
       "      <td>2008</td>\n",
       "      <td>1</td>\n",
       "      <td>69</td>\n",
       "      <td>101</td>\n",
       "      <td>90000</td>\n",
       "      <td>7</td>\n",
       "      <td>2</td>\n",
       "      <td>31</td>\n",
       "      <td>0</td>\n",
       "      <td>2016-03-31</td>\n",
       "      <td>0</td>\n",
       "      <td>60437</td>\n",
       "      <td>2016-04-06 10:17:00</td>\n",
       "    </tr>\n",
       "    <tr>\n",
       "      <td>...</td>\n",
       "      <td>...</td>\n",
       "      <td>...</td>\n",
       "      <td>...</td>\n",
       "      <td>...</td>\n",
       "      <td>...</td>\n",
       "      <td>...</td>\n",
       "      <td>...</td>\n",
       "      <td>...</td>\n",
       "      <td>...</td>\n",
       "      <td>...</td>\n",
       "      <td>...</td>\n",
       "      <td>...</td>\n",
       "      <td>...</td>\n",
       "      <td>...</td>\n",
       "      <td>...</td>\n",
       "      <td>...</td>\n",
       "    </tr>\n",
       "    <tr>\n",
       "      <td>340886</td>\n",
       "      <td>2016-03-27 20:36:00</td>\n",
       "      <td>1150</td>\n",
       "      <td>0</td>\n",
       "      <td>2000</td>\n",
       "      <td>1</td>\n",
       "      <td>101</td>\n",
       "      <td>250</td>\n",
       "      <td>150000</td>\n",
       "      <td>3</td>\n",
       "      <td>6</td>\n",
       "      <td>24</td>\n",
       "      <td>0</td>\n",
       "      <td>2016-03-27</td>\n",
       "      <td>0</td>\n",
       "      <td>26624</td>\n",
       "      <td>2016-03-29 10:17:00</td>\n",
       "    </tr>\n",
       "    <tr>\n",
       "      <td>340887</td>\n",
       "      <td>2016-03-14 17:48:00</td>\n",
       "      <td>2200</td>\n",
       "      <td>3</td>\n",
       "      <td>2005</td>\n",
       "      <td>0</td>\n",
       "      <td>101</td>\n",
       "      <td>153</td>\n",
       "      <td>20000</td>\n",
       "      <td>1</td>\n",
       "      <td>6</td>\n",
       "      <td>33</td>\n",
       "      <td>1</td>\n",
       "      <td>2016-03-14</td>\n",
       "      <td>0</td>\n",
       "      <td>39576</td>\n",
       "      <td>2016-04-06 00:46:00</td>\n",
       "    </tr>\n",
       "    <tr>\n",
       "      <td>340888</td>\n",
       "      <td>2016-03-05 19:56:00</td>\n",
       "      <td>1199</td>\n",
       "      <td>1</td>\n",
       "      <td>2000</td>\n",
       "      <td>0</td>\n",
       "      <td>101</td>\n",
       "      <td>106</td>\n",
       "      <td>125000</td>\n",
       "      <td>3</td>\n",
       "      <td>6</td>\n",
       "      <td>32</td>\n",
       "      <td>0</td>\n",
       "      <td>2016-03-05</td>\n",
       "      <td>0</td>\n",
       "      <td>26135</td>\n",
       "      <td>2016-03-11 18:17:00</td>\n",
       "    </tr>\n",
       "    <tr>\n",
       "      <td>340889</td>\n",
       "      <td>2016-03-19 18:57:00</td>\n",
       "      <td>9200</td>\n",
       "      <td>0</td>\n",
       "      <td>1996</td>\n",
       "      <td>1</td>\n",
       "      <td>102</td>\n",
       "      <td>225</td>\n",
       "      <td>150000</td>\n",
       "      <td>3</td>\n",
       "      <td>2</td>\n",
       "      <td>38</td>\n",
       "      <td>0</td>\n",
       "      <td>2016-03-19</td>\n",
       "      <td>0</td>\n",
       "      <td>87439</td>\n",
       "      <td>2016-04-07 07:15:00</td>\n",
       "    </tr>\n",
       "    <tr>\n",
       "      <td>340890</td>\n",
       "      <td>2016-03-20 19:41:00</td>\n",
       "      <td>3400</td>\n",
       "      <td>8</td>\n",
       "      <td>2002</td>\n",
       "      <td>1</td>\n",
       "      <td>100</td>\n",
       "      <td>116</td>\n",
       "      <td>150000</td>\n",
       "      <td>6</td>\n",
       "      <td>2</td>\n",
       "      <td>38</td>\n",
       "      <td>1</td>\n",
       "      <td>2016-03-20</td>\n",
       "      <td>0</td>\n",
       "      <td>40764</td>\n",
       "      <td>2016-03-24 12:45:00</td>\n",
       "    </tr>\n",
       "  </tbody>\n",
       "</table>\n",
       "<p>340891 rows × 16 columns</p>\n",
       "</div>"
      ],
      "text/plain": [
       "              date_crawled  price  vehicle_type  registration_year  gearbox  \\\n",
       "0      2016-03-24 11:52:00    480             3               1993        1   \n",
       "1      2016-03-24 10:58:00  18300             2               2011        1   \n",
       "2      2016-03-14 12:52:00   9800             7               2004        0   \n",
       "3      2016-03-17 16:54:00   1500             6               2001        1   \n",
       "4      2016-03-31 17:25:00   3600             6               2008        1   \n",
       "...                    ...    ...           ...                ...      ...   \n",
       "340886 2016-03-27 20:36:00   1150             0               2000        1   \n",
       "340887 2016-03-14 17:48:00   2200             3               2005        0   \n",
       "340888 2016-03-05 19:56:00   1199             1               2000        0   \n",
       "340889 2016-03-19 18:57:00   9200             0               1996        1   \n",
       "340890 2016-03-20 19:41:00   3400             8               2002        1   \n",
       "\n",
       "        power  model  mileage  registration_month  fuel_type  brand  \\\n",
       "0         101    116   150000                   0          6     38   \n",
       "1         190    153   125000                   5          2      1   \n",
       "2         163    117   125000                   8          2     14   \n",
       "3          75    116   150000                   6          6     38   \n",
       "4          69    101    90000                   7          2     31   \n",
       "...       ...    ...      ...                 ...        ...    ...   \n",
       "340886    101    250   150000                   3          6     24   \n",
       "340887    101    153    20000                   1          6     33   \n",
       "340888    101    106   125000                   3          6     32   \n",
       "340889    102    225   150000                   3          2     38   \n",
       "340890    100    116   150000                   6          2     38   \n",
       "\n",
       "        not_repaired date_created  number_of_pictures  postal_code  \\\n",
       "0                  1   2016-03-24                   0        70435   \n",
       "1                  2   2016-03-24                   0        66954   \n",
       "2                  1   2016-03-14                   0        90480   \n",
       "3                  0   2016-03-17                   0        91074   \n",
       "4                  0   2016-03-31                   0        60437   \n",
       "...              ...          ...                 ...          ...   \n",
       "340886             0   2016-03-27                   0        26624   \n",
       "340887             1   2016-03-14                   0        39576   \n",
       "340888             0   2016-03-05                   0        26135   \n",
       "340889             0   2016-03-19                   0        87439   \n",
       "340890             1   2016-03-20                   0        40764   \n",
       "\n",
       "                 last_seen  \n",
       "0      2016-04-07 03:16:00  \n",
       "1      2016-04-07 01:46:00  \n",
       "2      2016-04-05 12:47:00  \n",
       "3      2016-03-17 17:40:00  \n",
       "4      2016-04-06 10:17:00  \n",
       "...                    ...  \n",
       "340886 2016-03-29 10:17:00  \n",
       "340887 2016-04-06 00:46:00  \n",
       "340888 2016-03-11 18:17:00  \n",
       "340889 2016-04-07 07:15:00  \n",
       "340890 2016-03-24 12:45:00  \n",
       "\n",
       "[340891 rows x 16 columns]"
      ]
     },
     "metadata": {},
     "output_type": "display_data"
    }
   ],
   "source": [
    "#Creating encoded dataset.\n",
    "encoder = LabelEncoder()\n",
    "cars_ordinal = pd.DataFrame(cars, columns=cars.columns)\n",
    "cars_ordinal['vehicle_type'] = encoder.fit_transform(cars_ordinal['vehicle_type'])\n",
    "cars_ordinal['gearbox'] = encoder.fit_transform(cars_ordinal['gearbox'])\n",
    "cars_ordinal['model'] = encoder.fit_transform(cars_ordinal['model'])\n",
    "cars_ordinal['fuel_type'] = encoder.fit_transform(cars_ordinal['fuel_type'])\n",
    "cars_ordinal['brand'] = encoder.fit_transform(cars_ordinal['brand'])\n",
    "cars_ordinal['not_repaired'] = encoder.fit_transform(cars_ordinal['not_repaired'])\n",
    "display(cars_ordinal)"
   ]
  },
  {
   "cell_type": "markdown",
   "metadata": {},
   "source": [
    "# Brief summarize. Point 1.\n",
    "\n",
    "DATAPREPROCESSING. \n",
    "\n",
    "First thing done while working on this project was renaming columns with lowercase letters. \n",
    "With the describe method and the sum of NaNs values. I tried to understand where abnormal values where present.\n",
    "After that I checked the types of columns and looked at the correlations among columns.\n",
    "Within the datatypes I understood that the date columns where in object format and I decided to change all of them to datetime type.\n",
    "\n",
    "To address vehicle_type and model column without any further information, I decided to create a new value 'missing' for all the NaNs.\n",
    "\n",
    "The registration_year column presented 171 abnormal values, I decided to drop those records since they were really few.\n",
    "\n",
    "There were couple of columns with still NaNs values after this. One of those was fuel_type. To fill fuel_type NaNs my choice was to address them with the max values coming from the dataset grouped by power. Since I understood that the two columns where related.\n",
    "\n",
    "I add then to eliminate abnormal values in power column. I decided to change all the zeros with the mean of the dataset groupedby fuel type, and values > 500 and < 50 with the mean coming from the brand column.\n",
    "\n",
    "For what concerne gearbox column instead, I choose to replace the few NaNs in the column 8700 on 300000 records, with 'auto', obtaining 77% of manual cars vs 22% of automatic, this looked to me a good normalization of the column so I decided to move further. \n",
    "\n",
    "In price the max values within this app was 20000 and looked totally fine, the problem was presented with the low values. There were in price column many zeros and many values lower then a hundred. I choose to drop all the values <100.\n",
    "\n",
    "There were still NaNs in not_repaired column I addressed those values to 'not_mentioned' string obtaining 71% 'no', 18% 'not_mentioned' and 9% 'yes'. \n",
    "\n",
    "After those changes the dataset did not presented anymore abnormal values and neither None values. The resulting dataset was composed by 340891 rows divided in 16 columns.\n",
    "\n",
    "ENCODING CATEGORICAL FEATURES.\n",
    "\n",
    "Using LabelEncoder I decided to encode all the categorical features priorly then building the model. The resulting dataset was basically the same as before with only numerical values.\n",
    "The columns encoded were: 'vehicle_type', 'gearbox', 'model', 'fuel_type', 'brand' and 'not_repaired'"
   ]
  },
  {
   "cell_type": "markdown",
   "metadata": {},
   "source": [
    "## Model training"
   ]
  },
  {
   "cell_type": "code",
   "execution_count": 35,
   "metadata": {},
   "outputs": [],
   "source": [
    "#Assigning features and target for the model construction.\n",
    "features = cars_ordinal.drop(['price', 'date_crawled', 'registration_month', 'date_created', 'number_of_pictures', 'postal_code', 'last_seen'], axis=1)\n",
    "target = cars_ordinal['price']"
   ]
  },
  {
   "cell_type": "code",
   "execution_count": 36,
   "metadata": {},
   "outputs": [],
   "source": [
    "#Train test split.\n",
    "features_train, features_test, target_train, target_test = train_test_split(features, target, test_size=0.25, random_state=0)"
   ]
  },
  {
   "cell_type": "code",
   "execution_count": 37,
   "metadata": {},
   "outputs": [],
   "source": [
    "#Creating pipelines.\n",
    "pipe_dtr = Pipeline([('scaler0', StandardScaler()),\n",
    "                    ('DecisionTreeRegressor', DecisionTreeRegressor())])\n",
    "\n",
    "pipe_rfr = Pipeline([('scaler1', StandardScaler()),\n",
    "                    ('RandomForestRegressor', RandomForestRegressor(n_estimators=100))])\n",
    "\n",
    "pipe_linear = Pipeline([('scaler2', StandardScaler()),\n",
    "                       ('LinearRegression(Dummy)', LinearRegression())])\n",
    "\n",
    "pipe_cat_boost_r = Pipeline([('scaler3', StandardScaler()),\n",
    "                       ('CatBoostRegressor', CatBoostRegressor(verbose=500))])\n",
    "\n",
    "pipe_lgbm_r =  Pipeline([('scaler4', StandardScaler()),\n",
    "                       ('LGBMRegressor', LGBMRegressor())])\n",
    "\n",
    "pipe_xgb_r = Pipeline([('scaler5', StandardScaler()),\n",
    "                       ('XGBRegressor', XGBRegressor())])"
   ]
  },
  {
   "cell_type": "code",
   "execution_count": 38,
   "metadata": {},
   "outputs": [],
   "source": [
    "#Creating list of pipelines.\n",
    "pipelines = [pipe_dtr, pipe_rfr, pipe_linear, pipe_cat_boost_r, pipe_lgbm_r, pipe_xgb_r]\n",
    "#Creating a dictionary of pipelines.\n",
    "pipe_dict = {pipe_dtr: 'DecisionTreeRegressor', pipe_rfr:'RandomForestRegressor', pipe_linear:'LinearRegression',\\\n",
    "             pipe_cat_boost_r: 'CatBoostRegressor', pipe_lgbm_r: 'LGBMRegressor', pipe_xgb_r:'XGBRegressor'}"
   ]
  },
  {
   "cell_type": "code",
   "execution_count": 39,
   "metadata": {},
   "outputs": [],
   "source": [
    "#Defining a function to calculate RMSE.\n",
    "def rmse(target,predictions): \n",
    "    score = mean_squared_error(target, predictions)\n",
    "    score = score **0.5\n",
    "    return score"
   ]
  },
  {
   "cell_type": "code",
   "execution_count": 40,
   "metadata": {
    "scrolled": false
   },
   "outputs": [
    {
     "name": "stdout",
     "output_type": "stream",
     "text": [
      "DecisionTreeRegressor\n",
      "[-2047.16645238 -2030.45243966 -2093.8009451  -2077.40993621\n",
      " -2075.63970058]\n",
      "RandomForestRegressor\n",
      "[-1659.33318103 -1656.59993514 -1690.89301427 -1654.32980263\n",
      " -1690.83458884]\n",
      "LinearRegression\n",
      "[-3037.88505867 -3018.26670968 -3034.23573896 -2993.96421837\n",
      " -3030.51648119]\n",
      "CatBoostRegressor\n",
      "0:\tlearn: 4429.3817836\ttotal: 154ms\tremaining: 2m 33s\n",
      "500:\tlearn: 1813.9782806\ttotal: 1m 18s\tremaining: 1m 17s\n",
      "999:\tlearn: 1729.4937973\ttotal: 2m 36s\tremaining: 0us\n",
      "0:\tlearn: 4443.5276462\ttotal: 104ms\tremaining: 1m 43s\n",
      "500:\tlearn: 1812.9736401\ttotal: 1m 18s\tremaining: 1m 17s\n",
      "999:\tlearn: 1726.9779505\ttotal: 2m 35s\tremaining: 0us\n",
      "0:\tlearn: 4421.9808304\ttotal: 126ms\tremaining: 2m 5s\n",
      "500:\tlearn: 1806.5030695\ttotal: 1m 17s\tremaining: 1m 17s\n",
      "999:\tlearn: 1722.7759295\ttotal: 2m 35s\tremaining: 0us\n",
      "0:\tlearn: 4441.3232149\ttotal: 62.1ms\tremaining: 1m 2s\n",
      "500:\tlearn: 1814.5277209\ttotal: 1m 18s\tremaining: 1m 18s\n",
      "999:\tlearn: 1730.2637280\ttotal: 2m 36s\tremaining: 0us\n",
      "0:\tlearn: 4428.2227153\ttotal: 58.9ms\tremaining: 58.9s\n",
      "500:\tlearn: 1808.2888047\ttotal: 1m 19s\tremaining: 1m 18s\n",
      "999:\tlearn: 1723.3221628\ttotal: 2m 37s\tremaining: 0us\n",
      "[-1743.96532346 -1751.09208927 -1767.95120221 -1733.24033879\n",
      " -1770.13259758]\n",
      "LGBMRegressor\n",
      "[-1747.50699279 -1762.40839221 -1769.60570771 -1746.15701518\n",
      " -1772.25379932]\n",
      "XGBRegressor\n"
     ]
    },
    {
     "name": "stderr",
     "output_type": "stream",
     "text": [
      "/opt/conda/lib/python3.7/site-packages/xgboost/core.py:587: FutureWarning: Series.base is deprecated and will be removed in a future version\n",
      "  if getattr(data, 'base', None) is not None and \\\n"
     ]
    },
    {
     "name": "stdout",
     "output_type": "stream",
     "text": [
      "[18:16:04] WARNING: /workspace/src/objective/regression_obj.cu:152: reg:linear is now deprecated in favor of reg:squarederror.\n"
     ]
    },
    {
     "name": "stderr",
     "output_type": "stream",
     "text": [
      "/opt/conda/lib/python3.7/site-packages/xgboost/core.py:587: FutureWarning: Series.base is deprecated and will be removed in a future version\n",
      "  if getattr(data, 'base', None) is not None and \\\n"
     ]
    },
    {
     "name": "stdout",
     "output_type": "stream",
     "text": [
      "[18:16:19] WARNING: /workspace/src/objective/regression_obj.cu:152: reg:linear is now deprecated in favor of reg:squarederror.\n"
     ]
    },
    {
     "name": "stderr",
     "output_type": "stream",
     "text": [
      "/opt/conda/lib/python3.7/site-packages/xgboost/core.py:587: FutureWarning: Series.base is deprecated and will be removed in a future version\n",
      "  if getattr(data, 'base', None) is not None and \\\n"
     ]
    },
    {
     "name": "stdout",
     "output_type": "stream",
     "text": [
      "[18:16:34] WARNING: /workspace/src/objective/regression_obj.cu:152: reg:linear is now deprecated in favor of reg:squarederror.\n"
     ]
    },
    {
     "name": "stderr",
     "output_type": "stream",
     "text": [
      "/opt/conda/lib/python3.7/site-packages/xgboost/core.py:587: FutureWarning: Series.base is deprecated and will be removed in a future version\n",
      "  if getattr(data, 'base', None) is not None and \\\n"
     ]
    },
    {
     "name": "stdout",
     "output_type": "stream",
     "text": [
      "[18:16:49] WARNING: /workspace/src/objective/regression_obj.cu:152: reg:linear is now deprecated in favor of reg:squarederror.\n"
     ]
    },
    {
     "name": "stderr",
     "output_type": "stream",
     "text": [
      "/opt/conda/lib/python3.7/site-packages/xgboost/core.py:587: FutureWarning: Series.base is deprecated and will be removed in a future version\n",
      "  if getattr(data, 'base', None) is not None and \\\n"
     ]
    },
    {
     "name": "stdout",
     "output_type": "stream",
     "text": [
      "[18:17:04] WARNING: /workspace/src/objective/regression_obj.cu:152: reg:linear is now deprecated in favor of reg:squarederror.\n",
      "[-1975.09693557 -1980.54999366 -2002.0861426  -1962.44412197\n",
      " -2006.32312692]\n"
     ]
    }
   ],
   "source": [
    "#Looping trough pipelines to obtain cross validation scores.\n",
    "rmse = make_scorer(rmse, greater_is_better=False)\n",
    "for pipe in pipelines:\n",
    "    print(pipe_dict[pipe])\n",
    "    print(cross_val_score(pipe, features_train, target_train, scoring = rmse, cv=5))"
   ]
  },
  {
   "cell_type": "code",
   "execution_count": null,
   "metadata": {
    "scrolled": true
   },
   "outputs": [],
   "source": [
    "#Creating a parameters dictionary for RandomForestRegressor possible hyperparameters values.\n",
    "parameters = {'n_estimators': (110,150,200,230,250,40,50),\n",
    "              'max_depth': (10,16,19),\n",
    "              } \n",
    "\n",
    "#Creating a grid model.\n",
    "RF_grid = GridSearchCV(RandomForestRegressor(random_state=0, criterion='mse'), param_grid=parameters, cv=5)\n",
    "RF_grid_model = RF_grid.fit(features_train, target_train)\n",
    "print(RF_grid_model.best_estimator_)"
   ]
  },
  {
   "cell_type": "code",
   "execution_count": null,
   "metadata": {},
   "outputs": [],
   "source": [
    "RF_grid_model.best_score_"
   ]
  },
  {
   "cell_type": "code",
   "execution_count": null,
   "metadata": {
    "scrolled": true
   },
   "outputs": [],
   "source": [
    "#Creating a parameters dictionary for possible CatBoostRegressor hyperparameters values.\n",
    "parameters = {'learning_rate': (0.15,0.5,0.35,0.8),\n",
    "              'depth': (10,15,16),\n",
    "              } \n",
    "\n",
    "#Creating a grid model.\n",
    "CB_grid = GridSearchCV(CatBoostRegressor(random_seed=0), param_grid=parameters, cv=5)\n",
    "CB_grid_model = CB_grid.fit(features_train, target_train, cat_features = cat_features)\n",
    "print(CB_grid_model.best_estimator_)"
   ]
  },
  {
   "cell_type": "code",
   "execution_count": 43,
   "metadata": {},
   "outputs": [
    {
     "name": "stdout",
     "output_type": "stream",
     "text": [
      "LGBMRegressor(learning_rate=0.4, n_estimators=450)\n"
     ]
    }
   ],
   "source": [
    "#Creating a parameters dictionary for LGBMRegressor possible hyperparameters values.\n",
    "parameters = {'learning_rate': (0.15,0.5,0.4,0.8),\n",
    "              'n_estimators': (300,350,450,150),\n",
    "              } \n",
    "\n",
    "#Creating a grid model.\n",
    "LGBM_grid = GridSearchCV(LGBMRegressor(), param_grid=parameters, cv=5) \n",
    "LGBM_grid_model = LGBM_grid.fit(features_train, target_train)\n",
    "print(LGBM_grid_model.best_estimator_)"
   ]
  },
  {
   "cell_type": "code",
   "execution_count": 46,
   "metadata": {},
   "outputs": [
    {
     "name": "stdout",
     "output_type": "stream",
     "text": [
      "[15:00:43] WARNING: /workspace/src/objective/regression_obj.cu:152: reg:linear is now deprecated in favor of reg:squarederror.\n",
      "[15:01:21] WARNING: /workspace/src/objective/regression_obj.cu:152: reg:linear is now deprecated in favor of reg:squarederror.\n",
      "[15:01:58] WARNING: /workspace/src/objective/regression_obj.cu:152: reg:linear is now deprecated in favor of reg:squarederror.\n",
      "[15:02:38] WARNING: /workspace/src/objective/regression_obj.cu:152: reg:linear is now deprecated in favor of reg:squarederror.\n",
      "[15:03:17] WARNING: /workspace/src/objective/regression_obj.cu:152: reg:linear is now deprecated in favor of reg:squarederror.\n",
      "[15:03:56] WARNING: /workspace/src/objective/regression_obj.cu:152: reg:linear is now deprecated in favor of reg:squarederror.\n",
      "[15:04:41] WARNING: /workspace/src/objective/regression_obj.cu:152: reg:linear is now deprecated in favor of reg:squarederror.\n",
      "[15:05:27] WARNING: /workspace/src/objective/regression_obj.cu:152: reg:linear is now deprecated in favor of reg:squarederror.\n",
      "[15:06:12] WARNING: /workspace/src/objective/regression_obj.cu:152: reg:linear is now deprecated in favor of reg:squarederror.\n",
      "[15:06:56] WARNING: /workspace/src/objective/regression_obj.cu:152: reg:linear is now deprecated in favor of reg:squarederror.\n",
      "[15:07:41] WARNING: /workspace/src/objective/regression_obj.cu:152: reg:linear is now deprecated in favor of reg:squarederror.\n",
      "[15:08:36] WARNING: /workspace/src/objective/regression_obj.cu:152: reg:linear is now deprecated in favor of reg:squarederror.\n",
      "[15:09:32] WARNING: /workspace/src/objective/regression_obj.cu:152: reg:linear is now deprecated in favor of reg:squarederror.\n",
      "[15:10:28] WARNING: /workspace/src/objective/regression_obj.cu:152: reg:linear is now deprecated in favor of reg:squarederror.\n",
      "[15:11:24] WARNING: /workspace/src/objective/regression_obj.cu:152: reg:linear is now deprecated in favor of reg:squarederror.\n",
      "[15:12:20] WARNING: /workspace/src/objective/regression_obj.cu:152: reg:linear is now deprecated in favor of reg:squarederror.\n",
      "[15:12:39] WARNING: /workspace/src/objective/regression_obj.cu:152: reg:linear is now deprecated in favor of reg:squarederror.\n",
      "[15:12:57] WARNING: /workspace/src/objective/regression_obj.cu:152: reg:linear is now deprecated in favor of reg:squarederror.\n",
      "[15:13:16] WARNING: /workspace/src/objective/regression_obj.cu:152: reg:linear is now deprecated in favor of reg:squarederror.\n",
      "[15:13:35] WARNING: /workspace/src/objective/regression_obj.cu:152: reg:linear is now deprecated in favor of reg:squarederror.\n",
      "[15:13:53] WARNING: /workspace/src/objective/regression_obj.cu:152: reg:linear is now deprecated in favor of reg:squarederror.\n",
      "[15:14:30] WARNING: /workspace/src/objective/regression_obj.cu:152: reg:linear is now deprecated in favor of reg:squarederror.\n",
      "[15:15:08] WARNING: /workspace/src/objective/regression_obj.cu:152: reg:linear is now deprecated in favor of reg:squarederror.\n",
      "[15:15:46] WARNING: /workspace/src/objective/regression_obj.cu:152: reg:linear is now deprecated in favor of reg:squarederror.\n",
      "[15:16:25] WARNING: /workspace/src/objective/regression_obj.cu:152: reg:linear is now deprecated in favor of reg:squarederror.\n",
      "[15:17:05] WARNING: /workspace/src/objective/regression_obj.cu:152: reg:linear is now deprecated in favor of reg:squarederror.\n",
      "[15:17:51] WARNING: /workspace/src/objective/regression_obj.cu:152: reg:linear is now deprecated in favor of reg:squarederror.\n",
      "[15:18:36] WARNING: /workspace/src/objective/regression_obj.cu:152: reg:linear is now deprecated in favor of reg:squarederror.\n",
      "[15:19:21] WARNING: /workspace/src/objective/regression_obj.cu:152: reg:linear is now deprecated in favor of reg:squarederror.\n",
      "[15:20:07] WARNING: /workspace/src/objective/regression_obj.cu:152: reg:linear is now deprecated in favor of reg:squarederror.\n",
      "[15:20:52] WARNING: /workspace/src/objective/regression_obj.cu:152: reg:linear is now deprecated in favor of reg:squarederror.\n",
      "[15:21:51] WARNING: /workspace/src/objective/regression_obj.cu:152: reg:linear is now deprecated in favor of reg:squarederror.\n",
      "[15:22:50] WARNING: /workspace/src/objective/regression_obj.cu:152: reg:linear is now deprecated in favor of reg:squarederror.\n",
      "[15:23:45] WARNING: /workspace/src/objective/regression_obj.cu:152: reg:linear is now deprecated in favor of reg:squarederror.\n",
      "[15:24:42] WARNING: /workspace/src/objective/regression_obj.cu:152: reg:linear is now deprecated in favor of reg:squarederror.\n",
      "[15:25:38] WARNING: /workspace/src/objective/regression_obj.cu:152: reg:linear is now deprecated in favor of reg:squarederror.\n",
      "[15:25:56] WARNING: /workspace/src/objective/regression_obj.cu:152: reg:linear is now deprecated in favor of reg:squarederror.\n",
      "[15:26:16] WARNING: /workspace/src/objective/regression_obj.cu:152: reg:linear is now deprecated in favor of reg:squarederror.\n",
      "[15:26:35] WARNING: /workspace/src/objective/regression_obj.cu:152: reg:linear is now deprecated in favor of reg:squarederror.\n",
      "[15:26:53] WARNING: /workspace/src/objective/regression_obj.cu:152: reg:linear is now deprecated in favor of reg:squarederror.\n",
      "[15:27:12] WARNING: /workspace/src/objective/regression_obj.cu:152: reg:linear is now deprecated in favor of reg:squarederror.\n",
      "[15:27:49] WARNING: /workspace/src/objective/regression_obj.cu:152: reg:linear is now deprecated in favor of reg:squarederror.\n",
      "[15:28:27] WARNING: /workspace/src/objective/regression_obj.cu:152: reg:linear is now deprecated in favor of reg:squarederror.\n",
      "[15:29:04] WARNING: /workspace/src/objective/regression_obj.cu:152: reg:linear is now deprecated in favor of reg:squarederror.\n",
      "[15:29:41] WARNING: /workspace/src/objective/regression_obj.cu:152: reg:linear is now deprecated in favor of reg:squarederror.\n",
      "[15:30:19] WARNING: /workspace/src/objective/regression_obj.cu:152: reg:linear is now deprecated in favor of reg:squarederror.\n",
      "[15:31:03] WARNING: /workspace/src/objective/regression_obj.cu:152: reg:linear is now deprecated in favor of reg:squarederror.\n",
      "[15:31:50] WARNING: /workspace/src/objective/regression_obj.cu:152: reg:linear is now deprecated in favor of reg:squarederror.\n",
      "[15:32:36] WARNING: /workspace/src/objective/regression_obj.cu:152: reg:linear is now deprecated in favor of reg:squarederror.\n",
      "[15:33:22] WARNING: /workspace/src/objective/regression_obj.cu:152: reg:linear is now deprecated in favor of reg:squarederror.\n",
      "[15:34:08] WARNING: /workspace/src/objective/regression_obj.cu:152: reg:linear is now deprecated in favor of reg:squarederror.\n",
      "[15:35:06] WARNING: /workspace/src/objective/regression_obj.cu:152: reg:linear is now deprecated in favor of reg:squarederror.\n",
      "[15:36:07] WARNING: /workspace/src/objective/regression_obj.cu:152: reg:linear is now deprecated in favor of reg:squarederror.\n",
      "[15:37:06] WARNING: /workspace/src/objective/regression_obj.cu:152: reg:linear is now deprecated in favor of reg:squarederror.\n",
      "[15:38:03] WARNING: /workspace/src/objective/regression_obj.cu:152: reg:linear is now deprecated in favor of reg:squarederror.\n",
      "[15:39:02] WARNING: /workspace/src/objective/regression_obj.cu:152: reg:linear is now deprecated in favor of reg:squarederror.\n",
      "[15:39:21] WARNING: /workspace/src/objective/regression_obj.cu:152: reg:linear is now deprecated in favor of reg:squarederror.\n",
      "[15:39:39] WARNING: /workspace/src/objective/regression_obj.cu:152: reg:linear is now deprecated in favor of reg:squarederror.\n",
      "[15:39:59] WARNING: /workspace/src/objective/regression_obj.cu:152: reg:linear is now deprecated in favor of reg:squarederror.\n",
      "[15:40:18] WARNING: /workspace/src/objective/regression_obj.cu:152: reg:linear is now deprecated in favor of reg:squarederror.\n",
      "[15:40:37] WARNING: /workspace/src/objective/regression_obj.cu:152: reg:linear is now deprecated in favor of reg:squarederror.\n",
      "[15:41:15] WARNING: /workspace/src/objective/regression_obj.cu:152: reg:linear is now deprecated in favor of reg:squarederror.\n",
      "[15:41:51] WARNING: /workspace/src/objective/regression_obj.cu:152: reg:linear is now deprecated in favor of reg:squarederror.\n",
      "[15:42:29] WARNING: /workspace/src/objective/regression_obj.cu:152: reg:linear is now deprecated in favor of reg:squarederror.\n",
      "[15:43:06] WARNING: /workspace/src/objective/regression_obj.cu:152: reg:linear is now deprecated in favor of reg:squarederror.\n",
      "[15:43:45] WARNING: /workspace/src/objective/regression_obj.cu:152: reg:linear is now deprecated in favor of reg:squarederror.\n",
      "[15:44:30] WARNING: /workspace/src/objective/regression_obj.cu:152: reg:linear is now deprecated in favor of reg:squarederror.\n",
      "[15:45:14] WARNING: /workspace/src/objective/regression_obj.cu:152: reg:linear is now deprecated in favor of reg:squarederror.\n",
      "[15:45:58] WARNING: /workspace/src/objective/regression_obj.cu:152: reg:linear is now deprecated in favor of reg:squarederror.\n",
      "[15:46:44] WARNING: /workspace/src/objective/regression_obj.cu:152: reg:linear is now deprecated in favor of reg:squarederror.\n",
      "[15:47:29] WARNING: /workspace/src/objective/regression_obj.cu:152: reg:linear is now deprecated in favor of reg:squarederror.\n",
      "[15:48:28] WARNING: /workspace/src/objective/regression_obj.cu:152: reg:linear is now deprecated in favor of reg:squarederror.\n",
      "[15:49:29] WARNING: /workspace/src/objective/regression_obj.cu:152: reg:linear is now deprecated in favor of reg:squarederror.\n",
      "[15:50:27] WARNING: /workspace/src/objective/regression_obj.cu:152: reg:linear is now deprecated in favor of reg:squarederror.\n",
      "[15:51:25] WARNING: /workspace/src/objective/regression_obj.cu:152: reg:linear is now deprecated in favor of reg:squarederror.\n",
      "[15:52:23] WARNING: /workspace/src/objective/regression_obj.cu:152: reg:linear is now deprecated in favor of reg:squarederror.\n",
      "[15:52:43] WARNING: /workspace/src/objective/regression_obj.cu:152: reg:linear is now deprecated in favor of reg:squarederror.\n",
      "[15:53:03] WARNING: /workspace/src/objective/regression_obj.cu:152: reg:linear is now deprecated in favor of reg:squarederror.\n",
      "[15:53:22] WARNING: /workspace/src/objective/regression_obj.cu:152: reg:linear is now deprecated in favor of reg:squarederror.\n",
      "[15:53:40] WARNING: /workspace/src/objective/regression_obj.cu:152: reg:linear is now deprecated in favor of reg:squarederror.\n",
      "[15:53:59] WARNING: /workspace/src/objective/regression_obj.cu:152: reg:linear is now deprecated in favor of reg:squarederror.\n",
      "[15:54:35] WARNING: /workspace/src/objective/regression_obj.cu:152: reg:linear is now deprecated in favor of reg:squarederror.\n",
      "[15:55:13] WARNING: /workspace/src/objective/regression_obj.cu:152: reg:linear is now deprecated in favor of reg:squarederror.\n",
      "[15:55:50] WARNING: /workspace/src/objective/regression_obj.cu:152: reg:linear is now deprecated in favor of reg:squarederror.\n",
      "[15:56:27] WARNING: /workspace/src/objective/regression_obj.cu:152: reg:linear is now deprecated in favor of reg:squarederror.\n",
      "[15:57:04] WARNING: /workspace/src/objective/regression_obj.cu:152: reg:linear is now deprecated in favor of reg:squarederror.\n",
      "[15:57:50] WARNING: /workspace/src/objective/regression_obj.cu:152: reg:linear is now deprecated in favor of reg:squarederror.\n",
      "[15:58:36] WARNING: /workspace/src/objective/regression_obj.cu:152: reg:linear is now deprecated in favor of reg:squarederror.\n",
      "[15:59:20] WARNING: /workspace/src/objective/regression_obj.cu:152: reg:linear is now deprecated in favor of reg:squarederror.\n",
      "[16:00:03] WARNING: /workspace/src/objective/regression_obj.cu:152: reg:linear is now deprecated in favor of reg:squarederror.\n",
      "[16:00:48] WARNING: /workspace/src/objective/regression_obj.cu:152: reg:linear is now deprecated in favor of reg:squarederror.\n",
      "[16:01:47] WARNING: /workspace/src/objective/regression_obj.cu:152: reg:linear is now deprecated in favor of reg:squarederror.\n",
      "[16:02:44] WARNING: /workspace/src/objective/regression_obj.cu:152: reg:linear is now deprecated in favor of reg:squarederror.\n",
      "[16:03:41] WARNING: /workspace/src/objective/regression_obj.cu:152: reg:linear is now deprecated in favor of reg:squarederror.\n",
      "[16:04:41] WARNING: /workspace/src/objective/regression_obj.cu:152: reg:linear is now deprecated in favor of reg:squarederror.\n",
      "[16:05:45] WARNING: /workspace/src/objective/regression_obj.cu:152: reg:linear is now deprecated in favor of reg:squarederror.\n",
      "[16:06:05] WARNING: /workspace/src/objective/regression_obj.cu:152: reg:linear is now deprecated in favor of reg:squarederror.\n",
      "[16:06:26] WARNING: /workspace/src/objective/regression_obj.cu:152: reg:linear is now deprecated in favor of reg:squarederror.\n",
      "[16:06:46] WARNING: /workspace/src/objective/regression_obj.cu:152: reg:linear is now deprecated in favor of reg:squarederror.\n",
      "[16:07:07] WARNING: /workspace/src/objective/regression_obj.cu:152: reg:linear is now deprecated in favor of reg:squarederror.\n",
      "[16:07:27] WARNING: /workspace/src/objective/regression_obj.cu:152: reg:linear is now deprecated in favor of reg:squarederror.\n",
      "XGBRegressor(learning_rate=0.65, n_estimators=450)\n"
     ]
    }
   ],
   "source": [
    "#Creating a parameters dictionary for possible XGBRegressor hyperparameters values.\n",
    "warnings.simplefilter(action='ignore', category=FutureWarning)\n",
    "\n",
    "parameters = {'learning_rate': (0.15,0.5,0.4,0.65,0.85),\n",
    "              'n_estimators': (300,350,450,150),\n",
    "              } \n",
    "\n",
    "#Creating a grid model.\n",
    "XGB_grid = GridSearchCV(XGBRegressor(), param_grid=parameters, cv=5) \n",
    "XGB_grid_model = XGB_grid.fit(features_train, target_train)\n",
    "print(XGB_grid_model.best_estimator_)"
   ]
  },
  {
   "cell_type": "markdown",
   "metadata": {},
   "source": [
    "# Brief summarize. Point 2.\n",
    "\n",
    "CROSS VALIDATION ON TRAINING SET.\n",
    "This section concern the steps done in order to train the models I had. Obviously in this section I took advantage only of the data presented in the training set. To do so, I choose the features and the target of the app and addressed them from the OHE dataset. Quite important here to notice that I choose to remove many column from our features: 'date_crawled', 'registration_month', 'date_created', 'number_of_pictures', 'postal_code', 'last_seen' and 'price' that was our target. The choice to remove those columns was done taking in account the fact that those values were not helpful at all in defining a price for our vehicles, they just were additional informations.\n",
    "\n",
    "I proceded splitting the data in training and testing set and I create pipelines without hyperparameters to cross validate the models on the training set. The results of the cross validation were: \n",
    "\n",
    "- RandomForestRegressor with RMSE values among 1654.55 and 1690.71\n",
    "- CatBoostRegressor with RMSE values among 1733.24 and 1770.13\n",
    "- LGBMRegressor with RMSE values among 1746.15 and 1772.25\n",
    "- XGBRegressor with RMSE values among 1962.44 and 2006.32\n",
    "- DecisionTreeRegressor with RMSE values among 2037.78 and 2092.28\n",
    "- LinearRegression (Dummy) with RMSE values among 2993.96 and 3037.88\n",
    "\n",
    "TUNING HYPERPARAMETERS.\n",
    "\n",
    "Since LinearRegression does not lend itself to hyperparameters tuning and DecisionTree received an higher CV score then RFR and the neuralnetworks, I decided to not tune those models and went trough with the tuning of my RandomForestRegressor.\n",
    "  \n",
    "The hyperparameters for the RFR_quality model were: \n",
    "- RandomForestRegressor(n_estimators=230, max_depth=19, random_state=0)\n",
    "\n",
    "I started to train CatBoostRegressor here I choose to remain with those hyperparameters: \n",
    "- CatBoostRegressor(depth=16, random_seed=0, learning_rate=0.35, iterations=1000, verbose=100)\n",
    "\n",
    "I then went on tuning hyperparameters for LGBMRegressor:\n",
    "- LGBMRegressor(n_estimators = 1100, learning_rate = 0.4)\n",
    "  \n",
    "XGBRegressor was tuned with the following hyperparameters:\n",
    "- XGBRegressor(learning_rate = 0.65, n_estimators=3000)\n"
   ]
  },
  {
   "cell_type": "markdown",
   "metadata": {},
   "source": [
    "## Model analysis"
   ]
  },
  {
   "cell_type": "code",
   "execution_count": 34,
   "metadata": {},
   "outputs": [],
   "source": [
    "from time import time\n",
    "run_time = {}\n",
    "training_time = {}\n",
    "predictions_time = {}"
   ]
  },
  {
   "cell_type": "code",
   "execution_count": 35,
   "metadata": {},
   "outputs": [],
   "source": [
    "#Creating pipelines with the right hyperparameters setted.\n",
    "\n",
    "pipe_linear = Pipeline([('scaler0', StandardScaler()),\n",
    "                       ('LinearRegression', LinearRegression())])\n",
    "\n",
    "pipe_dtr = Pipeline([('scaler1', StandardScaler()),\n",
    "                    ('DecisionTreeRegressor', DecisionTreeRegressor())])\n",
    "\n",
    "pipe_rfr_fast = Pipeline([('scaler2', StandardScaler()),\n",
    "                    ('RandomForestRegressor_fast', RandomForestRegressor(random_state=0))])\n",
    "\n",
    "pipe_rfr_quality = Pipeline([('scaler3', StandardScaler()),\n",
    "                    ('RandomForestRegressor_quality', RandomForestRegressor(max_depth=19, n_estimators=250, random_state=0))])\n",
    "\n",
    "pipe_cat_boost_r = Pipeline([('scaler4', StandardScaler()),\n",
    "                       ('CatBoostRegressor', CatBoostRegressor(depth=16, random_seed=0, learning_rate=0.35, verbose=100))])\n",
    "\n",
    "pipe_lgbm_r =  Pipeline([('scaler5', StandardScaler()),\n",
    "                       ('LGBMRegressor', LGBMRegressor(learning_rate=0.4, n_estimators=450))])\n",
    "\n",
    "pipe_xgb_r = Pipeline([('scaler6', StandardScaler()),\n",
    "                       ('XGBRegressorFast', XGBRegressor())])\n",
    "\n",
    "pipe_xgb_quality = Pipeline([('scaler7', StandardScaler()),\n",
    "                       ('XGBRegressorQuality', XGBRegressor(learning_rate = 0.65, n_estimators=450))])"
   ]
  },
  {
   "cell_type": "code",
   "execution_count": 36,
   "metadata": {},
   "outputs": [
    {
     "name": "stdout",
     "output_type": "stream",
     "text": [
      "Rmse: 3029.9790047276947 \n",
      "Training Time: {0.128} s \n",
      "Predictions Time: {0.03} s \n",
      "Run Time: {0.16} s\n"
     ]
    }
   ],
   "source": [
    "#Saving LinearRegression results on testing dataset.\n",
    "start = time()\n",
    "pipe_linear.fit(features_train, target_train)\n",
    "training_time['LinearRegression'] = np.round(time()-start, 3)\n",
    "\n",
    "start_predictions = time()\n",
    "predictions = pipe_linear.predict(features_test)\n",
    "predictions_time['LinearRegression'] = np.round(time()-start_predictions, 3)\n",
    "\n",
    "rmse_linear = mean_squared_error(target_test, predictions)**0.5\n",
    "\n",
    "run_time['LinearRegression'] = np.round(time()-start, 3)\n",
    "\n",
    "print('Rmse:', rmse_linear,'\\nTraining Time:', {training_time['LinearRegression']},'s',\\\n",
    "      '\\nPredictions Time:', {predictions_time['LinearRegression']},'s','\\nRun Time:', {run_time['LinearRegression']},'s')"
   ]
  },
  {
   "cell_type": "code",
   "execution_count": 37,
   "metadata": {},
   "outputs": [
    {
     "name": "stdout",
     "output_type": "stream",
     "text": [
      "Rmse: 2025.7881383285292 \n",
      "Training Time: {1.228} s \n",
      "Predictions Time: {0.058} s \n",
      "Run Time: {1.286} s\n"
     ]
    }
   ],
   "source": [
    "#Saving DecisionTreeRegressor results on testing dataset.\n",
    "start = time()\n",
    "pipe_dtr.fit(features_train, target_train)\n",
    "training_time['DecisionTreeRegressor'] = np.round(time()-start, 3)\n",
    "\n",
    "start_predictions = time()\n",
    "predictions = pipe_dtr.predict(features_test)\n",
    "rmse_dtr = mean_squared_error(target_test, predictions)**0.5\n",
    "predictions_time['DecisionTreeRegressor'] = np.round(time()-start_predictions, 3)\n",
    "\n",
    "run_time['DecisionTreeRegressor'] = np.round(time()-start, 3)\n",
    "\n",
    "print('Rmse:', rmse_dtr,'\\nTraining Time:', {training_time['DecisionTreeRegressor']},'s',\\\n",
    "      '\\nPredictions Time:', {predictions_time['DecisionTreeRegressor']},'s','\\nRun Time:', {run_time['DecisionTreeRegressor']},'s')"
   ]
  },
  {
   "cell_type": "code",
   "execution_count": 38,
   "metadata": {},
   "outputs": [
    {
     "name": "stdout",
     "output_type": "stream",
     "text": [
      "Rmse: 1667.9125712348043 \n",
      "Training Time: {78.948} s \n",
      "Predictions Time: {5.19} s \n",
      "Run Time: {84.138} s\n"
     ]
    }
   ],
   "source": [
    "#Saving RandomForestRegressor_fast results on testing dataset.\n",
    "start = time()\n",
    "pipe_rfr_fast.fit(features_train, target_train)\n",
    "training_time['RandomForestRegressor_fast'] = np.round(time()-start, 3)\n",
    "\n",
    "start_predictions = time()\n",
    "predictions = pipe_rfr_fast.predict(features_test)\n",
    "rmse_rfr = mean_squared_error(target_test, predictions)**0.5\n",
    "predictions_time['RandomForestRegressor_fast'] = np.round(time()-start_predictions, 3)\n",
    "\n",
    "run_time['RandomForestRegressor_fast'] = np.round(time()-start, 3)\n",
    "\n",
    "print('Rmse:', rmse_rfr,'\\nTraining Time:', {training_time['RandomForestRegressor_fast']},'s',\\\n",
    "      '\\nPredictions Time:', {predictions_time['RandomForestRegressor_fast']},'s','\\nRun Time:', {run_time['RandomForestRegressor_fast']},'s')"
   ]
  },
  {
   "cell_type": "code",
   "execution_count": 39,
   "metadata": {},
   "outputs": [
    {
     "name": "stdout",
     "output_type": "stream",
     "text": [
      "Rmse: 1653.884919717754 \n",
      "Training Time: {175.973} s \n",
      "Predictions Time: {7.706} s \n",
      "Run Time: {183.679} s\n"
     ]
    }
   ],
   "source": [
    "#Saving RandomForestRegressor_quality results on testing dataset.\n",
    "start = time()\n",
    "pipe_rfr_quality.fit(features_train, target_train)\n",
    "training_time['RandomForestRegressor_quality'] = np.round(time()-start, 3)\n",
    "\n",
    "start_predictions = time()\n",
    "predictions = pipe_rfr_quality.predict(features_test)\n",
    "rmse_rfr = mean_squared_error(target_test, predictions)**0.5\n",
    "predictions_time['RandomForestRegressor_quality'] = np.round(time()-start_predictions, 3)\n",
    "\n",
    "run_time['RandomForestRegressor_quality'] = np.round(time()-start, 3)\n",
    "\n",
    "print('Rmse:', rmse_rfr,'\\nTraining Time:', {training_time['RandomForestRegressor_quality']},'s',\\\n",
    "      '\\nPredictions Time:', {predictions_time['RandomForestRegressor_quality']},'s','\\nRun Time:', {run_time['RandomForestRegressor_quality']},'s')"
   ]
  },
  {
   "cell_type": "code",
   "execution_count": 40,
   "metadata": {},
   "outputs": [
    {
     "name": "stdout",
     "output_type": "stream",
     "text": [
      "Rmse: 1620.3474149026972 \n",
      "Training Time: {77.162} s \n",
      "Predictions Time: {3.209} s \n",
      "Run Time: {80.371} s\n"
     ]
    }
   ],
   "source": [
    "#Saving LGBMRegressor results on testing dataset.\n",
    "start = time()\n",
    "pipe_lgbm_r.fit(features_train, target_train)\n",
    "training_time['LGBMRegressor'] = np.round(time()-start, 3)\n",
    "\n",
    "start_predictions = time()\n",
    "predictions = pipe_lgbm_r.predict(features_test)\n",
    "rmse_lgbm = mean_squared_error(target_test, predictions)**0.5\n",
    "predictions_time['LGBMRegressor'] = np.round(time()-start_predictions, 3)\n",
    "\n",
    "run_time['LGBMRegressor'] = np.round(time()-start, 3)\n",
    "\n",
    "print('Rmse:', rmse_lgbm,'\\nTraining Time:', {training_time['LGBMRegressor']},'s',\\\n",
    "      '\\nPredictions Time:', {predictions_time['LGBMRegressor']},'s','\\nRun Time:', {run_time['LGBMRegressor']},'s')"
   ]
  },
  {
   "cell_type": "code",
   "execution_count": 41,
   "metadata": {},
   "outputs": [
    {
     "name": "stdout",
     "output_type": "stream",
     "text": [
      "[11:03:57] WARNING: /workspace/src/objective/regression_obj.cu:152: reg:linear is now deprecated in favor of reg:squarederror.\n",
      "Rmse: 1997.3352843679986 \n",
      "Training Time: {15.929} s \n",
      "Predictions Time: {0.335} s \n",
      "Run Time: {16.264} s\n"
     ]
    }
   ],
   "source": [
    "#Saving XGBRegressorFast results on testing dataset.\n",
    "warnings.simplefilter(action='ignore', category=FutureWarning)\n",
    "\n",
    "start = time()\n",
    "pipe_xgb_r.fit(features_train, target_train)\n",
    "training_time['XGBRegressor'] = np.round(time()-start, 3)\n",
    "\n",
    "start_predictions = time()\n",
    "predictions = pipe_xgb_r.predict(features_test)\n",
    "rmse_xgb = mean_squared_error(target_test, predictions)**0.5\n",
    "predictions_time['XGBRegressor'] = np.round(time()-start_predictions, 3)\n",
    "\n",
    "run_time['XGBRegressor'] = np.round(time()-start, 3)\n",
    "\n",
    "print('Rmse:', rmse_xgb,'\\nTraining Time:', {training_time['XGBRegressor']},'s',\\\n",
    "      '\\nPredictions Time:', {predictions_time['XGBRegressor']},'s','\\nRun Time:', {run_time['XGBRegressor']},'s')"
   ]
  },
  {
   "cell_type": "code",
   "execution_count": 42,
   "metadata": {},
   "outputs": [
    {
     "name": "stdout",
     "output_type": "stream",
     "text": [
      "[11:04:13] WARNING: /workspace/src/objective/regression_obj.cu:152: reg:linear is now deprecated in favor of reg:squarederror.\n",
      "Rmse: 1714.837137747176 \n",
      "Training Time: {71.098} s \n",
      "Predictions Time: {1.836} s \n",
      "Run Time: {72.934} s\n"
     ]
    }
   ],
   "source": [
    "#Saving XGBRegressorQuality results on testing dataset.\n",
    "warnings.simplefilter(action='ignore', category=FutureWarning)\n",
    "\n",
    "start = time()\n",
    "pipe_xgb_quality.fit(features_train, target_train)\n",
    "training_time['XGBRegressor_quality'] = np.round(time()-start, 3)\n",
    "\n",
    "start_predictions = time()\n",
    "predictions = pipe_xgb_quality.predict(features_test)\n",
    "rmse_xgb = mean_squared_error(target_test, predictions)**0.5\n",
    "predictions_time['XGBRegressor_quality'] = np.round(time()-start_predictions, 3)\n",
    "\n",
    "run_time['XGBRegressor_quality'] = np.round(time()-start, 3)\n",
    "\n",
    "print('Rmse:', rmse_xgb,'\\nTraining Time:', {training_time['XGBRegressor_quality']},'s',\\\n",
    "      '\\nPredictions Time:', {predictions_time['XGBRegressor_quality']},'s','\\nRun Time:', {run_time['XGBRegressor_quality']},'s')"
   ]
  },
  {
   "cell_type": "code",
   "execution_count": null,
   "metadata": {},
   "outputs": [
    {
     "name": "stdout",
     "output_type": "stream",
     "text": [
      "0:\tlearn: 3392.6868424\ttotal: 3.09s\tremaining: 51m 25s\n",
      "100:\tlearn: 1281.2579742\ttotal: 3m 19s\tremaining: 29m 33s\n",
      "200:\tlearn: 1165.7591789\ttotal: 6m 39s\tremaining: 26m 29s\n",
      "300:\tlearn: 1097.1590422\ttotal: 9m 57s\tremaining: 23m 7s\n",
      "400:\tlearn: 1052.6240329\ttotal: 13m 9s\tremaining: 19m 39s\n",
      "500:\tlearn: 1020.4344638\ttotal: 16m 25s\tremaining: 16m 21s\n",
      "600:\tlearn: 994.2617019\ttotal: 19m 40s\tremaining: 13m 3s\n",
      "700:\tlearn: 972.7583702\ttotal: 22m 53s\tremaining: 9m 45s\n",
      "800:\tlearn: 956.2916035\ttotal: 26m 8s\tremaining: 6m 29s\n",
      "900:\tlearn: 942.0644573\ttotal: 29m 22s\tremaining: 3m 13s\n",
      "999:\tlearn: 929.7737219\ttotal: 32m 37s\tremaining: 0us\n"
     ]
    }
   ],
   "source": [
    "%%time\n",
    "#Saving CatBoostRegressor results on testing dataset.\n",
    "start = time()\n",
    "pipe_cat_boost_r.fit(features_train, target_train)\n",
    "training_time['CatBoostRegressor'] = np.round(time()-start, 3)\n",
    "\n",
    "start_predictions = time()\n",
    "predictions = pipe_cat_boost_r.predict(features_test)\n",
    "rmse_cat_boost = mean_squared_error(target_test, predictions)**0.5\n",
    "predictions_time['CatBoostRegressor'] = np.round(time()-start_predictions, 3)\n",
    "\n",
    "run_time['CatBoostRegressor'] = np.round(time()-start, 3)\n",
    "\n",
    "print('Rmse:', rmse_cat_boost,'\\nTraining Time:', {training_time['CatBoostRegressor']},'s',\\\n",
    "      '\\nPredictions Time:', {predictions_time['CatBoostRegressor']},'s','\\nRun Time:', {run_time['CatBoostRegressor']},'s')"
   ]
  },
  {
   "cell_type": "code",
   "execution_count": null,
   "metadata": {},
   "outputs": [],
   "source": [
    "rmse_dict = {'LinearRegression':rmse_linear, 'DecisionTreeRegressor': rmse_dtr, 'RandomForestRegressor':rmse_rfr, 'LGBMRegressor':rmse_lgbm, 'XGBRegressor':rmse_xgb, 'CatBoostRegressor':rmse_cat_boost}"
   ]
  },
  {
   "cell_type": "code",
   "execution_count": null,
   "metadata": {},
   "outputs": [],
   "source": [
    "print(training_time)\n",
    "print()\n",
    "print(predictions_time)\n",
    "print()\n",
    "print(run_time)\n",
    "print()\n",
    "print(rmse_dict)"
   ]
  },
  {
   "cell_type": "markdown",
   "metadata": {},
   "source": [
    "# Brief summarize. Point 3\n",
    "\n",
    "MODEL ANALYSIS ON TESTING SET. \n",
    "\n",
    "I rewrote the pipelines for models and gradient boosting tecniques this time with the right hyperparameters. Created various dictionaries to store the results from the testing predictions.\n",
    "\n",
    "-   LinearRegression: \\\n",
    "    Rmse: 3029.9790047276947 \\\n",
    "    Training Time: {0.128} s \\\n",
    "    Predictions Time: {0.03} s \\\n",
    "    Run Time: {0.16} s\n",
    "    \n",
    "    \n",
    "-   DecisionTreeRegressor: \\\n",
    "    Rmse: 2025.7881383285292 \\\n",
    "    Training Time: {1.228} s \\\n",
    "    Predictions Time: {0.058} s \\\n",
    "    Run Time: {1.286} s\n",
    "    \n",
    "    \n",
    "-   RandomForestRegressor_fast: \\\n",
    "    Rmse: 1667.9125712348043 \\\n",
    "    Training Time: {78.948} s \\\n",
    "    Predictions Time: {5.19} s \\\n",
    "    Run Time: {84.138} s\n",
    "\n",
    "\n",
    "-   RandomForestRegressor_quality:\\\n",
    "    Rmse: 1653.884919717754 \\\n",
    "    Training Time: {175.973} s \\\n",
    "    Predictions Time: {7.706} s \\\n",
    "    Run Time: {183.679} s\n",
    "\n",
    "\n",
    "-   LGBMRegressor:\\\n",
    "    Rmse: 1620.3474149026972 \\\n",
    "    Training Time: {77.162} s \\\n",
    "    Predictions Time: {3.209} s \\\n",
    "    Run Time: {80.371} s\n",
    "\n",
    "\n",
    "-   XGBRegressor_fast:\\\n",
    "    Rmse: 1997.3352843679986 \\\n",
    "    Training Time: {15.929} s \\\n",
    "    Predictions Time: {0.335} s \\\n",
    "    Run Time: {16.264} s\n",
    "\n",
    "\n",
    "-   XGBRegressor_quality:\\\n",
    "    Rmse: 1714.837137747176 \\\n",
    "    Training Time: {71.098} s \\\n",
    "    Predictions Time: {1.836} s \\\n",
    "    Run Time: {72.934} s\n",
    "\n",
    "\n",
    "-   CatBoostRegressor: \n",
    "        \n",
    "        Can't retrieve the results here, can I have some help figure this out?\n",
    "\n",
    "The best quality was obtained by LGBMRegressor, RandomForestRegressor_quality and XGBRegressor_quality (I suppose even CatBoostRegressor, but should be proven). \n",
    "\n",
    "The models that trained faster were LinearRegression and DecisionTreeRegressor. LGBM obtained the best results looking to RMSE metric and run time. Way faster then the RFR model.\n",
    "\n",
    "The final Runtime was reflected the training one.\n",
    "\n",
    "Afterall every model built had a great result if compared to our dummy model (LinearRegression)."
   ]
  }
 ],
 "metadata": {
  "ExecuteTimeLog": [
   {
    "duration": 12832,
    "start_time": "2021-06-09T09:47:28.804Z"
   },
   {
    "duration": 11313,
    "start_time": "2021-06-09T09:47:41.639Z"
   },
   {
    "duration": 5,
    "start_time": "2021-06-09T09:47:52.957Z"
   },
   {
    "duration": 162,
    "start_time": "2021-06-09T09:47:52.965Z"
   },
   {
    "duration": 48,
    "start_time": "2021-06-09T09:47:53.129Z"
   },
   {
    "duration": 122,
    "start_time": "2021-06-09T09:47:53.180Z"
   },
   {
    "duration": 155,
    "start_time": "2021-06-09T09:47:53.304Z"
   },
   {
    "duration": 5,
    "start_time": "2021-06-09T09:47:53.462Z"
   },
   {
    "duration": 88,
    "start_time": "2021-06-09T09:47:53.469Z"
   },
   {
    "duration": 1276,
    "start_time": "2021-06-09T09:47:53.559Z"
   },
   {
    "duration": 6,
    "start_time": "2021-06-09T09:48:02.068Z"
   },
   {
    "duration": 15,
    "start_time": "2021-06-09T09:48:11.324Z"
   },
   {
    "duration": 93,
    "start_time": "2021-06-09T09:59:36.367Z"
   },
   {
    "duration": 111,
    "start_time": "2021-06-09T09:59:45.610Z"
   },
   {
    "duration": 874,
    "start_time": "2021-06-09T10:00:13.054Z"
   },
   {
    "duration": 5,
    "start_time": "2021-06-09T10:00:13.931Z"
   },
   {
    "duration": 90,
    "start_time": "2021-06-09T10:00:13.939Z"
   },
   {
    "duration": 33,
    "start_time": "2021-06-09T10:00:14.082Z"
   },
   {
    "duration": 102,
    "start_time": "2021-06-09T10:00:14.924Z"
   },
   {
    "duration": 139,
    "start_time": "2021-06-09T10:00:16.116Z"
   },
   {
    "duration": 5,
    "start_time": "2021-06-09T10:00:21.237Z"
   },
   {
    "duration": 87,
    "start_time": "2021-06-09T10:00:21.469Z"
   },
   {
    "duration": 1190,
    "start_time": "2021-06-09T10:00:21.624Z"
   },
   {
    "duration": 13,
    "start_time": "2021-06-09T10:00:25.213Z"
   },
   {
    "duration": 41,
    "start_time": "2021-06-09T10:00:26.252Z"
   },
   {
    "duration": 78,
    "start_time": "2021-06-09T10:00:27.651Z"
   },
   {
    "duration": 90,
    "start_time": "2021-06-09T10:00:37.076Z"
   },
   {
    "duration": 111,
    "start_time": "2021-06-09T10:00:43.796Z"
   },
   {
    "duration": 6,
    "start_time": "2021-06-09T10:00:59.750Z"
   },
   {
    "duration": 16,
    "start_time": "2021-06-09T10:01:03.118Z"
   },
   {
    "duration": 7,
    "start_time": "2021-06-09T10:01:04.006Z"
   },
   {
    "duration": 12,
    "start_time": "2021-06-09T10:01:04.564Z"
   },
   {
    "duration": 34,
    "start_time": "2021-06-09T10:01:19.174Z"
   },
   {
    "duration": 20,
    "start_time": "2021-06-09T10:01:31.573Z"
   },
   {
    "duration": 16,
    "start_time": "2021-06-09T10:01:45.093Z"
   },
   {
    "duration": 11,
    "start_time": "2021-06-09T10:01:58.838Z"
   },
   {
    "duration": 403,
    "start_time": "2021-06-09T10:02:07.551Z"
   },
   {
    "duration": 111,
    "start_time": "2021-06-09T10:02:15.335Z"
   },
   {
    "duration": 35,
    "start_time": "2021-06-09T10:02:41.703Z"
   },
   {
    "duration": 9,
    "start_time": "2021-06-09T10:04:33.210Z"
   },
   {
    "duration": 1342,
    "start_time": "2021-06-09T10:04:40.914Z"
   },
   {
    "duration": 295,
    "start_time": "2021-06-09T10:04:53.900Z"
   },
   {
    "duration": 27,
    "start_time": "2021-06-09T10:13:12.878Z"
   },
   {
    "duration": 76,
    "start_time": "2021-06-09T10:20:20.105Z"
   },
   {
    "duration": 39,
    "start_time": "2021-06-09T10:20:45.318Z"
   },
   {
    "duration": 800,
    "start_time": "2021-06-09T10:22:32.407Z"
   },
   {
    "duration": 5,
    "start_time": "2021-06-09T10:22:33.209Z"
   },
   {
    "duration": 123,
    "start_time": "2021-06-09T10:22:33.216Z"
   },
   {
    "duration": 47,
    "start_time": "2021-06-09T10:22:33.342Z"
   },
   {
    "duration": 120,
    "start_time": "2021-06-09T10:22:33.392Z"
   },
   {
    "duration": 155,
    "start_time": "2021-06-09T10:22:33.515Z"
   },
   {
    "duration": 7,
    "start_time": "2021-06-09T10:22:33.672Z"
   },
   {
    "duration": 100,
    "start_time": "2021-06-09T10:22:33.682Z"
   },
   {
    "duration": 1236,
    "start_time": "2021-06-09T10:22:33.785Z"
   },
   {
    "duration": 13,
    "start_time": "2021-06-09T10:22:35.023Z"
   },
   {
    "duration": 52,
    "start_time": "2021-06-09T10:22:35.039Z"
   },
   {
    "duration": 121,
    "start_time": "2021-06-09T10:22:35.094Z"
   },
   {
    "duration": 11,
    "start_time": "2021-06-09T10:22:35.218Z"
   },
   {
    "duration": 51,
    "start_time": "2021-06-09T10:22:35.231Z"
   },
   {
    "duration": 32,
    "start_time": "2021-06-09T10:22:35.285Z"
   },
   {
    "duration": 207,
    "start_time": "2021-06-09T10:22:35.448Z"
   },
   {
    "duration": 37,
    "start_time": "2021-06-09T10:22:36.409Z"
   },
   {
    "duration": 437,
    "start_time": "2021-06-09T10:26:04.812Z"
   },
   {
    "duration": 549,
    "start_time": "2021-06-09T10:26:14.029Z"
   },
   {
    "duration": 466,
    "start_time": "2021-06-09T10:27:50.418Z"
   },
   {
    "duration": 451,
    "start_time": "2021-06-09T10:28:30.105Z"
   },
   {
    "duration": 201,
    "start_time": "2021-06-09T10:28:40.833Z"
   },
   {
    "duration": 36,
    "start_time": "2021-06-09T10:28:42.306Z"
   },
   {
    "duration": 825,
    "start_time": "2021-06-09T10:28:49.051Z"
   },
   {
    "duration": 5,
    "start_time": "2021-06-09T10:28:49.878Z"
   },
   {
    "duration": 93,
    "start_time": "2021-06-09T10:28:49.886Z"
   },
   {
    "duration": 34,
    "start_time": "2021-06-09T10:28:49.981Z"
   },
   {
    "duration": 119,
    "start_time": "2021-06-09T10:28:50.018Z"
   },
   {
    "duration": 159,
    "start_time": "2021-06-09T10:28:50.140Z"
   },
   {
    "duration": 12,
    "start_time": "2021-06-09T10:28:50.302Z"
   },
   {
    "duration": 105,
    "start_time": "2021-06-09T10:28:50.317Z"
   },
   {
    "duration": 1269,
    "start_time": "2021-06-09T10:28:50.425Z"
   },
   {
    "duration": 12,
    "start_time": "2021-06-09T10:28:51.698Z"
   },
   {
    "duration": 57,
    "start_time": "2021-06-09T10:28:51.713Z"
   },
   {
    "duration": 106,
    "start_time": "2021-06-09T10:28:51.773Z"
   },
   {
    "duration": 11,
    "start_time": "2021-06-09T10:28:51.881Z"
   },
   {
    "duration": 40,
    "start_time": "2021-06-09T10:28:51.894Z"
   },
   {
    "duration": 122,
    "start_time": "2021-06-09T10:28:51.936Z"
   },
   {
    "duration": 241,
    "start_time": "2021-06-09T10:28:52.062Z"
   },
   {
    "duration": 51,
    "start_time": "2021-06-09T10:28:52.305Z"
   },
   {
    "duration": 37,
    "start_time": "2021-06-09T10:29:10.761Z"
   },
   {
    "duration": 283,
    "start_time": "2021-06-09T10:29:45.722Z"
   },
   {
    "duration": 38,
    "start_time": "2021-06-09T10:29:46.770Z"
   },
   {
    "duration": 110,
    "start_time": "2021-06-09T10:30:14.836Z"
   },
   {
    "duration": 47,
    "start_time": "2021-06-09T10:31:57.725Z"
   },
   {
    "duration": 47,
    "start_time": "2021-06-09T10:33:28.422Z"
   },
   {
    "duration": 51,
    "start_time": "2021-06-09T10:36:47.443Z"
   },
   {
    "duration": 47,
    "start_time": "2021-06-09T10:37:04.195Z"
   },
   {
    "duration": 37,
    "start_time": "2021-06-09T10:38:09.668Z"
   },
   {
    "duration": 38,
    "start_time": "2021-06-09T10:38:48.375Z"
   },
   {
    "duration": 36,
    "start_time": "2021-06-09T10:38:53.071Z"
   },
   {
    "duration": 41,
    "start_time": "2021-06-09T10:39:09.144Z"
   },
   {
    "duration": 35,
    "start_time": "2021-06-09T10:39:43.801Z"
   },
   {
    "duration": 70,
    "start_time": "2021-06-09T10:41:09.033Z"
   },
   {
    "duration": 16,
    "start_time": "2021-06-09T10:41:09.850Z"
   },
   {
    "duration": 41,
    "start_time": "2021-06-09T10:41:18.633Z"
   },
   {
    "duration": 40,
    "start_time": "2021-06-09T10:41:51.530Z"
   },
   {
    "duration": 830,
    "start_time": "2021-06-09T10:43:19.606Z"
   },
   {
    "duration": 5,
    "start_time": "2021-06-09T10:43:20.438Z"
   },
   {
    "duration": 83,
    "start_time": "2021-06-09T10:43:20.456Z"
   },
   {
    "duration": 47,
    "start_time": "2021-06-09T10:43:20.541Z"
   },
   {
    "duration": 126,
    "start_time": "2021-06-09T10:43:20.590Z"
   },
   {
    "duration": 157,
    "start_time": "2021-06-09T10:43:20.718Z"
   },
   {
    "duration": 5,
    "start_time": "2021-06-09T10:43:20.877Z"
   },
   {
    "duration": 98,
    "start_time": "2021-06-09T10:43:20.885Z"
   },
   {
    "duration": 1249,
    "start_time": "2021-06-09T10:43:20.985Z"
   },
   {
    "duration": 19,
    "start_time": "2021-06-09T10:43:22.237Z"
   },
   {
    "duration": 40,
    "start_time": "2021-06-09T10:43:22.258Z"
   },
   {
    "duration": 120,
    "start_time": "2021-06-09T10:43:22.300Z"
   },
   {
    "duration": 11,
    "start_time": "2021-06-09T10:43:22.422Z"
   },
   {
    "duration": 51,
    "start_time": "2021-06-09T10:43:22.435Z"
   },
   {
    "duration": 39,
    "start_time": "2021-06-09T10:43:22.489Z"
   },
   {
    "duration": 310,
    "start_time": "2021-06-09T10:43:22.531Z"
   },
   {
    "duration": 37,
    "start_time": "2021-06-09T10:43:22.843Z"
   },
   {
    "duration": 130,
    "start_time": "2021-06-09T10:43:22.883Z"
   },
   {
    "duration": 16,
    "start_time": "2021-06-09T10:43:23.435Z"
   },
   {
    "duration": 830,
    "start_time": "2021-06-09T10:43:39.753Z"
   },
   {
    "duration": 5,
    "start_time": "2021-06-09T10:43:40.585Z"
   },
   {
    "duration": 102,
    "start_time": "2021-06-09T10:43:40.593Z"
   },
   {
    "duration": 40,
    "start_time": "2021-06-09T10:43:40.698Z"
   },
   {
    "duration": 106,
    "start_time": "2021-06-09T10:43:40.756Z"
   },
   {
    "duration": 157,
    "start_time": "2021-06-09T10:43:40.864Z"
   },
   {
    "duration": 5,
    "start_time": "2021-06-09T10:43:41.024Z"
   },
   {
    "duration": 109,
    "start_time": "2021-06-09T10:43:41.031Z"
   },
   {
    "duration": 1238,
    "start_time": "2021-06-09T10:43:41.143Z"
   },
   {
    "duration": 11,
    "start_time": "2021-06-09T10:43:42.384Z"
   },
   {
    "duration": 58,
    "start_time": "2021-06-09T10:43:42.398Z"
   },
   {
    "duration": 113,
    "start_time": "2021-06-09T10:43:42.459Z"
   },
   {
    "duration": 11,
    "start_time": "2021-06-09T10:43:42.575Z"
   },
   {
    "duration": 36,
    "start_time": "2021-06-09T10:43:42.589Z"
   },
   {
    "duration": 59,
    "start_time": "2021-06-09T10:43:42.628Z"
   },
   {
    "duration": 39,
    "start_time": "2021-06-09T10:43:42.689Z"
   },
   {
    "duration": 154,
    "start_time": "2021-06-09T10:43:42.731Z"
   },
   {
    "duration": 252,
    "start_time": "2021-06-09T10:43:43.638Z"
   },
   {
    "duration": 37,
    "start_time": "2021-06-09T10:43:59.181Z"
   },
   {
    "duration": 6,
    "start_time": "2021-06-09T10:44:14.333Z"
   },
   {
    "duration": 104,
    "start_time": "2021-06-09T10:45:06.680Z"
   },
   {
    "duration": 6,
    "start_time": "2021-06-09T10:45:13.894Z"
   },
   {
    "duration": 105,
    "start_time": "2021-06-09T10:45:42.736Z"
   },
   {
    "duration": 12,
    "start_time": "2021-06-09T10:46:54.992Z"
   },
   {
    "duration": 13,
    "start_time": "2021-06-09T10:47:39.425Z"
   },
   {
    "duration": 39,
    "start_time": "2021-06-09T10:49:05.187Z"
   },
   {
    "duration": 37,
    "start_time": "2021-06-09T10:49:45.836Z"
   },
   {
    "duration": 56,
    "start_time": "2021-06-09T10:51:00.542Z"
   },
   {
    "duration": 43,
    "start_time": "2021-06-09T10:52:04.064Z"
   },
   {
    "duration": 78,
    "start_time": "2021-06-09T10:53:17.903Z"
   },
   {
    "duration": 793,
    "start_time": "2021-06-09T10:53:29.943Z"
   },
   {
    "duration": 5,
    "start_time": "2021-06-09T10:53:30.738Z"
   },
   {
    "duration": 118,
    "start_time": "2021-06-09T10:53:30.757Z"
   },
   {
    "duration": 33,
    "start_time": "2021-06-09T10:53:30.877Z"
   },
   {
    "duration": 121,
    "start_time": "2021-06-09T10:53:30.912Z"
   },
   {
    "duration": 148,
    "start_time": "2021-06-09T10:53:31.035Z"
   },
   {
    "duration": 6,
    "start_time": "2021-06-09T10:53:31.186Z"
   },
   {
    "duration": 110,
    "start_time": "2021-06-09T10:53:31.194Z"
   },
   {
    "duration": 1223,
    "start_time": "2021-06-09T10:53:31.307Z"
   },
   {
    "duration": 26,
    "start_time": "2021-06-09T10:53:32.533Z"
   },
   {
    "duration": 40,
    "start_time": "2021-06-09T10:53:32.561Z"
   },
   {
    "duration": 127,
    "start_time": "2021-06-09T10:53:32.603Z"
   },
   {
    "duration": 10,
    "start_time": "2021-06-09T10:53:32.733Z"
   },
   {
    "duration": 38,
    "start_time": "2021-06-09T10:53:32.757Z"
   },
   {
    "duration": 32,
    "start_time": "2021-06-09T10:53:32.797Z"
   },
   {
    "duration": 381,
    "start_time": "2021-06-09T10:53:32.873Z"
   },
   {
    "duration": 239,
    "start_time": "2021-06-09T10:53:33.304Z"
   },
   {
    "duration": 37,
    "start_time": "2021-06-09T10:53:33.545Z"
   },
   {
    "duration": 54,
    "start_time": "2021-06-09T10:53:34.265Z"
   },
   {
    "duration": 52,
    "start_time": "2021-06-09T10:53:34.401Z"
   },
   {
    "duration": 51,
    "start_time": "2021-06-09T10:54:00.858Z"
   },
   {
    "duration": 46,
    "start_time": "2021-06-09T10:54:37.298Z"
   },
   {
    "duration": 38,
    "start_time": "2021-06-09T10:55:15.467Z"
   },
   {
    "duration": 734,
    "start_time": "2021-06-09T10:56:21.213Z"
   },
   {
    "duration": 782,
    "start_time": "2021-06-09T10:57:02.512Z"
   },
   {
    "duration": 278,
    "start_time": "2021-06-09T10:57:31.728Z"
   },
   {
    "duration": 38,
    "start_time": "2021-06-09T10:58:00.214Z"
   },
   {
    "duration": 276,
    "start_time": "2021-06-09T10:58:27.224Z"
   },
   {
    "duration": 620,
    "start_time": "2021-06-09T10:58:35.031Z"
   },
   {
    "duration": 36,
    "start_time": "2021-06-09T10:58:35.734Z"
   },
   {
    "duration": 797,
    "start_time": "2021-06-09T10:59:04.539Z"
   },
   {
    "duration": 4,
    "start_time": "2021-06-09T10:59:05.339Z"
   },
   {
    "duration": 121,
    "start_time": "2021-06-09T10:59:05.357Z"
   },
   {
    "duration": 35,
    "start_time": "2021-06-09T10:59:05.480Z"
   },
   {
    "duration": 125,
    "start_time": "2021-06-09T10:59:05.519Z"
   },
   {
    "duration": 175,
    "start_time": "2021-06-09T10:59:05.646Z"
   },
   {
    "duration": 5,
    "start_time": "2021-06-09T10:59:05.824Z"
   },
   {
    "duration": 105,
    "start_time": "2021-06-09T10:59:05.831Z"
   },
   {
    "duration": 1536,
    "start_time": "2021-06-09T10:59:05.938Z"
   },
   {
    "duration": 11,
    "start_time": "2021-06-09T10:59:07.477Z"
   },
   {
    "duration": 43,
    "start_time": "2021-06-09T10:59:07.491Z"
   },
   {
    "duration": 124,
    "start_time": "2021-06-09T10:59:07.536Z"
   },
   {
    "duration": 11,
    "start_time": "2021-06-09T10:59:07.663Z"
   },
   {
    "duration": 35,
    "start_time": "2021-06-09T10:59:07.677Z"
   },
   {
    "duration": 56,
    "start_time": "2021-06-09T10:59:07.714Z"
   },
   {
    "duration": 389,
    "start_time": "2021-06-09T10:59:07.772Z"
   },
   {
    "duration": 1365,
    "start_time": "2021-06-09T10:59:06.798Z"
   },
   {
    "duration": 1365,
    "start_time": "2021-06-09T10:59:06.799Z"
   },
   {
    "duration": 1366,
    "start_time": "2021-06-09T10:59:06.800Z"
   },
   {
    "duration": 1366,
    "start_time": "2021-06-09T10:59:06.801Z"
   },
   {
    "duration": 1366,
    "start_time": "2021-06-09T10:59:06.802Z"
   },
   {
    "duration": 38,
    "start_time": "2021-06-09T10:59:08.329Z"
   },
   {
    "duration": 839,
    "start_time": "2021-06-09T11:00:05.183Z"
   },
   {
    "duration": 4,
    "start_time": "2021-06-09T11:00:06.025Z"
   },
   {
    "duration": 141,
    "start_time": "2021-06-09T11:00:06.032Z"
   },
   {
    "duration": 37,
    "start_time": "2021-06-09T11:00:06.176Z"
   },
   {
    "duration": 140,
    "start_time": "2021-06-09T11:00:06.216Z"
   },
   {
    "duration": 183,
    "start_time": "2021-06-09T11:00:06.360Z"
   },
   {
    "duration": 5,
    "start_time": "2021-06-09T11:00:06.545Z"
   },
   {
    "duration": 88,
    "start_time": "2021-06-09T11:00:06.585Z"
   },
   {
    "duration": 1217,
    "start_time": "2021-06-09T11:00:06.755Z"
   },
   {
    "duration": 13,
    "start_time": "2021-06-09T11:00:07.974Z"
   },
   {
    "duration": 65,
    "start_time": "2021-06-09T11:00:07.991Z"
   },
   {
    "duration": 109,
    "start_time": "2021-06-09T11:00:08.059Z"
   },
   {
    "duration": 11,
    "start_time": "2021-06-09T11:00:08.267Z"
   },
   {
    "duration": 35,
    "start_time": "2021-06-09T11:00:08.804Z"
   },
   {
    "duration": 31,
    "start_time": "2021-06-09T11:00:09.314Z"
   },
   {
    "duration": 374,
    "start_time": "2021-06-09T11:00:13.571Z"
   },
   {
    "duration": 16,
    "start_time": "2021-06-09T11:00:26.881Z"
   },
   {
    "duration": 358,
    "start_time": "2021-06-09T11:00:56.955Z"
   },
   {
    "duration": 269,
    "start_time": "2021-06-09T11:01:07.371Z"
   },
   {
    "duration": 17,
    "start_time": "2021-06-09T11:01:17.212Z"
   },
   {
    "duration": 14,
    "start_time": "2021-06-09T11:01:23.164Z"
   },
   {
    "duration": 236,
    "start_time": "2021-06-09T11:01:50.325Z"
   },
   {
    "duration": 119,
    "start_time": "2021-06-09T11:01:51.349Z"
   },
   {
    "duration": 36,
    "start_time": "2021-06-09T11:02:08.420Z"
   },
   {
    "duration": 56,
    "start_time": "2021-06-09T11:02:16.950Z"
   },
   {
    "duration": 51,
    "start_time": "2021-06-09T11:02:18.453Z"
   },
   {
    "duration": 644,
    "start_time": "2021-06-09T11:02:19.357Z"
   },
   {
    "duration": 36,
    "start_time": "2021-06-09T11:02:20.772Z"
   },
   {
    "duration": 717,
    "start_time": "2021-06-09T11:03:56.231Z"
   },
   {
    "duration": 36,
    "start_time": "2021-06-09T11:03:57.350Z"
   },
   {
    "duration": 35,
    "start_time": "2021-06-09T11:04:08.839Z"
   },
   {
    "duration": 12,
    "start_time": "2021-06-09T11:05:11.136Z"
   },
   {
    "duration": 11,
    "start_time": "2021-06-09T11:05:17.657Z"
   },
   {
    "duration": 799,
    "start_time": "2021-06-09T11:05:48.866Z"
   },
   {
    "duration": 4,
    "start_time": "2021-06-09T11:05:49.668Z"
   },
   {
    "duration": 111,
    "start_time": "2021-06-09T11:05:50.586Z"
   },
   {
    "duration": 33,
    "start_time": "2021-06-09T11:05:52.921Z"
   },
   {
    "duration": 106,
    "start_time": "2021-06-09T11:05:57.153Z"
   },
   {
    "duration": 182,
    "start_time": "2021-06-09T11:05:58.203Z"
   },
   {
    "duration": 6,
    "start_time": "2021-06-09T11:06:00.193Z"
   },
   {
    "duration": 61,
    "start_time": "2021-06-09T11:06:12.938Z"
   },
   {
    "duration": 821,
    "start_time": "2021-06-09T11:07:51.238Z"
   },
   {
    "duration": 5,
    "start_time": "2021-06-09T11:07:52.061Z"
   },
   {
    "duration": 111,
    "start_time": "2021-06-09T11:07:52.069Z"
   },
   {
    "duration": 49,
    "start_time": "2021-06-09T11:07:52.183Z"
   },
   {
    "duration": 130,
    "start_time": "2021-06-09T11:07:52.235Z"
   },
   {
    "duration": 156,
    "start_time": "2021-06-09T11:07:52.367Z"
   },
   {
    "duration": 5,
    "start_time": "2021-06-09T11:07:52.526Z"
   },
   {
    "duration": 86,
    "start_time": "2021-06-09T11:07:52.534Z"
   },
   {
    "duration": 87,
    "start_time": "2021-06-09T11:07:52.623Z"
   },
   {
    "duration": 1265,
    "start_time": "2021-06-09T11:07:52.876Z"
   },
   {
    "duration": 16,
    "start_time": "2021-06-09T11:07:54.143Z"
   },
   {
    "duration": 39,
    "start_time": "2021-06-09T11:07:54.162Z"
   },
   {
    "duration": 119,
    "start_time": "2021-06-09T11:07:54.203Z"
   },
   {
    "duration": 10,
    "start_time": "2021-06-09T11:07:54.325Z"
   },
   {
    "duration": 54,
    "start_time": "2021-06-09T11:07:54.338Z"
   },
   {
    "duration": 32,
    "start_time": "2021-06-09T11:07:54.394Z"
   },
   {
    "duration": 321,
    "start_time": "2021-06-09T11:07:54.429Z"
   },
   {
    "duration": 120,
    "start_time": "2021-06-09T11:07:54.753Z"
   },
   {
    "duration": 36,
    "start_time": "2021-06-09T11:07:54.876Z"
   },
   {
    "duration": 76,
    "start_time": "2021-06-09T11:07:54.914Z"
   },
   {
    "duration": 34,
    "start_time": "2021-06-09T11:07:54.993Z"
   },
   {
    "duration": 726,
    "start_time": "2021-06-09T11:07:55.030Z"
   },
   {
    "duration": 36,
    "start_time": "2021-06-09T11:07:55.759Z"
   },
   {
    "duration": 12,
    "start_time": "2021-06-09T11:08:02.819Z"
   },
   {
    "duration": 107,
    "start_time": "2021-06-09T11:08:10.891Z"
   },
   {
    "duration": 7,
    "start_time": "2021-06-09T11:08:12.308Z"
   },
   {
    "duration": 13,
    "start_time": "2021-06-09T11:08:19.421Z"
   },
   {
    "duration": 64,
    "start_time": "2021-06-09T11:08:57.142Z"
   },
   {
    "duration": 695,
    "start_time": "2021-06-09T11:08:59.717Z"
   },
   {
    "duration": 37,
    "start_time": "2021-06-09T11:09:00.709Z"
   },
   {
    "duration": 11,
    "start_time": "2021-06-09T11:09:01.581Z"
   },
   {
    "duration": 61,
    "start_time": "2021-06-09T11:09:31.006Z"
   },
   {
    "duration": 787,
    "start_time": "2021-06-09T11:09:48.609Z"
   },
   {
    "duration": 5,
    "start_time": "2021-06-09T11:09:49.399Z"
   },
   {
    "duration": 128,
    "start_time": "2021-06-09T11:09:49.407Z"
   },
   {
    "duration": 40,
    "start_time": "2021-06-09T11:09:49.537Z"
   },
   {
    "duration": 114,
    "start_time": "2021-06-09T11:09:49.579Z"
   },
   {
    "duration": 148,
    "start_time": "2021-06-09T11:09:50.606Z"
   },
   {
    "duration": 6,
    "start_time": "2021-06-09T11:09:51.813Z"
   },
   {
    "duration": 66,
    "start_time": "2021-06-09T11:09:52.615Z"
   },
   {
    "duration": 2644,
    "start_time": "2021-06-09T11:10:17.873Z"
   },
   {
    "duration": 5,
    "start_time": "2021-06-09T11:10:20.520Z"
   },
   {
    "duration": 159,
    "start_time": "2021-06-09T11:10:20.530Z"
   },
   {
    "duration": 39,
    "start_time": "2021-06-09T11:10:20.692Z"
   },
   {
    "duration": 125,
    "start_time": "2021-06-09T11:10:20.734Z"
   },
   {
    "duration": 152,
    "start_time": "2021-06-09T11:10:20.862Z"
   },
   {
    "duration": 5,
    "start_time": "2021-06-09T11:10:21.017Z"
   },
   {
    "duration": 92,
    "start_time": "2021-06-09T11:10:21.026Z"
   },
   {
    "duration": 136,
    "start_time": "2021-06-09T11:10:21.122Z"
   },
   {
    "duration": 1248,
    "start_time": "2021-06-09T11:10:21.261Z"
   },
   {
    "duration": 17,
    "start_time": "2021-06-09T11:10:22.512Z"
   },
   {
    "duration": 64,
    "start_time": "2021-06-09T11:10:22.532Z"
   },
   {
    "duration": 128,
    "start_time": "2021-06-09T11:10:22.599Z"
   },
   {
    "duration": 12,
    "start_time": "2021-06-09T11:10:22.730Z"
   },
   {
    "duration": 37,
    "start_time": "2021-06-09T11:10:22.756Z"
   },
   {
    "duration": 33,
    "start_time": "2021-06-09T11:10:22.796Z"
   },
   {
    "duration": 337,
    "start_time": "2021-06-09T11:10:22.832Z"
   },
   {
    "duration": 128,
    "start_time": "2021-06-09T11:10:23.172Z"
   },
   {
    "duration": 38,
    "start_time": "2021-06-09T11:10:23.302Z"
   },
   {
    "duration": 66,
    "start_time": "2021-06-09T11:10:23.343Z"
   },
   {
    "duration": 71,
    "start_time": "2021-06-09T11:10:23.411Z"
   },
   {
    "duration": 741,
    "start_time": "2021-06-09T11:10:23.486Z"
   },
   {
    "duration": 46,
    "start_time": "2021-06-09T11:10:24.229Z"
   },
   {
    "duration": 12,
    "start_time": "2021-06-09T11:10:24.277Z"
   },
   {
    "duration": 108,
    "start_time": "2021-06-09T11:11:08.696Z"
   },
   {
    "duration": 103,
    "start_time": "2021-06-09T11:11:16.672Z"
   },
   {
    "duration": 806,
    "start_time": "2021-06-09T11:17:47.664Z"
   },
   {
    "duration": 424,
    "start_time": "2021-06-09T11:18:45.898Z"
   },
   {
    "duration": 142,
    "start_time": "2021-06-09T11:18:55.282Z"
   },
   {
    "duration": 2693,
    "start_time": "2021-06-09T11:19:10.917Z"
   },
   {
    "duration": 5,
    "start_time": "2021-06-09T11:19:13.613Z"
   },
   {
    "duration": 157,
    "start_time": "2021-06-09T11:19:13.621Z"
   },
   {
    "duration": 39,
    "start_time": "2021-06-09T11:19:13.780Z"
   },
   {
    "duration": 118,
    "start_time": "2021-06-09T11:19:13.821Z"
   },
   {
    "duration": 161,
    "start_time": "2021-06-09T11:19:13.942Z"
   },
   {
    "duration": 5,
    "start_time": "2021-06-09T11:19:14.105Z"
   },
   {
    "duration": 91,
    "start_time": "2021-06-09T11:19:14.114Z"
   },
   {
    "duration": 80,
    "start_time": "2021-06-09T11:19:14.208Z"
   },
   {
    "duration": 1260,
    "start_time": "2021-06-09T11:19:14.291Z"
   },
   {
    "duration": 16,
    "start_time": "2021-06-09T11:19:15.556Z"
   },
   {
    "duration": 41,
    "start_time": "2021-06-09T11:19:15.574Z"
   },
   {
    "duration": 131,
    "start_time": "2021-06-09T11:19:15.618Z"
   },
   {
    "duration": 10,
    "start_time": "2021-06-09T11:19:15.751Z"
   },
   {
    "duration": 41,
    "start_time": "2021-06-09T11:19:15.764Z"
   },
   {
    "duration": 60,
    "start_time": "2021-06-09T11:19:15.808Z"
   },
   {
    "duration": 310,
    "start_time": "2021-06-09T11:19:15.871Z"
   },
   {
    "duration": 122,
    "start_time": "2021-06-09T11:19:16.183Z"
   },
   {
    "duration": 48,
    "start_time": "2021-06-09T11:19:16.307Z"
   },
   {
    "duration": 57,
    "start_time": "2021-06-09T11:19:16.359Z"
   },
   {
    "duration": 76,
    "start_time": "2021-06-09T11:19:16.419Z"
   },
   {
    "duration": 720,
    "start_time": "2021-06-09T11:19:16.498Z"
   },
   {
    "duration": 48,
    "start_time": "2021-06-09T11:19:17.220Z"
   },
   {
    "duration": 129,
    "start_time": "2021-06-09T11:19:17.270Z"
   },
   {
    "duration": 1368,
    "start_time": "2021-06-09T11:19:18.955Z"
   },
   {
    "duration": 33,
    "start_time": "2021-06-09T11:20:39.485Z"
   },
   {
    "duration": 33,
    "start_time": "2021-06-09T11:21:04.206Z"
   },
   {
    "duration": 2735,
    "start_time": "2021-06-09T11:28:34.781Z"
   },
   {
    "duration": 5,
    "start_time": "2021-06-09T11:28:37.518Z"
   },
   {
    "duration": 154,
    "start_time": "2021-06-09T11:28:37.525Z"
   },
   {
    "duration": 40,
    "start_time": "2021-06-09T11:28:37.682Z"
   },
   {
    "duration": 131,
    "start_time": "2021-06-09T11:28:37.724Z"
   },
   {
    "duration": 146,
    "start_time": "2021-06-09T11:28:37.858Z"
   },
   {
    "duration": 6,
    "start_time": "2021-06-09T11:28:38.007Z"
   },
   {
    "duration": 93,
    "start_time": "2021-06-09T11:28:38.016Z"
   },
   {
    "duration": 80,
    "start_time": "2021-06-09T11:28:38.111Z"
   },
   {
    "duration": 1230,
    "start_time": "2021-06-09T11:28:38.194Z"
   },
   {
    "duration": 14,
    "start_time": "2021-06-09T11:28:39.426Z"
   },
   {
    "duration": 41,
    "start_time": "2021-06-09T11:28:39.458Z"
   },
   {
    "duration": 121,
    "start_time": "2021-06-09T11:28:39.501Z"
   },
   {
    "duration": 10,
    "start_time": "2021-06-09T11:28:39.624Z"
   },
   {
    "duration": 43,
    "start_time": "2021-06-09T11:28:39.637Z"
   },
   {
    "duration": 38,
    "start_time": "2021-06-09T11:28:39.683Z"
   },
   {
    "duration": 332,
    "start_time": "2021-06-09T11:28:39.724Z"
   },
   {
    "duration": 133,
    "start_time": "2021-06-09T11:28:40.059Z"
   },
   {
    "duration": 39,
    "start_time": "2021-06-09T11:28:40.194Z"
   },
   {
    "duration": 70,
    "start_time": "2021-06-09T11:28:40.236Z"
   },
   {
    "duration": 67,
    "start_time": "2021-06-09T11:28:40.308Z"
   },
   {
    "duration": 747,
    "start_time": "2021-06-09T11:28:40.377Z"
   },
   {
    "duration": 40,
    "start_time": "2021-06-09T11:28:41.126Z"
   },
   {
    "duration": 130,
    "start_time": "2021-06-09T11:28:41.169Z"
   },
   {
    "duration": 34,
    "start_time": "2021-06-09T11:29:04.892Z"
   },
   {
    "duration": 35,
    "start_time": "2021-06-09T11:29:35.069Z"
   },
   {
    "duration": 385,
    "start_time": "2021-06-09T11:31:59.042Z"
   },
   {
    "duration": 2722,
    "start_time": "2021-06-09T11:33:17.603Z"
   },
   {
    "duration": 6,
    "start_time": "2021-06-09T11:33:20.328Z"
   },
   {
    "duration": 169,
    "start_time": "2021-06-09T11:33:20.338Z"
   },
   {
    "duration": 55,
    "start_time": "2021-06-09T11:33:20.510Z"
   },
   {
    "duration": 122,
    "start_time": "2021-06-09T11:33:20.568Z"
   },
   {
    "duration": 163,
    "start_time": "2021-06-09T11:33:20.693Z"
   },
   {
    "duration": 6,
    "start_time": "2021-06-09T11:33:20.858Z"
   },
   {
    "duration": 94,
    "start_time": "2021-06-09T11:33:20.869Z"
   },
   {
    "duration": 71,
    "start_time": "2021-06-09T11:33:20.966Z"
   },
   {
    "duration": 1280,
    "start_time": "2021-06-09T11:33:21.040Z"
   },
   {
    "duration": 15,
    "start_time": "2021-06-09T11:33:22.322Z"
   },
   {
    "duration": 54,
    "start_time": "2021-06-09T11:33:22.340Z"
   },
   {
    "duration": 124,
    "start_time": "2021-06-09T11:33:22.396Z"
   },
   {
    "duration": 12,
    "start_time": "2021-06-09T11:33:22.522Z"
   },
   {
    "duration": 49,
    "start_time": "2021-06-09T11:33:22.536Z"
   },
   {
    "duration": 33,
    "start_time": "2021-06-09T11:33:22.587Z"
   },
   {
    "duration": 351,
    "start_time": "2021-06-09T11:33:22.623Z"
   },
   {
    "duration": 137,
    "start_time": "2021-06-09T11:33:22.976Z"
   },
   {
    "duration": 47,
    "start_time": "2021-06-09T11:33:23.115Z"
   },
   {
    "duration": 61,
    "start_time": "2021-06-09T11:33:23.165Z"
   },
   {
    "duration": 74,
    "start_time": "2021-06-09T11:33:23.229Z"
   },
   {
    "duration": 740,
    "start_time": "2021-06-09T11:33:23.305Z"
   },
   {
    "duration": 42,
    "start_time": "2021-06-09T11:33:24.049Z"
   },
   {
    "duration": 131,
    "start_time": "2021-06-09T11:33:24.093Z"
   },
   {
    "duration": 41,
    "start_time": "2021-06-09T11:33:24.227Z"
   },
   {
    "duration": 597,
    "start_time": "2021-06-09T11:33:24.270Z"
   },
   {
    "duration": 2831,
    "start_time": "2021-06-09T11:35:19.030Z"
   },
   {
    "duration": 5,
    "start_time": "2021-06-09T11:35:21.864Z"
   },
   {
    "duration": 152,
    "start_time": "2021-06-09T11:35:21.873Z"
   },
   {
    "duration": 49,
    "start_time": "2021-06-09T11:35:22.028Z"
   },
   {
    "duration": 124,
    "start_time": "2021-06-09T11:35:22.079Z"
   },
   {
    "duration": 160,
    "start_time": "2021-06-09T11:35:22.206Z"
   },
   {
    "duration": 5,
    "start_time": "2021-06-09T11:35:22.369Z"
   },
   {
    "duration": 90,
    "start_time": "2021-06-09T11:35:22.379Z"
   },
   {
    "duration": 88,
    "start_time": "2021-06-09T11:35:22.473Z"
   },
   {
    "duration": 1286,
    "start_time": "2021-06-09T11:35:22.563Z"
   },
   {
    "duration": 17,
    "start_time": "2021-06-09T11:35:23.852Z"
   },
   {
    "duration": 42,
    "start_time": "2021-06-09T11:35:23.871Z"
   },
   {
    "duration": 152,
    "start_time": "2021-06-09T11:35:23.917Z"
   },
   {
    "duration": 11,
    "start_time": "2021-06-09T11:35:24.072Z"
   },
   {
    "duration": 35,
    "start_time": "2021-06-09T11:35:24.086Z"
   },
   {
    "duration": 63,
    "start_time": "2021-06-09T11:35:24.123Z"
   },
   {
    "duration": 318,
    "start_time": "2021-06-09T11:35:24.189Z"
   },
   {
    "duration": 136,
    "start_time": "2021-06-09T11:35:24.509Z"
   },
   {
    "duration": 43,
    "start_time": "2021-06-09T11:35:24.648Z"
   },
   {
    "duration": 78,
    "start_time": "2021-06-09T11:35:24.694Z"
   },
   {
    "duration": 52,
    "start_time": "2021-06-09T11:35:24.774Z"
   },
   {
    "duration": 807,
    "start_time": "2021-06-09T11:35:24.830Z"
   },
   {
    "duration": 42,
    "start_time": "2021-06-09T11:35:25.640Z"
   },
   {
    "duration": 182,
    "start_time": "2021-06-09T11:35:25.685Z"
   },
   {
    "duration": 86,
    "start_time": "2021-06-09T11:35:25.870Z"
   },
   {
    "duration": 2826,
    "start_time": "2021-06-09T11:36:03.914Z"
   },
   {
    "duration": 4,
    "start_time": "2021-06-09T11:36:06.743Z"
   },
   {
    "duration": 167,
    "start_time": "2021-06-09T11:36:06.757Z"
   },
   {
    "duration": 48,
    "start_time": "2021-06-09T11:36:06.927Z"
   },
   {
    "duration": 127,
    "start_time": "2021-06-09T11:36:06.978Z"
   },
   {
    "duration": 157,
    "start_time": "2021-06-09T11:36:07.107Z"
   },
   {
    "duration": 6,
    "start_time": "2021-06-09T11:36:07.267Z"
   },
   {
    "duration": 86,
    "start_time": "2021-06-09T11:36:07.277Z"
   },
   {
    "duration": 90,
    "start_time": "2021-06-09T11:36:07.366Z"
   },
   {
    "duration": 1238,
    "start_time": "2021-06-09T11:36:07.458Z"
   },
   {
    "duration": 15,
    "start_time": "2021-06-09T11:36:08.698Z"
   },
   {
    "duration": 68,
    "start_time": "2021-06-09T11:36:08.716Z"
   },
   {
    "duration": 123,
    "start_time": "2021-06-09T11:36:08.787Z"
   },
   {
    "duration": 11,
    "start_time": "2021-06-09T11:36:08.912Z"
   },
   {
    "duration": 56,
    "start_time": "2021-06-09T11:36:08.925Z"
   },
   {
    "duration": 33,
    "start_time": "2021-06-09T11:36:08.984Z"
   },
   {
    "duration": 349,
    "start_time": "2021-06-09T11:36:09.020Z"
   },
   {
    "duration": 129,
    "start_time": "2021-06-09T11:36:09.371Z"
   },
   {
    "duration": 54,
    "start_time": "2021-06-09T11:36:09.502Z"
   },
   {
    "duration": 57,
    "start_time": "2021-06-09T11:36:09.558Z"
   },
   {
    "duration": 71,
    "start_time": "2021-06-09T11:36:09.617Z"
   },
   {
    "duration": 735,
    "start_time": "2021-06-09T11:36:09.691Z"
   },
   {
    "duration": 42,
    "start_time": "2021-06-09T11:36:10.430Z"
   },
   {
    "duration": 125,
    "start_time": "2021-06-09T11:36:10.475Z"
   },
   {
    "duration": 22,
    "start_time": "2021-06-09T11:36:10.603Z"
   },
   {
    "duration": 404,
    "start_time": "2021-06-09T11:36:10.627Z"
   },
   {
    "duration": 261,
    "start_time": "2021-06-09T11:36:38.496Z"
   },
   {
    "duration": 2666,
    "start_time": "2021-06-09T11:37:43.658Z"
   },
   {
    "duration": 6,
    "start_time": "2021-06-09T11:37:46.326Z"
   },
   {
    "duration": 156,
    "start_time": "2021-06-09T11:37:46.334Z"
   },
   {
    "duration": 38,
    "start_time": "2021-06-09T11:37:46.492Z"
   },
   {
    "duration": 126,
    "start_time": "2021-06-09T11:37:46.532Z"
   },
   {
    "duration": 151,
    "start_time": "2021-06-09T11:37:46.660Z"
   },
   {
    "duration": 5,
    "start_time": "2021-06-09T11:37:46.813Z"
   },
   {
    "duration": 88,
    "start_time": "2021-06-09T11:37:46.822Z"
   },
   {
    "duration": 82,
    "start_time": "2021-06-09T11:37:46.913Z"
   },
   {
    "duration": 1247,
    "start_time": "2021-06-09T11:37:46.998Z"
   },
   {
    "duration": 20,
    "start_time": "2021-06-09T11:37:48.248Z"
   },
   {
    "duration": 40,
    "start_time": "2021-06-09T11:37:48.270Z"
   },
   {
    "duration": 135,
    "start_time": "2021-06-09T11:37:48.312Z"
   },
   {
    "duration": 14,
    "start_time": "2021-06-09T11:37:48.449Z"
   },
   {
    "duration": 35,
    "start_time": "2021-06-09T11:37:48.465Z"
   },
   {
    "duration": 57,
    "start_time": "2021-06-09T11:37:48.503Z"
   },
   {
    "duration": 397,
    "start_time": "2021-06-09T11:37:48.563Z"
   },
   {
    "duration": 124,
    "start_time": "2021-06-09T11:37:48.963Z"
   },
   {
    "duration": 37,
    "start_time": "2021-06-09T11:37:49.089Z"
   },
   {
    "duration": 72,
    "start_time": "2021-06-09T11:37:49.128Z"
   },
   {
    "duration": 61,
    "start_time": "2021-06-09T11:37:49.203Z"
   },
   {
    "duration": 724,
    "start_time": "2021-06-09T11:37:49.268Z"
   },
   {
    "duration": 39,
    "start_time": "2021-06-09T11:37:49.994Z"
   },
   {
    "duration": 123,
    "start_time": "2021-06-09T11:37:50.035Z"
   },
   {
    "duration": 56,
    "start_time": "2021-06-09T11:37:50.161Z"
   },
   {
    "duration": 581,
    "start_time": "2021-06-09T11:37:55.370Z"
   },
   {
    "duration": 4,
    "start_time": "2021-06-09T14:10:34.140Z"
   },
   {
    "duration": 10,
    "start_time": "2021-06-09T14:12:44.495Z"
   },
   {
    "duration": 914,
    "start_time": "2021-06-09T14:12:57.134Z"
   },
   {
    "duration": 5,
    "start_time": "2021-06-09T14:12:58.055Z"
   },
   {
    "duration": 180,
    "start_time": "2021-06-09T14:12:58.065Z"
   },
   {
    "duration": 37,
    "start_time": "2021-06-09T14:12:58.248Z"
   },
   {
    "duration": 129,
    "start_time": "2021-06-09T14:12:58.289Z"
   },
   {
    "duration": 162,
    "start_time": "2021-06-09T14:12:58.421Z"
   },
   {
    "duration": 7,
    "start_time": "2021-06-09T14:12:58.586Z"
   },
   {
    "duration": 129,
    "start_time": "2021-06-09T14:12:58.597Z"
   },
   {
    "duration": 117,
    "start_time": "2021-06-09T14:12:58.729Z"
   },
   {
    "duration": 1376,
    "start_time": "2021-06-09T14:12:59.031Z"
   },
   {
    "duration": 15,
    "start_time": "2021-06-09T14:13:00.410Z"
   },
   {
    "duration": 43,
    "start_time": "2021-06-09T14:13:00.523Z"
   },
   {
    "duration": 46,
    "start_time": "2021-06-09T14:13:00.847Z"
   },
   {
    "duration": 104,
    "start_time": "2021-06-09T14:13:22.592Z"
   },
   {
    "duration": 11,
    "start_time": "2021-06-09T14:13:22.743Z"
   },
   {
    "duration": 36,
    "start_time": "2021-06-09T14:13:22.896Z"
   },
   {
    "duration": 29,
    "start_time": "2021-06-09T14:13:23.007Z"
   },
   {
    "duration": 295,
    "start_time": "2021-06-09T14:13:23.146Z"
   },
   {
    "duration": 136,
    "start_time": "2021-06-09T14:13:23.444Z"
   },
   {
    "duration": 38,
    "start_time": "2021-06-09T14:13:23.583Z"
   },
   {
    "duration": 75,
    "start_time": "2021-06-09T14:13:23.623Z"
   },
   {
    "duration": 66,
    "start_time": "2021-06-09T14:13:23.701Z"
   },
   {
    "duration": 728,
    "start_time": "2021-06-09T14:13:23.840Z"
   },
   {
    "duration": 39,
    "start_time": "2021-06-09T14:13:24.571Z"
   },
   {
    "duration": 127,
    "start_time": "2021-06-09T14:13:24.612Z"
   },
   {
    "duration": 65,
    "start_time": "2021-06-09T14:13:24.742Z"
   },
   {
    "duration": 629,
    "start_time": "2021-06-09T14:13:24.809Z"
   },
   {
    "duration": 554,
    "start_time": "2021-06-09T14:13:25.441Z"
   },
   {
    "duration": 791,
    "start_time": "2021-06-09T14:13:25.206Z"
   },
   {
    "duration": 256,
    "start_time": "2021-06-09T14:14:24.219Z"
   },
   {
    "duration": 277,
    "start_time": "2021-06-09T14:14:32.353Z"
   },
   {
    "duration": 116,
    "start_time": "2021-06-09T14:14:50.875Z"
   },
   {
    "duration": 32,
    "start_time": "2021-06-09T14:16:22.404Z"
   },
   {
    "duration": 244,
    "start_time": "2021-06-09T14:21:22.363Z"
   },
   {
    "duration": 839,
    "start_time": "2021-06-09T14:22:02.538Z"
   },
   {
    "duration": 5,
    "start_time": "2021-06-09T14:22:08.012Z"
   },
   {
    "duration": 111,
    "start_time": "2021-06-09T14:22:08.172Z"
   },
   {
    "duration": 36,
    "start_time": "2021-06-09T14:22:08.308Z"
   },
   {
    "duration": 105,
    "start_time": "2021-06-09T14:22:08.451Z"
   },
   {
    "duration": 142,
    "start_time": "2021-06-09T14:22:08.595Z"
   },
   {
    "duration": 15,
    "start_time": "2021-06-09T14:22:08.741Z"
   },
   {
    "duration": 64,
    "start_time": "2021-06-09T14:22:08.859Z"
   },
   {
    "duration": 80,
    "start_time": "2021-06-09T14:22:09.005Z"
   },
   {
    "duration": 1233,
    "start_time": "2021-06-09T14:22:09.122Z"
   },
   {
    "duration": 12,
    "start_time": "2021-06-09T14:22:10.358Z"
   },
   {
    "duration": 49,
    "start_time": "2021-06-09T14:22:10.372Z"
   },
   {
    "duration": 123,
    "start_time": "2021-06-09T14:22:10.423Z"
   },
   {
    "duration": 15,
    "start_time": "2021-06-09T14:22:10.549Z"
   },
   {
    "duration": 35,
    "start_time": "2021-06-09T14:22:10.566Z"
   },
   {
    "duration": 56,
    "start_time": "2021-06-09T14:22:10.603Z"
   },
   {
    "duration": 312,
    "start_time": "2021-06-09T14:22:10.662Z"
   },
   {
    "duration": 126,
    "start_time": "2021-06-09T14:22:10.976Z"
   },
   {
    "duration": 37,
    "start_time": "2021-06-09T14:22:11.104Z"
   },
   {
    "duration": 67,
    "start_time": "2021-06-09T14:22:11.143Z"
   },
   {
    "duration": 65,
    "start_time": "2021-06-09T14:22:11.213Z"
   },
   {
    "duration": 723,
    "start_time": "2021-06-09T14:22:11.281Z"
   },
   {
    "duration": 37,
    "start_time": "2021-06-09T14:22:12.007Z"
   },
   {
    "duration": 122,
    "start_time": "2021-06-09T14:22:12.056Z"
   },
   {
    "duration": 55,
    "start_time": "2021-06-09T14:22:12.181Z"
   },
   {
    "duration": 618,
    "start_time": "2021-06-09T14:22:12.239Z"
   },
   {
    "duration": 33,
    "start_time": "2021-06-09T14:22:12.860Z"
   },
   {
    "duration": 79,
    "start_time": "2021-06-09T14:22:12.896Z"
   },
   {
    "duration": 4,
    "start_time": "2021-06-09T14:22:15.795Z"
   },
   {
    "duration": 5,
    "start_time": "2021-06-09T14:23:28.142Z"
   },
   {
    "duration": 3,
    "start_time": "2021-06-09T14:23:28.982Z"
   },
   {
    "duration": 935,
    "start_time": "2021-06-09T14:23:29.783Z"
   },
   {
    "duration": 327,
    "start_time": "2021-06-09T14:25:28.105Z"
   },
   {
    "duration": 57,
    "start_time": "2021-06-09T14:25:47.568Z"
   },
   {
    "duration": 5,
    "start_time": "2021-06-09T14:25:49.001Z"
   },
   {
    "duration": 4,
    "start_time": "2021-06-09T14:25:49.585Z"
   },
   {
    "duration": 268,
    "start_time": "2021-06-09T14:25:50.064Z"
   },
   {
    "duration": 273448,
    "start_time": "2021-06-09T14:26:29.714Z"
   },
   {
    "duration": 4,
    "start_time": "2021-06-09T14:32:24.513Z"
   },
   {
    "duration": 26830,
    "start_time": "2021-06-09T14:32:39.375Z"
   },
   {
    "duration": 3,
    "start_time": "2021-06-09T14:33:21.466Z"
   },
   {
    "duration": 10697,
    "start_time": "2021-06-09T14:33:22.100Z"
   },
   {
    "duration": 258,
    "start_time": "2021-06-09T14:34:19.110Z"
   },
   {
    "duration": 5,
    "start_time": "2021-06-09T14:40:09.411Z"
   },
   {
    "duration": 1590,
    "start_time": "2021-06-09T14:42:25.175Z"
   },
   {
    "duration": 1580,
    "start_time": "2021-06-09T14:42:25.186Z"
   },
   {
    "duration": 4,
    "start_time": "2021-06-09T14:42:30.054Z"
   },
   {
    "duration": 226652,
    "start_time": "2021-06-09T14:42:30.877Z"
   },
   {
    "duration": 262,
    "start_time": "2021-06-09T14:46:18.445Z"
   },
   {
    "duration": 5,
    "start_time": "2021-06-09T14:46:47.516Z"
   },
   {
    "duration": 3078,
    "start_time": "2021-06-09T14:49:24.842Z"
   },
   {
    "duration": 5,
    "start_time": "2021-06-09T14:49:27.925Z"
   },
   {
    "duration": 176,
    "start_time": "2021-06-09T14:49:27.932Z"
   },
   {
    "duration": 48,
    "start_time": "2021-06-09T14:49:28.111Z"
   },
   {
    "duration": 130,
    "start_time": "2021-06-09T14:49:28.161Z"
   },
   {
    "duration": 153,
    "start_time": "2021-06-09T14:49:28.293Z"
   },
   {
    "duration": 5,
    "start_time": "2021-06-09T14:49:28.459Z"
   },
   {
    "duration": 89,
    "start_time": "2021-06-09T14:49:28.468Z"
   },
   {
    "duration": 72,
    "start_time": "2021-06-09T14:49:28.560Z"
   },
   {
    "duration": 1243,
    "start_time": "2021-06-09T14:49:28.634Z"
   },
   {
    "duration": 15,
    "start_time": "2021-06-09T14:49:29.879Z"
   },
   {
    "duration": 60,
    "start_time": "2021-06-09T14:49:29.897Z"
   },
   {
    "duration": 127,
    "start_time": "2021-06-09T14:49:29.960Z"
   },
   {
    "duration": 13,
    "start_time": "2021-06-09T14:49:30.089Z"
   },
   {
    "duration": 54,
    "start_time": "2021-06-09T14:49:30.104Z"
   },
   {
    "duration": 32,
    "start_time": "2021-06-09T14:49:30.160Z"
   },
   {
    "duration": 312,
    "start_time": "2021-06-09T14:49:30.195Z"
   },
   {
    "duration": 134,
    "start_time": "2021-06-09T14:49:30.509Z"
   },
   {
    "duration": 42,
    "start_time": "2021-06-09T14:49:30.646Z"
   },
   {
    "duration": 76,
    "start_time": "2021-06-09T14:49:30.690Z"
   },
   {
    "duration": 53,
    "start_time": "2021-06-09T14:49:30.769Z"
   },
   {
    "duration": 725,
    "start_time": "2021-06-09T14:49:30.826Z"
   },
   {
    "duration": 37,
    "start_time": "2021-06-09T14:49:31.557Z"
   },
   {
    "duration": 121,
    "start_time": "2021-06-09T14:49:31.597Z"
   },
   {
    "duration": 66,
    "start_time": "2021-06-09T14:49:31.720Z"
   },
   {
    "duration": 648,
    "start_time": "2021-06-09T14:49:31.789Z"
   },
   {
    "duration": 45,
    "start_time": "2021-06-09T14:49:32.439Z"
   },
   {
    "duration": 72,
    "start_time": "2021-06-09T14:49:32.486Z"
   },
   {
    "duration": 5,
    "start_time": "2021-06-09T14:49:32.560Z"
   },
   {
    "duration": 7,
    "start_time": "2021-06-09T14:49:32.567Z"
   },
   {
    "duration": 422,
    "start_time": "2021-06-09T14:49:32.576Z"
   },
   {
    "duration": 1735,
    "start_time": "2021-06-09T14:49:31.266Z"
   },
   {
    "duration": 4,
    "start_time": "2021-06-09T14:50:28.498Z"
   },
   {
    "duration": 21068,
    "start_time": "2021-06-09T14:50:29.304Z"
   },
   {
    "duration": 4,
    "start_time": "2021-06-09T14:51:10.954Z"
   },
   {
    "duration": 12336,
    "start_time": "2021-06-09T14:51:11.313Z"
   },
   {
    "duration": 4,
    "start_time": "2021-06-09T14:51:56.409Z"
   },
   {
    "duration": 1578,
    "start_time": "2021-06-09T14:52:27.882Z"
   },
   {
    "duration": 263989,
    "start_time": "2021-06-09T14:52:30.970Z"
   },
   {
    "duration": 8,
    "start_time": "2021-06-09T14:59:33.624Z"
   },
   {
    "duration": 258,
    "start_time": "2021-06-09T15:05:41.295Z"
   },
   {
    "duration": 3435,
    "start_time": "2021-06-09T15:06:04.804Z"
   },
   {
    "duration": 3446,
    "start_time": "2021-06-09T15:06:22.509Z"
   },
   {
    "duration": 9656,
    "start_time": "2021-06-09T15:06:41.406Z"
   },
   {
    "duration": 28362,
    "start_time": "2021-06-09T15:06:52.494Z"
   },
   {
    "duration": 218598,
    "start_time": "2021-06-09T15:10:51.570Z"
   },
   {
    "duration": 358,
    "start_time": "2021-06-09T15:16:45.556Z"
   },
   {
    "duration": 19767,
    "start_time": "2021-06-09T15:16:57.388Z"
   },
   {
    "duration": 704660,
    "start_time": "2021-06-09T15:17:39.741Z"
   },
   {
    "duration": 283364,
    "start_time": "2021-06-09T15:29:29.311Z"
   },
   {
    "duration": 1740,
    "start_time": "2021-06-09T15:36:46.399Z"
   },
   {
    "duration": 438780,
    "start_time": "2021-06-09T15:36:49.013Z"
   },
   {
    "duration": 10075,
    "start_time": "2021-06-09T15:45:14.051Z"
   },
   {
    "duration": 137061,
    "start_time": "2021-06-09T15:45:28.508Z"
   },
   {
    "duration": 1885733,
    "start_time": "2021-06-09T15:47:46.963Z"
   },
   {
    "duration": 1197592,
    "start_time": "2021-06-09T16:22:23.239Z"
   },
   {
    "duration": 88,
    "start_time": "2021-06-09T16:58:13.004Z"
   },
   {
    "duration": 414,
    "start_time": "2021-06-09T16:58:56.486Z"
   },
   {
    "duration": 2913,
    "start_time": "2021-06-09T17:07:00.429Z"
   },
   {
    "duration": 13,
    "start_time": "2021-06-09T17:07:03.345Z"
   },
   {
    "duration": 166,
    "start_time": "2021-06-09T17:07:03.361Z"
   },
   {
    "duration": 44,
    "start_time": "2021-06-09T17:07:03.529Z"
   },
   {
    "duration": 125,
    "start_time": "2021-06-09T17:07:03.578Z"
   },
   {
    "duration": 161,
    "start_time": "2021-06-09T17:07:03.706Z"
   },
   {
    "duration": 6,
    "start_time": "2021-06-09T17:07:03.871Z"
   },
   {
    "duration": 87,
    "start_time": "2021-06-09T17:07:03.880Z"
   },
   {
    "duration": 88,
    "start_time": "2021-06-09T17:07:03.973Z"
   },
   {
    "duration": 1268,
    "start_time": "2021-06-09T17:07:04.063Z"
   },
   {
    "duration": 24,
    "start_time": "2021-06-09T17:07:05.333Z"
   },
   {
    "duration": 42,
    "start_time": "2021-06-09T17:07:05.359Z"
   },
   {
    "duration": 134,
    "start_time": "2021-06-09T17:07:05.403Z"
   },
   {
    "duration": 19,
    "start_time": "2021-06-09T17:07:05.540Z"
   },
   {
    "duration": 37,
    "start_time": "2021-06-09T17:07:05.562Z"
   },
   {
    "duration": 55,
    "start_time": "2021-06-09T17:07:05.601Z"
   },
   {
    "duration": 325,
    "start_time": "2021-06-09T17:07:05.659Z"
   },
   {
    "duration": 136,
    "start_time": "2021-06-09T17:07:05.986Z"
   },
   {
    "duration": 46,
    "start_time": "2021-06-09T17:07:06.124Z"
   },
   {
    "duration": 64,
    "start_time": "2021-06-09T17:07:06.172Z"
   },
   {
    "duration": 63,
    "start_time": "2021-06-09T17:07:06.239Z"
   },
   {
    "duration": 749,
    "start_time": "2021-06-09T17:07:06.306Z"
   },
   {
    "duration": 51,
    "start_time": "2021-06-09T17:07:07.058Z"
   },
   {
    "duration": 138,
    "start_time": "2021-06-09T17:07:07.112Z"
   },
   {
    "duration": 75,
    "start_time": "2021-06-09T17:07:07.257Z"
   },
   {
    "duration": 627,
    "start_time": "2021-06-09T17:07:07.336Z"
   },
   {
    "duration": 39,
    "start_time": "2021-06-09T17:07:07.966Z"
   },
   {
    "duration": 88,
    "start_time": "2021-06-09T17:07:08.007Z"
   },
   {
    "duration": 7,
    "start_time": "2021-06-09T17:07:08.097Z"
   },
   {
    "duration": 3,
    "start_time": "2021-06-09T17:07:08.344Z"
   },
   {
    "duration": 4,
    "start_time": "2021-06-09T17:07:08.512Z"
   },
   {
    "duration": 7988,
    "start_time": "2021-06-09T17:07:08.937Z"
   },
   {
    "duration": 1766,
    "start_time": "2021-06-09T17:07:15.163Z"
   },
   {
    "duration": 1767,
    "start_time": "2021-06-09T17:07:15.164Z"
   },
   {
    "duration": 2243,
    "start_time": "2021-06-10T09:16:56.208Z"
   },
   {
    "duration": 5,
    "start_time": "2021-06-10T09:16:58.454Z"
   },
   {
    "duration": 157,
    "start_time": "2021-06-10T09:16:58.461Z"
   },
   {
    "duration": 38,
    "start_time": "2021-06-10T09:16:58.622Z"
   },
   {
    "duration": 128,
    "start_time": "2021-06-10T09:16:58.663Z"
   },
   {
    "duration": 159,
    "start_time": "2021-06-10T09:16:58.794Z"
   },
   {
    "duration": 5,
    "start_time": "2021-06-10T09:16:58.956Z"
   },
   {
    "duration": 68,
    "start_time": "2021-06-10T09:16:58.982Z"
   },
   {
    "duration": 84,
    "start_time": "2021-06-10T09:16:59.052Z"
   },
   {
    "duration": 1281,
    "start_time": "2021-06-10T09:16:59.138Z"
   },
   {
    "duration": 14,
    "start_time": "2021-06-10T09:17:00.421Z"
   },
   {
    "duration": 58,
    "start_time": "2021-06-10T09:17:00.437Z"
   },
   {
    "duration": 121,
    "start_time": "2021-06-10T09:17:00.497Z"
   },
   {
    "duration": 11,
    "start_time": "2021-06-10T09:17:00.620Z"
   },
   {
    "duration": 57,
    "start_time": "2021-06-10T09:17:00.634Z"
   },
   {
    "duration": 40,
    "start_time": "2021-06-10T09:17:00.693Z"
   },
   {
    "duration": 347,
    "start_time": "2021-06-10T09:17:00.738Z"
   },
   {
    "duration": 135,
    "start_time": "2021-06-10T09:17:01.088Z"
   },
   {
    "duration": 40,
    "start_time": "2021-06-10T09:17:01.226Z"
   },
   {
    "duration": 57,
    "start_time": "2021-06-10T09:17:01.284Z"
   },
   {
    "duration": 74,
    "start_time": "2021-06-10T09:17:01.343Z"
   },
   {
    "duration": 879,
    "start_time": "2021-06-10T09:17:01.419Z"
   },
   {
    "duration": 39,
    "start_time": "2021-06-10T09:17:02.300Z"
   },
   {
    "duration": 133,
    "start_time": "2021-06-10T09:17:02.341Z"
   },
   {
    "duration": 61,
    "start_time": "2021-06-10T09:17:02.484Z"
   },
   {
    "duration": 610,
    "start_time": "2021-06-10T09:17:02.549Z"
   },
   {
    "duration": 46,
    "start_time": "2021-06-10T09:17:03.162Z"
   },
   {
    "duration": 62,
    "start_time": "2021-06-10T09:17:03.485Z"
   },
   {
    "duration": 5,
    "start_time": "2021-06-10T09:17:04.142Z"
   },
   {
    "duration": 4,
    "start_time": "2021-06-10T09:17:04.870Z"
   },
   {
    "duration": 4,
    "start_time": "2021-06-10T09:17:06.373Z"
   },
   {
    "duration": 9282,
    "start_time": "2021-06-10T09:17:49.159Z"
   },
   {
    "duration": 2794,
    "start_time": "2021-06-10T09:18:06.487Z"
   },
   {
    "duration": 5,
    "start_time": "2021-06-10T09:18:09.284Z"
   },
   {
    "duration": 161,
    "start_time": "2021-06-10T09:18:09.292Z"
   },
   {
    "duration": 45,
    "start_time": "2021-06-10T09:18:09.456Z"
   },
   {
    "duration": 118,
    "start_time": "2021-06-10T09:18:09.504Z"
   },
   {
    "duration": 158,
    "start_time": "2021-06-10T09:18:09.624Z"
   },
   {
    "duration": 5,
    "start_time": "2021-06-10T09:18:09.785Z"
   },
   {
    "duration": 66,
    "start_time": "2021-06-10T09:18:09.794Z"
   },
   {
    "duration": 75,
    "start_time": "2021-06-10T09:18:09.883Z"
   },
   {
    "duration": 1406,
    "start_time": "2021-06-10T09:18:09.961Z"
   },
   {
    "duration": 23,
    "start_time": "2021-06-10T09:18:11.370Z"
   },
   {
    "duration": 42,
    "start_time": "2021-06-10T09:18:11.396Z"
   },
   {
    "duration": 135,
    "start_time": "2021-06-10T09:18:11.441Z"
   },
   {
    "duration": 11,
    "start_time": "2021-06-10T09:18:11.579Z"
   },
   {
    "duration": 37,
    "start_time": "2021-06-10T09:18:11.592Z"
   },
   {
    "duration": 64,
    "start_time": "2021-06-10T09:18:11.631Z"
   },
   {
    "duration": 322,
    "start_time": "2021-06-10T09:18:11.698Z"
   },
   {
    "duration": 135,
    "start_time": "2021-06-10T09:18:12.023Z"
   },
   {
    "duration": 39,
    "start_time": "2021-06-10T09:18:12.161Z"
   },
   {
    "duration": 56,
    "start_time": "2021-06-10T09:18:12.202Z"
   },
   {
    "duration": 71,
    "start_time": "2021-06-10T09:18:12.260Z"
   },
   {
    "duration": 766,
    "start_time": "2021-06-10T09:18:12.334Z"
   },
   {
    "duration": 38,
    "start_time": "2021-06-10T09:18:13.105Z"
   },
   {
    "duration": 126,
    "start_time": "2021-06-10T09:18:13.146Z"
   },
   {
    "duration": 62,
    "start_time": "2021-06-10T09:18:13.275Z"
   },
   {
    "duration": 624,
    "start_time": "2021-06-10T09:18:13.340Z"
   },
   {
    "duration": 41,
    "start_time": "2021-06-10T09:18:13.966Z"
   },
   {
    "duration": 74,
    "start_time": "2021-06-10T09:18:14.009Z"
   },
   {
    "duration": 5,
    "start_time": "2021-06-10T09:18:14.085Z"
   },
   {
    "duration": 7,
    "start_time": "2021-06-10T09:18:14.093Z"
   },
   {
    "duration": 7,
    "start_time": "2021-06-10T09:18:14.102Z"
   },
   {
    "duration": 260578,
    "start_time": "2021-06-10T09:18:14.111Z"
   },
   {
    "duration": 337397,
    "start_time": "2021-06-10T09:22:34.694Z"
   },
   {
    "duration": 365,
    "start_time": "2021-06-10T09:28:11.729Z"
   },
   {
    "duration": 363,
    "start_time": "2021-06-10T09:28:11.732Z"
   },
   {
    "duration": 522,
    "start_time": "2021-06-10T09:32:33.343Z"
   },
   {
    "duration": 325,
    "start_time": "2021-06-10T09:32:53.247Z"
   },
   {
    "duration": 528,
    "start_time": "2021-06-10T09:34:29.069Z"
   },
   {
    "duration": 536,
    "start_time": "2021-06-10T09:34:47.148Z"
   },
   {
    "duration": 186749,
    "start_time": "2021-06-10T09:34:53.291Z"
   },
   {
    "duration": 89,
    "start_time": "2021-06-10T09:41:46.117Z"
   },
   {
    "duration": 395,
    "start_time": "2021-06-10T09:41:55.993Z"
   },
   {
    "duration": 63,
    "start_time": "2021-06-10T09:42:45.236Z"
   },
   {
    "duration": 86693,
    "start_time": "2021-06-10T09:42:45.869Z"
   },
   {
    "duration": 94200,
    "start_time": "2021-06-10T09:44:28.089Z"
   },
   {
    "duration": 523,
    "start_time": "2021-06-10T09:49:09.448Z"
   },
   {
    "duration": 79458,
    "start_time": "2021-06-10T09:49:16.086Z"
   },
   {
    "duration": 1751,
    "start_time": "2021-06-10T09:50:40.352Z"
   },
   {
    "duration": 96026,
    "start_time": "2021-06-10T09:51:04.712Z"
   },
   {
    "duration": 197121,
    "start_time": "2021-06-10T09:52:46.604Z"
   },
   {
    "duration": 85,
    "start_time": "2021-06-10T09:59:36.684Z"
   },
   {
    "duration": 279,
    "start_time": "2021-06-10T09:59:44.675Z"
   },
   {
    "duration": 403627,
    "start_time": "2021-06-10T10:00:04.035Z"
   },
   {
    "duration": 214843,
    "start_time": "2021-06-10T10:06:59.165Z"
   },
   {
    "duration": 317055,
    "start_time": "2021-06-10T10:10:34.136Z"
   },
   {
    "duration": 298,
    "start_time": "2021-06-10T10:28:14.743Z"
   },
   {
    "duration": 4765,
    "start_time": "2021-06-10T10:28:26.385Z"
   },
   {
    "duration": 2788,
    "start_time": "2021-06-10T10:28:41.897Z"
   },
   {
    "duration": 6,
    "start_time": "2021-06-10T10:28:44.687Z"
   },
   {
    "duration": 161,
    "start_time": "2021-06-10T10:28:44.696Z"
   },
   {
    "duration": 48,
    "start_time": "2021-06-10T10:28:44.860Z"
   },
   {
    "duration": 125,
    "start_time": "2021-06-10T10:28:44.910Z"
   },
   {
    "duration": 158,
    "start_time": "2021-06-10T10:28:45.037Z"
   },
   {
    "duration": 5,
    "start_time": "2021-06-10T10:28:45.198Z"
   },
   {
    "duration": 83,
    "start_time": "2021-06-10T10:28:45.206Z"
   },
   {
    "duration": 73,
    "start_time": "2021-06-10T10:28:45.292Z"
   },
   {
    "duration": 2581,
    "start_time": "2021-06-10T10:28:45.367Z"
   },
   {
    "duration": 12,
    "start_time": "2021-06-10T10:28:47.950Z"
   },
   {
    "duration": 56,
    "start_time": "2021-06-10T10:28:47.965Z"
   },
   {
    "duration": 111,
    "start_time": "2021-06-10T10:28:48.023Z"
   },
   {
    "duration": 11,
    "start_time": "2021-06-10T10:28:48.136Z"
   },
   {
    "duration": 48,
    "start_time": "2021-06-10T10:28:48.149Z"
   },
   {
    "duration": 296,
    "start_time": "2021-06-10T10:28:48.200Z"
   },
   {
    "duration": 126,
    "start_time": "2021-06-10T10:28:48.498Z"
   },
   {
    "duration": 38,
    "start_time": "2021-06-10T10:28:48.626Z"
   },
   {
    "duration": 73,
    "start_time": "2021-06-10T10:28:48.666Z"
   },
   {
    "duration": 69,
    "start_time": "2021-06-10T10:28:48.741Z"
   },
   {
    "duration": 751,
    "start_time": "2021-06-10T10:28:48.812Z"
   },
   {
    "duration": 40,
    "start_time": "2021-06-10T10:28:49.566Z"
   },
   {
    "duration": 95,
    "start_time": "2021-06-10T10:28:49.610Z"
   },
   {
    "duration": 52,
    "start_time": "2021-06-10T10:28:49.707Z"
   },
   {
    "duration": 566,
    "start_time": "2021-06-10T10:28:49.761Z"
   },
   {
    "duration": 53,
    "start_time": "2021-06-10T10:28:50.330Z"
   },
   {
    "duration": 63,
    "start_time": "2021-06-10T10:28:50.385Z"
   },
   {
    "duration": 4,
    "start_time": "2021-06-10T10:28:58.853Z"
   },
   {
    "duration": 5,
    "start_time": "2021-06-10T10:29:04.666Z"
   },
   {
    "duration": 4,
    "start_time": "2021-06-10T10:29:04.984Z"
   },
   {
    "duration": 590,
    "start_time": "2021-06-10T11:01:02.497Z"
   },
   {
    "duration": 6131,
    "start_time": "2021-06-10T11:01:07.959Z"
   },
   {
    "duration": 6,
    "start_time": "2021-06-10T11:01:14.094Z"
   },
   {
    "duration": 191,
    "start_time": "2021-06-10T11:01:14.104Z"
   },
   {
    "duration": 41,
    "start_time": "2021-06-10T11:01:14.298Z"
   },
   {
    "duration": 127,
    "start_time": "2021-06-10T11:01:14.342Z"
   },
   {
    "duration": 164,
    "start_time": "2021-06-10T11:01:14.484Z"
   },
   {
    "duration": 9,
    "start_time": "2021-06-10T11:01:14.650Z"
   },
   {
    "duration": 86,
    "start_time": "2021-06-10T11:01:14.663Z"
   },
   {
    "duration": 74,
    "start_time": "2021-06-10T11:01:14.752Z"
   },
   {
    "duration": 2844,
    "start_time": "2021-06-10T11:01:14.829Z"
   },
   {
    "duration": 15,
    "start_time": "2021-06-10T11:01:17.676Z"
   },
   {
    "duration": 49,
    "start_time": "2021-06-10T11:01:17.694Z"
   },
   {
    "duration": 137,
    "start_time": "2021-06-10T11:01:17.746Z"
   },
   {
    "duration": 12,
    "start_time": "2021-06-10T11:01:17.886Z"
   },
   {
    "duration": 63,
    "start_time": "2021-06-10T11:01:17.900Z"
   },
   {
    "duration": 323,
    "start_time": "2021-06-10T11:01:17.966Z"
   },
   {
    "duration": 267,
    "start_time": "2021-06-10T11:01:18.291Z"
   },
   {
    "duration": 45,
    "start_time": "2021-06-10T11:01:18.560Z"
   },
   {
    "duration": 75,
    "start_time": "2021-06-10T11:01:18.608Z"
   },
   {
    "duration": 55,
    "start_time": "2021-06-10T11:01:18.686Z"
   },
   {
    "duration": 766,
    "start_time": "2021-06-10T11:01:18.744Z"
   },
   {
    "duration": 38,
    "start_time": "2021-06-10T11:01:19.513Z"
   },
   {
    "duration": 117,
    "start_time": "2021-06-10T11:01:19.557Z"
   },
   {
    "duration": 59,
    "start_time": "2021-06-10T11:01:19.684Z"
   },
   {
    "duration": 645,
    "start_time": "2021-06-10T11:01:19.746Z"
   },
   {
    "duration": 41,
    "start_time": "2021-06-10T11:01:20.393Z"
   },
   {
    "duration": 81,
    "start_time": "2021-06-10T11:01:20.436Z"
   },
   {
    "duration": 5,
    "start_time": "2021-06-10T11:01:20.519Z"
   },
   {
    "duration": 7,
    "start_time": "2021-06-10T11:01:20.526Z"
   },
   {
    "duration": 7,
    "start_time": "2021-06-10T11:01:20.536Z"
   },
   {
    "duration": 20110,
    "start_time": "2021-06-11T10:04:33.149Z"
   },
   {
    "duration": 6948,
    "start_time": "2021-06-11T10:05:06.323Z"
   },
   {
    "duration": 6,
    "start_time": "2021-06-11T10:05:13.274Z"
   },
   {
    "duration": 186,
    "start_time": "2021-06-11T10:05:13.283Z"
   },
   {
    "duration": 73,
    "start_time": "2021-06-11T10:05:13.472Z"
   },
   {
    "duration": 179,
    "start_time": "2021-06-11T10:05:13.549Z"
   },
   {
    "duration": 295,
    "start_time": "2021-06-11T10:05:13.731Z"
   },
   {
    "duration": 8,
    "start_time": "2021-06-11T10:05:14.029Z"
   },
   {
    "duration": 106,
    "start_time": "2021-06-11T10:05:14.041Z"
   },
   {
    "duration": 96,
    "start_time": "2021-06-11T10:05:14.150Z"
   },
   {
    "duration": 3105,
    "start_time": "2021-06-11T10:05:14.248Z"
   },
   {
    "duration": 13,
    "start_time": "2021-06-11T10:05:17.355Z"
   },
   {
    "duration": 63,
    "start_time": "2021-06-11T10:05:17.371Z"
   },
   {
    "duration": 122,
    "start_time": "2021-06-11T10:05:17.437Z"
   },
   {
    "duration": 12,
    "start_time": "2021-06-11T10:05:17.561Z"
   },
   {
    "duration": 54,
    "start_time": "2021-06-11T10:05:17.576Z"
   },
   {
    "duration": 357,
    "start_time": "2021-06-11T10:05:17.633Z"
   },
   {
    "duration": 146,
    "start_time": "2021-06-11T10:05:17.993Z"
   },
   {
    "duration": 40,
    "start_time": "2021-06-11T10:05:18.143Z"
   },
   {
    "duration": 82,
    "start_time": "2021-06-11T10:05:18.185Z"
   },
   {
    "duration": 74,
    "start_time": "2021-06-11T10:05:18.270Z"
   },
   {
    "duration": 841,
    "start_time": "2021-06-11T10:05:18.346Z"
   },
   {
    "duration": 51,
    "start_time": "2021-06-11T10:05:19.189Z"
   },
   {
    "duration": 114,
    "start_time": "2021-06-11T10:05:19.246Z"
   },
   {
    "duration": 72,
    "start_time": "2021-06-11T10:05:19.363Z"
   },
   {
    "duration": 683,
    "start_time": "2021-06-11T10:05:19.438Z"
   },
   {
    "duration": 44,
    "start_time": "2021-06-11T10:05:20.132Z"
   },
   {
    "duration": 81,
    "start_time": "2021-06-11T10:05:20.179Z"
   },
   {
    "duration": 5,
    "start_time": "2021-06-11T10:05:20.262Z"
   },
   {
    "duration": 12,
    "start_time": "2021-06-11T10:05:20.269Z"
   },
   {
    "duration": 4,
    "start_time": "2021-06-11T10:05:20.284Z"
   },
   {
    "duration": 306843,
    "start_time": "2021-06-11T10:05:20.290Z"
   },
   {
    "duration": 402236,
    "start_time": "2021-06-11T10:10:27.137Z"
   },
   {
    "duration": 341813,
    "start_time": "2021-06-11T10:17:09.376Z"
   },
   {
    "duration": -788,
    "start_time": "2021-06-11T10:22:51.980Z"
   },
   {
    "duration": -789,
    "start_time": "2021-06-11T10:22:51.983Z"
   },
   {
    "duration": -789,
    "start_time": "2021-06-11T10:22:51.985Z"
   },
   {
    "duration": -789,
    "start_time": "2021-06-11T10:22:51.988Z"
   },
   {
    "duration": 1208,
    "start_time": "2021-06-11T10:27:40.351Z"
   },
   {
    "duration": 476,
    "start_time": "2021-06-11T10:28:00.359Z"
   },
   {
    "duration": 371,
    "start_time": "2021-06-11T10:41:39.922Z"
   },
   {
    "duration": 3213,
    "start_time": "2021-06-11T10:41:58.274Z"
   },
   {
    "duration": 5,
    "start_time": "2021-06-11T10:42:01.490Z"
   },
   {
    "duration": 166,
    "start_time": "2021-06-11T10:42:01.498Z"
   },
   {
    "duration": 58,
    "start_time": "2021-06-11T10:42:01.667Z"
   },
   {
    "duration": 130,
    "start_time": "2021-06-11T10:42:01.728Z"
   },
   {
    "duration": 171,
    "start_time": "2021-06-11T10:42:01.860Z"
   },
   {
    "duration": 7,
    "start_time": "2021-06-11T10:42:02.033Z"
   },
   {
    "duration": 94,
    "start_time": "2021-06-11T10:42:02.045Z"
   },
   {
    "duration": 98,
    "start_time": "2021-06-11T10:42:02.142Z"
   },
   {
    "duration": 3053,
    "start_time": "2021-06-11T10:42:02.243Z"
   },
   {
    "duration": 12,
    "start_time": "2021-06-11T10:42:05.298Z"
   },
   {
    "duration": 43,
    "start_time": "2021-06-11T10:42:05.326Z"
   },
   {
    "duration": 119,
    "start_time": "2021-06-11T10:42:05.371Z"
   },
   {
    "duration": 10,
    "start_time": "2021-06-11T10:42:05.492Z"
   },
   {
    "duration": 56,
    "start_time": "2021-06-11T10:42:05.505Z"
   },
   {
    "duration": 329,
    "start_time": "2021-06-11T10:42:05.563Z"
   },
   {
    "duration": 133,
    "start_time": "2021-06-11T10:42:05.895Z"
   },
   {
    "duration": 38,
    "start_time": "2021-06-11T10:42:06.030Z"
   },
   {
    "duration": 79,
    "start_time": "2021-06-11T10:42:06.070Z"
   },
   {
    "duration": 52,
    "start_time": "2021-06-11T10:42:06.151Z"
   },
   {
    "duration": 921,
    "start_time": "2021-06-11T10:42:06.205Z"
   },
   {
    "duration": 38,
    "start_time": "2021-06-11T10:42:07.129Z"
   },
   {
    "duration": 110,
    "start_time": "2021-06-11T10:42:07.172Z"
   },
   {
    "duration": 63,
    "start_time": "2021-06-11T10:42:07.285Z"
   },
   {
    "duration": 609,
    "start_time": "2021-06-11T10:42:07.350Z"
   },
   {
    "duration": 38,
    "start_time": "2021-06-11T10:42:07.962Z"
   },
   {
    "duration": 79,
    "start_time": "2021-06-11T10:42:08.003Z"
   },
   {
    "duration": 6,
    "start_time": "2021-06-11T10:42:08.084Z"
   },
   {
    "duration": 15,
    "start_time": "2021-06-11T10:42:08.093Z"
   },
   {
    "duration": 4,
    "start_time": "2021-06-11T10:42:11.929Z"
   },
   {
    "duration": 337664,
    "start_time": "2021-06-11T10:42:18.578Z"
   },
   {
    "duration": 840381,
    "start_time": "2021-06-11T10:48:02.757Z"
   },
   {
    "duration": 16,
    "start_time": "2021-06-11T11:02:04.851Z"
   },
   {
    "duration": 63492,
    "start_time": "2021-06-11T11:04:19.609Z"
   },
   {
    "duration": 354,
    "start_time": "2021-06-11T11:05:32.207Z"
   },
   {
    "duration": 491,
    "start_time": "2021-06-11T13:07:10.073Z"
   },
   {
    "duration": 8967,
    "start_time": "2021-06-11T13:07:17.325Z"
   },
   {
    "duration": 5,
    "start_time": "2021-06-11T13:07:26.295Z"
   },
   {
    "duration": 176,
    "start_time": "2021-06-11T13:07:26.303Z"
   },
   {
    "duration": 55,
    "start_time": "2021-06-11T13:07:26.482Z"
   },
   {
    "duration": 132,
    "start_time": "2021-06-11T13:07:26.539Z"
   },
   {
    "duration": 169,
    "start_time": "2021-06-11T13:07:26.673Z"
   },
   {
    "duration": 5,
    "start_time": "2021-06-11T13:07:26.845Z"
   },
   {
    "duration": 94,
    "start_time": "2021-06-11T13:07:26.853Z"
   },
   {
    "duration": 85,
    "start_time": "2021-06-11T13:07:26.949Z"
   },
   {
    "duration": 2956,
    "start_time": "2021-06-11T13:07:27.037Z"
   },
   {
    "duration": 24,
    "start_time": "2021-06-11T13:07:29.996Z"
   },
   {
    "duration": 44,
    "start_time": "2021-06-11T13:07:30.022Z"
   },
   {
    "duration": 123,
    "start_time": "2021-06-11T13:07:30.068Z"
   },
   {
    "duration": 11,
    "start_time": "2021-06-11T13:07:30.194Z"
   },
   {
    "duration": 57,
    "start_time": "2021-06-11T13:07:30.208Z"
   },
   {
    "duration": 333,
    "start_time": "2021-06-11T13:07:30.268Z"
   },
   {
    "duration": 134,
    "start_time": "2021-06-11T13:07:30.603Z"
   },
   {
    "duration": 39,
    "start_time": "2021-06-11T13:07:30.739Z"
   },
   {
    "duration": 83,
    "start_time": "2021-06-11T13:07:30.780Z"
   },
   {
    "duration": 72,
    "start_time": "2021-06-11T13:07:30.865Z"
   },
   {
    "duration": 823,
    "start_time": "2021-06-11T13:07:30.940Z"
   },
   {
    "duration": 40,
    "start_time": "2021-06-11T13:07:31.765Z"
   },
   {
    "duration": 120,
    "start_time": "2021-06-11T13:07:31.809Z"
   },
   {
    "duration": 58,
    "start_time": "2021-06-11T13:07:31.931Z"
   },
   {
    "duration": 622,
    "start_time": "2021-06-11T13:07:31.991Z"
   },
   {
    "duration": 43,
    "start_time": "2021-06-11T13:07:32.615Z"
   },
   {
    "duration": 73,
    "start_time": "2021-06-11T13:07:32.661Z"
   },
   {
    "duration": 4,
    "start_time": "2021-06-11T13:07:32.737Z"
   },
   {
    "duration": 8,
    "start_time": "2021-06-11T13:07:32.744Z"
   },
   {
    "duration": 6,
    "start_time": "2021-06-11T13:07:32.755Z"
   },
   {
    "duration": 234431,
    "start_time": "2021-06-11T13:07:39.691Z"
   },
   {
    "duration": 348,
    "start_time": "2021-06-11T13:20:32.403Z"
   },
   {
    "duration": 19774,
    "start_time": "2021-06-11T13:20:40.039Z"
   },
   {
    "duration": 38593,
    "start_time": "2021-06-11T13:21:09.582Z"
   },
   {
    "duration": 4421,
    "start_time": "2021-06-11T13:28:39.162Z"
   },
   {
    "duration": 132277,
    "start_time": "2021-06-11T13:28:49.054Z"
   },
   {
    "duration": -468,
    "start_time": "2021-06-11T13:41:41.968Z"
   },
   {
    "duration": 1423992,
    "start_time": "2021-06-11T13:41:46.151Z"
   },
   {
    "duration": 133378,
    "start_time": "2021-06-11T14:12:01.605Z"
   },
   {
    "duration": 21,
    "start_time": "2021-06-11T14:19:08.388Z"
   },
   {
    "duration": 152538,
    "start_time": "2021-06-11T14:19:43.056Z"
   },
   {
    "duration": 288520,
    "start_time": "2021-06-11T14:23:19.093Z"
   },
   {
    "duration": 407,
    "start_time": "2021-06-11T14:28:32.721Z"
   },
   {
    "duration": 545,
    "start_time": "2021-06-11T14:28:33.787Z"
   },
   {
    "duration": 4593,
    "start_time": "2021-06-11T14:29:11.718Z"
   },
   {
    "duration": 5,
    "start_time": "2021-06-11T14:29:16.313Z"
   },
   {
    "duration": 7114,
    "start_time": "2021-06-11T14:29:22.616Z"
   },
   {
    "duration": 5,
    "start_time": "2021-06-11T14:29:29.733Z"
   },
   {
    "duration": 169,
    "start_time": "2021-06-11T14:29:29.741Z"
   },
   {
    "duration": 44,
    "start_time": "2021-06-11T14:29:29.913Z"
   },
   {
    "duration": 136,
    "start_time": "2021-06-11T14:29:29.959Z"
   },
   {
    "duration": 168,
    "start_time": "2021-06-11T14:29:30.097Z"
   },
   {
    "duration": 6,
    "start_time": "2021-06-11T14:29:30.267Z"
   },
   {
    "duration": 90,
    "start_time": "2021-06-11T14:29:30.276Z"
   },
   {
    "duration": 81,
    "start_time": "2021-06-11T14:29:30.368Z"
   },
   {
    "duration": 2902,
    "start_time": "2021-06-11T14:29:30.452Z"
   },
   {
    "duration": 14,
    "start_time": "2021-06-11T14:29:33.356Z"
   },
   {
    "duration": 60,
    "start_time": "2021-06-11T14:29:33.372Z"
   },
   {
    "duration": 120,
    "start_time": "2021-06-11T14:29:33.434Z"
   },
   {
    "duration": 11,
    "start_time": "2021-06-11T14:29:33.557Z"
   },
   {
    "duration": 55,
    "start_time": "2021-06-11T14:29:33.571Z"
   },
   {
    "duration": 331,
    "start_time": "2021-06-11T14:29:33.628Z"
   },
   {
    "duration": 138,
    "start_time": "2021-06-11T14:29:33.961Z"
   },
   {
    "duration": 43,
    "start_time": "2021-06-11T14:29:34.102Z"
   },
   {
    "duration": 78,
    "start_time": "2021-06-11T14:29:34.147Z"
   },
   {
    "duration": 53,
    "start_time": "2021-06-11T14:29:34.228Z"
   },
   {
    "duration": 806,
    "start_time": "2021-06-11T14:29:34.284Z"
   },
   {
    "duration": 46,
    "start_time": "2021-06-11T14:29:35.092Z"
   },
   {
    "duration": 102,
    "start_time": "2021-06-11T14:29:35.142Z"
   },
   {
    "duration": 53,
    "start_time": "2021-06-11T14:29:35.247Z"
   },
   {
    "duration": 625,
    "start_time": "2021-06-11T14:29:35.302Z"
   },
   {
    "duration": 40,
    "start_time": "2021-06-11T14:29:35.930Z"
   },
   {
    "duration": 82,
    "start_time": "2021-06-11T14:29:35.972Z"
   },
   {
    "duration": 9,
    "start_time": "2021-06-11T14:29:36.056Z"
   },
   {
    "duration": 21,
    "start_time": "2021-06-11T14:29:36.068Z"
   },
   {
    "duration": 14,
    "start_time": "2021-06-11T14:29:36.092Z"
   },
   {
    "duration": 289317,
    "start_time": "2021-06-11T14:29:36.109Z"
   },
   {
    "duration": 229106,
    "start_time": "2021-06-11T14:34:25.430Z"
   },
   {
    "duration": 4,
    "start_time": "2021-06-11T14:38:37.299Z"
   },
   {
    "duration": 401,
    "start_time": "2021-06-11T14:38:39.465Z"
   },
   {
    "duration": 7,
    "start_time": "2021-06-11T14:39:06.044Z"
   },
   {
    "duration": 5,
    "start_time": "2021-06-11T14:39:06.634Z"
   },
   {
    "duration": 4,
    "start_time": "2021-06-11T14:39:07.218Z"
   },
   {
    "duration": 3288,
    "start_time": "2021-06-11T14:47:39.799Z"
   },
   {
    "duration": 5,
    "start_time": "2021-06-11T14:47:43.089Z"
   },
   {
    "duration": 178,
    "start_time": "2021-06-11T14:47:43.097Z"
   },
   {
    "duration": 51,
    "start_time": "2021-06-11T14:47:43.278Z"
   },
   {
    "duration": 137,
    "start_time": "2021-06-11T14:47:43.332Z"
   },
   {
    "duration": 174,
    "start_time": "2021-06-11T14:47:43.474Z"
   },
   {
    "duration": 5,
    "start_time": "2021-06-11T14:47:43.651Z"
   },
   {
    "duration": 91,
    "start_time": "2021-06-11T14:47:43.660Z"
   },
   {
    "duration": 82,
    "start_time": "2021-06-11T14:47:43.754Z"
   },
   {
    "duration": 2881,
    "start_time": "2021-06-11T14:47:43.839Z"
   },
   {
    "duration": 13,
    "start_time": "2021-06-11T14:47:46.725Z"
   },
   {
    "duration": 46,
    "start_time": "2021-06-11T14:47:46.740Z"
   },
   {
    "duration": 132,
    "start_time": "2021-06-11T14:47:46.788Z"
   },
   {
    "duration": 11,
    "start_time": "2021-06-11T14:47:46.923Z"
   },
   {
    "duration": 42,
    "start_time": "2021-06-11T14:47:46.936Z"
   },
   {
    "duration": 344,
    "start_time": "2021-06-11T14:47:46.981Z"
   },
   {
    "duration": 137,
    "start_time": "2021-06-11T14:47:47.328Z"
   },
   {
    "duration": 43,
    "start_time": "2021-06-11T14:47:47.467Z"
   },
   {
    "duration": 61,
    "start_time": "2021-06-11T14:47:47.525Z"
   },
   {
    "duration": 70,
    "start_time": "2021-06-11T14:47:47.588Z"
   },
   {
    "duration": 793,
    "start_time": "2021-06-11T14:47:47.660Z"
   },
   {
    "duration": 41,
    "start_time": "2021-06-11T14:47:48.459Z"
   },
   {
    "duration": 100,
    "start_time": "2021-06-11T14:47:48.526Z"
   },
   {
    "duration": 58,
    "start_time": "2021-06-11T14:47:48.629Z"
   },
   {
    "duration": 641,
    "start_time": "2021-06-11T14:47:48.694Z"
   },
   {
    "duration": 38,
    "start_time": "2021-06-11T14:47:49.339Z"
   },
   {
    "duration": 87,
    "start_time": "2021-06-11T14:47:49.380Z"
   },
   {
    "duration": 7,
    "start_time": "2021-06-11T14:47:49.470Z"
   },
   {
    "duration": 6,
    "start_time": "2021-06-11T14:47:49.479Z"
   },
   {
    "duration": 8,
    "start_time": "2021-06-11T14:47:49.487Z"
   },
   {
    "duration": 3132,
    "start_time": "2021-06-11T14:48:31.921Z"
   },
   {
    "duration": 6,
    "start_time": "2021-06-11T14:48:35.063Z"
   },
   {
    "duration": 184,
    "start_time": "2021-06-11T14:48:35.071Z"
   },
   {
    "duration": 42,
    "start_time": "2021-06-11T14:48:35.257Z"
   },
   {
    "duration": 144,
    "start_time": "2021-06-11T14:48:35.301Z"
   },
   {
    "duration": 167,
    "start_time": "2021-06-11T14:48:35.448Z"
   },
   {
    "duration": 10,
    "start_time": "2021-06-11T14:48:35.619Z"
   },
   {
    "duration": 73,
    "start_time": "2021-06-11T14:48:35.631Z"
   },
   {
    "duration": 79,
    "start_time": "2021-06-11T14:48:35.725Z"
   },
   {
    "duration": 2777,
    "start_time": "2021-06-11T14:48:35.807Z"
   },
   {
    "duration": 15,
    "start_time": "2021-06-11T14:48:38.587Z"
   },
   {
    "duration": 65,
    "start_time": "2021-06-11T14:48:38.605Z"
   },
   {
    "duration": 130,
    "start_time": "2021-06-11T14:48:38.673Z"
   },
   {
    "duration": 20,
    "start_time": "2021-06-11T14:48:38.805Z"
   },
   {
    "duration": 40,
    "start_time": "2021-06-11T14:48:38.828Z"
   },
   {
    "duration": 351,
    "start_time": "2021-06-11T14:48:38.870Z"
   },
   {
    "duration": 141,
    "start_time": "2021-06-11T14:48:39.226Z"
   },
   {
    "duration": 39,
    "start_time": "2021-06-11T14:48:39.369Z"
   },
   {
    "duration": 77,
    "start_time": "2021-06-11T14:48:39.411Z"
   },
   {
    "duration": 77,
    "start_time": "2021-06-11T14:48:39.490Z"
   },
   {
    "duration": 809,
    "start_time": "2021-06-11T14:48:39.570Z"
   },
   {
    "duration": 3220,
    "start_time": "2021-06-11T14:48:48.885Z"
   },
   {
    "duration": 5,
    "start_time": "2021-06-11T14:48:52.763Z"
   },
   {
    "duration": 166,
    "start_time": "2021-06-11T14:48:52.995Z"
   },
   {
    "duration": 41,
    "start_time": "2021-06-11T14:48:53.828Z"
   },
   {
    "duration": 110,
    "start_time": "2021-06-11T14:48:54.147Z"
   },
   {
    "duration": 150,
    "start_time": "2021-06-11T14:48:54.333Z"
   },
   {
    "duration": 6,
    "start_time": "2021-06-11T14:48:54.517Z"
   },
   {
    "duration": 67,
    "start_time": "2021-06-11T14:48:55.094Z"
   },
   {
    "duration": 78,
    "start_time": "2021-06-11T14:48:55.461Z"
   },
   {
    "duration": 2842,
    "start_time": "2021-06-11T14:48:55.773Z"
   },
   {
    "duration": 19,
    "start_time": "2021-06-11T14:48:58.618Z"
   },
   {
    "duration": 46,
    "start_time": "2021-06-11T14:48:58.641Z"
   },
   {
    "duration": 141,
    "start_time": "2021-06-11T14:48:58.690Z"
   },
   {
    "duration": 13,
    "start_time": "2021-06-11T14:48:59.500Z"
   },
   {
    "duration": 38,
    "start_time": "2021-06-11T14:48:59.749Z"
   },
   {
    "duration": 293,
    "start_time": "2021-06-11T14:48:59.981Z"
   },
   {
    "duration": 146,
    "start_time": "2021-06-11T14:49:00.277Z"
   },
   {
    "duration": 39,
    "start_time": "2021-06-11T14:49:00.502Z"
   },
   {
    "duration": 60,
    "start_time": "2021-06-11T14:49:00.725Z"
   },
   {
    "duration": 52,
    "start_time": "2021-06-11T14:49:00.957Z"
   },
   {
    "duration": 790,
    "start_time": "2021-06-11T14:49:01.478Z"
   },
   {
    "duration": 40,
    "start_time": "2021-06-11T14:49:02.271Z"
   },
   {
    "duration": 90,
    "start_time": "2021-06-11T14:49:02.341Z"
   },
   {
    "duration": 54,
    "start_time": "2021-06-11T14:49:03.183Z"
   },
   {
    "duration": 592,
    "start_time": "2021-06-11T14:49:04.262Z"
   },
   {
    "duration": 36,
    "start_time": "2021-06-11T14:49:05.901Z"
   },
   {
    "duration": 61,
    "start_time": "2021-06-11T14:49:07.503Z"
   },
   {
    "duration": 7,
    "start_time": "2021-06-11T14:49:07.894Z"
   },
   {
    "duration": 4,
    "start_time": "2021-06-11T14:49:08.607Z"
   },
   {
    "duration": 4,
    "start_time": "2021-06-11T14:49:09.094Z"
   },
   {
    "duration": 1124873,
    "start_time": "2021-06-11T14:49:09.782Z"
   },
   {
    "duration": 388169,
    "start_time": "2021-06-11T15:07:54.657Z"
   },
   {
    "duration": 1101909,
    "start_time": "2021-06-11T15:14:22.831Z"
   },
   {
    "duration": 1436717,
    "start_time": "2021-06-11T15:32:44.743Z"
   },
   {
    "duration": -260,
    "start_time": "2021-06-11T15:56:41.724Z"
   },
   {
    "duration": -259,
    "start_time": "2021-06-11T15:56:41.726Z"
   },
   {
    "duration": -258,
    "start_time": "2021-06-11T15:56:41.727Z"
   },
   {
    "duration": -259,
    "start_time": "2021-06-11T15:56:41.730Z"
   },
   {
    "duration": -259,
    "start_time": "2021-06-11T15:56:41.732Z"
   },
   {
    "duration": -259,
    "start_time": "2021-06-11T15:56:41.734Z"
   },
   {
    "duration": -307,
    "start_time": "2021-06-11T15:56:41.785Z"
   },
   {
    "duration": 14291,
    "start_time": "2021-06-11T15:56:44.999Z"
   },
   {
    "duration": -248,
    "start_time": "2021-06-11T15:56:59.540Z"
   },
   {
    "duration": -247,
    "start_time": "2021-06-11T15:56:59.541Z"
   },
   {
    "duration": -247,
    "start_time": "2021-06-11T15:56:59.542Z"
   },
   {
    "duration": -247,
    "start_time": "2021-06-11T15:56:59.543Z"
   },
   {
    "duration": -247,
    "start_time": "2021-06-11T15:56:59.545Z"
   },
   {
    "duration": -247,
    "start_time": "2021-06-11T15:56:59.546Z"
   },
   {
    "duration": 7156,
    "start_time": "2021-06-11T16:10:10.673Z"
   },
   {
    "duration": 6,
    "start_time": "2021-06-11T16:10:17.832Z"
   },
   {
    "duration": 180,
    "start_time": "2021-06-11T16:10:17.841Z"
   },
   {
    "duration": 42,
    "start_time": "2021-06-11T16:10:18.024Z"
   },
   {
    "duration": 145,
    "start_time": "2021-06-11T16:10:18.069Z"
   },
   {
    "duration": 165,
    "start_time": "2021-06-11T16:10:18.217Z"
   },
   {
    "duration": 6,
    "start_time": "2021-06-11T16:10:18.384Z"
   },
   {
    "duration": 90,
    "start_time": "2021-06-11T16:10:18.394Z"
   },
   {
    "duration": 87,
    "start_time": "2021-06-11T16:10:18.487Z"
   },
   {
    "duration": 2811,
    "start_time": "2021-06-11T16:10:18.576Z"
   },
   {
    "duration": 13,
    "start_time": "2021-06-11T16:10:21.389Z"
   },
   {
    "duration": 61,
    "start_time": "2021-06-11T16:10:21.405Z"
   },
   {
    "duration": 113,
    "start_time": "2021-06-11T16:10:21.469Z"
   },
   {
    "duration": 12,
    "start_time": "2021-06-11T16:10:21.584Z"
   },
   {
    "duration": 58,
    "start_time": "2021-06-11T16:10:21.598Z"
   },
   {
    "duration": 324,
    "start_time": "2021-06-11T16:10:21.658Z"
   },
   {
    "duration": 137,
    "start_time": "2021-06-11T16:10:21.984Z"
   },
   {
    "duration": 39,
    "start_time": "2021-06-11T16:10:22.126Z"
   },
   {
    "duration": 79,
    "start_time": "2021-06-11T16:10:22.167Z"
   },
   {
    "duration": 53,
    "start_time": "2021-06-11T16:10:22.248Z"
   },
   {
    "duration": 821,
    "start_time": "2021-06-11T16:10:22.304Z"
   },
   {
    "duration": 41,
    "start_time": "2021-06-11T16:10:23.127Z"
   },
   {
    "duration": 109,
    "start_time": "2021-06-11T16:10:23.173Z"
   },
   {
    "duration": 63,
    "start_time": "2021-06-11T16:10:23.284Z"
   },
   {
    "duration": 605,
    "start_time": "2021-06-11T16:10:23.349Z"
   },
   {
    "duration": 42,
    "start_time": "2021-06-11T16:10:23.958Z"
   },
   {
    "duration": 83,
    "start_time": "2021-06-11T16:10:24.002Z"
   },
   {
    "duration": 10,
    "start_time": "2021-06-11T16:10:24.087Z"
   },
   {
    "duration": 28,
    "start_time": "2021-06-11T16:10:24.099Z"
   },
   {
    "duration": 15,
    "start_time": "2021-06-11T16:10:24.130Z"
   },
   {
    "duration": 1051613,
    "start_time": "2021-06-11T16:10:24.147Z"
   },
   {
    "duration": 571933,
    "start_time": "2021-06-11T16:27:55.765Z"
   },
   {
    "duration": 308229,
    "start_time": "2021-06-11T16:37:27.701Z"
   },
   {
    "duration": 383,
    "start_time": "2021-06-14T11:16:50.208Z"
   },
   {
    "duration": 342,
    "start_time": "2021-06-14T11:16:51.001Z"
   },
   {
    "duration": 2893,
    "start_time": "2021-06-14T11:16:59.516Z"
   },
   {
    "duration": 12,
    "start_time": "2021-06-14T11:17:02.412Z"
   },
   {
    "duration": 160,
    "start_time": "2021-06-14T11:17:02.428Z"
   },
   {
    "duration": 54,
    "start_time": "2021-06-14T11:17:02.591Z"
   },
   {
    "duration": 169,
    "start_time": "2021-06-14T11:17:02.648Z"
   },
   {
    "duration": 160,
    "start_time": "2021-06-14T11:17:02.820Z"
   },
   {
    "duration": 6,
    "start_time": "2021-06-14T11:17:02.983Z"
   },
   {
    "duration": 91,
    "start_time": "2021-06-14T11:17:02.992Z"
   },
   {
    "duration": 84,
    "start_time": "2021-06-14T11:17:03.085Z"
   },
   {
    "duration": 2814,
    "start_time": "2021-06-14T11:17:03.172Z"
   },
   {
    "duration": 14,
    "start_time": "2021-06-14T11:17:05.989Z"
   },
   {
    "duration": 53,
    "start_time": "2021-06-14T11:17:06.005Z"
   },
   {
    "duration": 120,
    "start_time": "2021-06-14T11:17:06.060Z"
   },
   {
    "duration": 12,
    "start_time": "2021-06-14T11:17:06.182Z"
   },
   {
    "duration": 55,
    "start_time": "2021-06-14T11:17:06.197Z"
   },
   {
    "duration": 334,
    "start_time": "2021-06-14T11:17:06.255Z"
   },
   {
    "duration": 133,
    "start_time": "2021-06-14T11:17:06.591Z"
   },
   {
    "duration": 38,
    "start_time": "2021-06-14T11:17:06.726Z"
   },
   {
    "duration": 83,
    "start_time": "2021-06-14T11:17:06.766Z"
   },
   {
    "duration": 50,
    "start_time": "2021-06-14T11:17:06.852Z"
   },
   {
    "duration": 809,
    "start_time": "2021-06-14T11:17:06.924Z"
   },
   {
    "duration": 39,
    "start_time": "2021-06-14T11:17:07.735Z"
   },
   {
    "duration": 111,
    "start_time": "2021-06-14T11:17:07.777Z"
   },
   {
    "duration": 63,
    "start_time": "2021-06-14T11:17:07.890Z"
   },
   {
    "duration": 711,
    "start_time": "2021-06-14T11:17:07.955Z"
   },
   {
    "duration": 43,
    "start_time": "2021-06-14T11:17:13.178Z"
   },
   {
    "duration": 82,
    "start_time": "2021-06-14T11:17:13.434Z"
   },
   {
    "duration": 10,
    "start_time": "2021-06-14T11:17:13.699Z"
   },
   {
    "duration": 4,
    "start_time": "2021-06-14T11:17:15.434Z"
   },
   {
    "duration": 4,
    "start_time": "2021-06-14T11:17:15.689Z"
   },
   {
    "duration": 339134,
    "start_time": "2021-06-14T11:17:21.073Z"
   },
   {
    "duration": 401,
    "start_time": "2021-06-14T11:22:59.809Z"
   },
   {
    "duration": 399,
    "start_time": "2021-06-14T11:22:59.813Z"
   },
   {
    "duration": 398,
    "start_time": "2021-06-14T11:22:59.815Z"
   },
   {
    "duration": 397,
    "start_time": "2021-06-14T11:22:59.818Z"
   },
   {
    "duration": 263194,
    "start_time": "2021-06-14T11:23:03.505Z"
   },
   {
    "duration": 417,
    "start_time": "2021-06-14T11:27:26.284Z"
   },
   {
    "duration": 414,
    "start_time": "2021-06-14T11:27:26.288Z"
   },
   {
    "duration": 412,
    "start_time": "2021-06-14T11:27:26.292Z"
   },
   {
    "duration": 260957,
    "start_time": "2021-06-14T11:27:30.741Z"
   },
   {
    "duration": 414,
    "start_time": "2021-06-14T11:31:51.286Z"
   },
   {
    "duration": 411,
    "start_time": "2021-06-14T11:31:51.290Z"
   },
   {
    "duration": 410,
    "start_time": "2021-06-14T11:31:51.293Z"
   },
   {
    "duration": 30061,
    "start_time": "2021-06-14T11:31:56.823Z"
   },
   {
    "duration": 2327,
    "start_time": "2021-06-14T11:43:26.671Z"
   },
   {
    "duration": 5,
    "start_time": "2021-06-14T11:43:29.825Z"
   },
   {
    "duration": 148,
    "start_time": "2021-06-14T11:43:29.987Z"
   },
   {
    "duration": 41,
    "start_time": "2021-06-14T11:43:30.145Z"
   },
   {
    "duration": 113,
    "start_time": "2021-06-14T11:43:30.323Z"
   },
   {
    "duration": 153,
    "start_time": "2021-06-14T11:43:30.465Z"
   },
   {
    "duration": 6,
    "start_time": "2021-06-14T11:43:30.620Z"
   },
   {
    "duration": 68,
    "start_time": "2021-06-14T11:43:30.747Z"
   },
   {
    "duration": 89,
    "start_time": "2021-06-14T11:43:30.978Z"
   },
   {
    "duration": 2750,
    "start_time": "2021-06-14T11:43:31.141Z"
   },
   {
    "duration": 13,
    "start_time": "2021-06-14T11:43:33.894Z"
   },
   {
    "duration": 55,
    "start_time": "2021-06-14T11:43:33.909Z"
   },
   {
    "duration": 119,
    "start_time": "2021-06-14T11:43:33.967Z"
   },
   {
    "duration": 10,
    "start_time": "2021-06-14T11:43:34.088Z"
   },
   {
    "duration": 50,
    "start_time": "2021-06-14T11:43:34.101Z"
   },
   {
    "duration": 305,
    "start_time": "2021-06-14T11:43:34.154Z"
   },
   {
    "duration": 130,
    "start_time": "2021-06-14T11:43:34.462Z"
   },
   {
    "duration": 45,
    "start_time": "2021-06-14T11:43:34.594Z"
   },
   {
    "duration": 57,
    "start_time": "2021-06-14T11:43:34.641Z"
   },
   {
    "duration": 71,
    "start_time": "2021-06-14T11:43:34.701Z"
   },
   {
    "duration": 784,
    "start_time": "2021-06-14T11:43:34.775Z"
   },
   {
    "duration": 36,
    "start_time": "2021-06-14T11:43:35.561Z"
   },
   {
    "duration": 103,
    "start_time": "2021-06-14T11:43:35.599Z"
   },
   {
    "duration": 61,
    "start_time": "2021-06-14T11:43:35.705Z"
   },
   {
    "duration": 502,
    "start_time": "2021-06-14T11:43:35.770Z"
   },
   {
    "duration": 52,
    "start_time": "2021-06-14T11:43:36.275Z"
   },
   {
    "duration": 56,
    "start_time": "2021-06-14T11:43:36.329Z"
   },
   {
    "duration": 7,
    "start_time": "2021-06-14T11:43:36.388Z"
   },
   {
    "duration": 27,
    "start_time": "2021-06-14T11:43:36.397Z"
   },
   {
    "duration": 5,
    "start_time": "2021-06-14T11:43:36.427Z"
   },
   {
    "duration": 4,
    "start_time": "2021-06-14T11:43:44.849Z"
   },
   {
    "duration": 95,
    "start_time": "2021-06-14T11:43:45.499Z"
   },
   {
    "duration": 411,
    "start_time": "2021-06-14T11:44:01.180Z"
   },
   {
    "duration": 8,
    "start_time": "2021-06-14T11:44:14.740Z"
   },
   {
    "duration": 91,
    "start_time": "2021-06-14T11:44:16.515Z"
   },
   {
    "duration": 94,
    "start_time": "2021-06-14T11:45:02.564Z"
   },
   {
    "duration": 86,
    "start_time": "2021-06-14T11:46:23.718Z"
   },
   {
    "duration": 101,
    "start_time": "2021-06-14T11:47:11.799Z"
   },
   {
    "duration": 95,
    "start_time": "2021-06-14T11:47:41.096Z"
   },
   {
    "duration": 514,
    "start_time": "2021-06-14T11:51:29.158Z"
   },
   {
    "duration": 396,
    "start_time": "2021-06-14T11:51:42.717Z"
   },
   {
    "duration": 475,
    "start_time": "2021-06-14T11:51:59.637Z"
   },
   {
    "duration": 405,
    "start_time": "2021-06-14T11:52:58.199Z"
   },
   {
    "duration": 128,
    "start_time": "2021-06-14T11:54:06.305Z"
   },
   {
    "duration": 1216,
    "start_time": "2021-06-14T11:55:22.338Z"
   },
   {
    "duration": 136,
    "start_time": "2021-06-14T11:55:47.898Z"
   },
   {
    "duration": 1075,
    "start_time": "2021-06-14T11:55:48.338Z"
   },
   {
    "duration": 99401,
    "start_time": "2021-06-14T11:56:29.310Z"
   },
   {
    "duration": -197,
    "start_time": "2021-06-14T11:58:08.910Z"
   },
   {
    "duration": 161,
    "start_time": "2021-06-14T11:58:22.867Z"
   },
   {
    "duration": 1065,
    "start_time": "2021-06-14T11:58:23.837Z"
   },
   {
    "duration": 180122,
    "start_time": "2021-06-14T11:58:31.166Z"
   },
   {
    "duration": 2857,
    "start_time": "2021-06-14T12:01:45.272Z"
   },
   {
    "duration": 5,
    "start_time": "2021-06-14T12:01:48.132Z"
   },
   {
    "duration": 179,
    "start_time": "2021-06-14T12:01:48.141Z"
   },
   {
    "duration": 44,
    "start_time": "2021-06-14T12:01:48.324Z"
   },
   {
    "duration": 160,
    "start_time": "2021-06-14T12:01:48.371Z"
   },
   {
    "duration": 208,
    "start_time": "2021-06-14T12:01:48.534Z"
   },
   {
    "duration": 5,
    "start_time": "2021-06-14T12:01:48.744Z"
   },
   {
    "duration": 84,
    "start_time": "2021-06-14T12:01:48.752Z"
   },
   {
    "duration": 93,
    "start_time": "2021-06-14T12:01:48.840Z"
   },
   {
    "duration": 2737,
    "start_time": "2021-06-14T12:01:48.936Z"
   },
   {
    "duration": 16,
    "start_time": "2021-06-14T12:01:51.676Z"
   },
   {
    "duration": 68,
    "start_time": "2021-06-14T12:01:51.695Z"
   },
   {
    "duration": 123,
    "start_time": "2021-06-14T12:01:51.766Z"
   },
   {
    "duration": 12,
    "start_time": "2021-06-14T12:01:51.891Z"
   },
   {
    "duration": 51,
    "start_time": "2021-06-14T12:01:51.905Z"
   },
   {
    "duration": 349,
    "start_time": "2021-06-14T12:01:51.958Z"
   },
   {
    "duration": 132,
    "start_time": "2021-06-14T12:01:52.310Z"
   },
   {
    "duration": 38,
    "start_time": "2021-06-14T12:01:52.445Z"
   },
   {
    "duration": 80,
    "start_time": "2021-06-14T12:01:52.485Z"
   },
   {
    "duration": 66,
    "start_time": "2021-06-14T12:01:52.567Z"
   },
   {
    "duration": 779,
    "start_time": "2021-06-14T12:01:52.635Z"
   },
   {
    "duration": 42,
    "start_time": "2021-06-14T12:01:53.416Z"
   },
   {
    "duration": 105,
    "start_time": "2021-06-14T12:01:53.461Z"
   },
   {
    "duration": 60,
    "start_time": "2021-06-14T12:01:53.568Z"
   },
   {
    "duration": 495,
    "start_time": "2021-06-14T12:01:53.631Z"
   },
   {
    "duration": 41,
    "start_time": "2021-06-14T12:01:54.129Z"
   },
   {
    "duration": 60,
    "start_time": "2021-06-14T12:01:54.534Z"
   },
   {
    "duration": 434,
    "start_time": "2021-06-14T12:02:10.134Z"
   },
   {
    "duration": 7,
    "start_time": "2021-06-14T12:02:24.541Z"
   },
   {
    "duration": 4,
    "start_time": "2021-06-14T12:02:28.203Z"
   },
   {
    "duration": 5,
    "start_time": "2021-06-14T12:02:53.315Z"
   },
   {
    "duration": 8,
    "start_time": "2021-06-14T12:02:54.164Z"
   },
   {
    "duration": 158,
    "start_time": "2021-06-14T12:02:54.875Z"
   },
   {
    "duration": 1117,
    "start_time": "2021-06-14T12:02:56.301Z"
   },
   {
    "duration": 66832,
    "start_time": "2021-06-14T12:03:01.066Z"
   },
   {
    "duration": 459,
    "start_time": "2021-06-14T12:04:07.441Z"
   },
   {
    "duration": 1973346,
    "start_time": "2021-06-14T12:04:09.479Z"
   },
   {
    "duration": 128852,
    "start_time": "2021-06-14T12:37:02.827Z"
   },
   {
    "duration": 513,
    "start_time": "2021-06-14T12:39:11.168Z"
   },
   {
    "duration": 53,
    "start_time": "2021-06-14T12:39:15.027Z"
   },
   {
    "duration": 172362,
    "start_time": "2021-06-14T12:39:27.596Z"
   },
   {
    "duration": 761748,
    "start_time": "2021-06-14T12:42:19.961Z"
   },
   {
    "duration": 1405485,
    "start_time": "2021-06-14T12:55:01.712Z"
   },
   {
    "duration": 329,
    "start_time": "2021-06-14T13:18:46.833Z"
   },
   {
    "duration": 2816,
    "start_time": "2021-06-14T13:18:59.553Z"
   },
   {
    "duration": 5,
    "start_time": "2021-06-14T13:19:02.371Z"
   },
   {
    "duration": 170,
    "start_time": "2021-06-14T13:19:02.379Z"
   },
   {
    "duration": 45,
    "start_time": "2021-06-14T13:19:02.551Z"
   },
   {
    "duration": 174,
    "start_time": "2021-06-14T13:19:02.598Z"
   },
   {
    "duration": 174,
    "start_time": "2021-06-14T13:19:02.775Z"
   },
   {
    "duration": 6,
    "start_time": "2021-06-14T13:19:02.951Z"
   },
   {
    "duration": 97,
    "start_time": "2021-06-14T13:19:02.960Z"
   },
   {
    "duration": 86,
    "start_time": "2021-06-14T13:19:03.060Z"
   },
   {
    "duration": 2604,
    "start_time": "2021-06-14T13:19:03.148Z"
   },
   {
    "duration": 14,
    "start_time": "2021-06-14T13:19:05.754Z"
   },
   {
    "duration": 59,
    "start_time": "2021-06-14T13:19:05.770Z"
   },
   {
    "duration": 113,
    "start_time": "2021-06-14T13:19:05.831Z"
   },
   {
    "duration": 10,
    "start_time": "2021-06-14T13:19:05.946Z"
   },
   {
    "duration": 39,
    "start_time": "2021-06-14T13:19:05.959Z"
   },
   {
    "duration": 299,
    "start_time": "2021-06-14T13:19:06.025Z"
   },
   {
    "duration": 133,
    "start_time": "2021-06-14T13:19:06.326Z"
   },
   {
    "duration": 36,
    "start_time": "2021-06-14T13:19:06.461Z"
   },
   {
    "duration": 78,
    "start_time": "2021-06-14T13:19:06.499Z"
   },
   {
    "duration": 62,
    "start_time": "2021-06-14T13:19:06.579Z"
   },
   {
    "duration": 750,
    "start_time": "2021-06-14T13:19:06.643Z"
   },
   {
    "duration": 43,
    "start_time": "2021-06-14T13:19:07.396Z"
   },
   {
    "duration": 101,
    "start_time": "2021-06-14T13:19:07.443Z"
   },
   {
    "duration": 53,
    "start_time": "2021-06-14T13:19:07.546Z"
   },
   {
    "duration": 497,
    "start_time": "2021-06-14T13:19:07.601Z"
   },
   {
    "duration": 52,
    "start_time": "2021-06-14T13:19:08.100Z"
   },
   {
    "duration": 70,
    "start_time": "2021-06-14T13:19:08.154Z"
   },
   {
    "duration": 3,
    "start_time": "2021-06-14T13:19:15.295Z"
   },
   {
    "duration": 8,
    "start_time": "2021-06-14T13:19:16.313Z"
   },
   {
    "duration": 71373,
    "start_time": "2021-06-14T13:19:21.479Z"
   },
   {
    "duration": 4,
    "start_time": "2021-06-14T13:20:33.585Z"
   },
   {
    "duration": 126,
    "start_time": "2021-06-14T13:20:40.530Z"
   },
   {
    "duration": 7,
    "start_time": "2021-06-14T13:21:01.107Z"
   },
   {
    "duration": 129,
    "start_time": "2021-06-14T13:21:09.323Z"
   },
   {
    "duration": 222,
    "start_time": "2021-06-14T13:21:18.907Z"
   },
   {
    "duration": 1103,
    "start_time": "2021-06-14T13:21:48.467Z"
   },
   {
    "duration": 2798,
    "start_time": "2021-06-14T14:13:41.454Z"
   },
   {
    "duration": 5,
    "start_time": "2021-06-14T14:13:44.254Z"
   },
   {
    "duration": 165,
    "start_time": "2021-06-14T14:13:44.262Z"
   },
   {
    "duration": 41,
    "start_time": "2021-06-14T14:13:44.430Z"
   },
   {
    "duration": 135,
    "start_time": "2021-06-14T14:13:44.473Z"
   },
   {
    "duration": 161,
    "start_time": "2021-06-14T14:13:44.610Z"
   },
   {
    "duration": 6,
    "start_time": "2021-06-14T14:13:44.774Z"
   },
   {
    "duration": 84,
    "start_time": "2021-06-14T14:13:44.783Z"
   },
   {
    "duration": 83,
    "start_time": "2021-06-14T14:13:44.870Z"
   },
   {
    "duration": 3071,
    "start_time": "2021-06-14T14:13:45.536Z"
   },
   {
    "duration": 16,
    "start_time": "2021-06-14T14:13:48.610Z"
   },
   {
    "duration": 46,
    "start_time": "2021-06-14T14:13:48.629Z"
   },
   {
    "duration": 127,
    "start_time": "2021-06-14T14:13:48.678Z"
   },
   {
    "duration": 17,
    "start_time": "2021-06-14T14:13:48.807Z"
   },
   {
    "duration": 36,
    "start_time": "2021-06-14T14:13:48.826Z"
   },
   {
    "duration": 324,
    "start_time": "2021-06-14T14:13:48.864Z"
   },
   {
    "duration": 128,
    "start_time": "2021-06-14T14:13:49.191Z"
   },
   {
    "duration": 37,
    "start_time": "2021-06-14T14:13:49.325Z"
   },
   {
    "duration": 57,
    "start_time": "2021-06-14T14:13:49.448Z"
   },
   {
    "duration": 51,
    "start_time": "2021-06-14T14:13:49.920Z"
   },
   {
    "duration": 719,
    "start_time": "2021-06-14T14:13:50.737Z"
   },
   {
    "duration": 37,
    "start_time": "2021-06-14T14:13:51.528Z"
   },
   {
    "duration": 87,
    "start_time": "2021-06-14T14:13:52.063Z"
   },
   {
    "duration": 55,
    "start_time": "2021-06-14T14:13:52.905Z"
   },
   {
    "duration": 496,
    "start_time": "2021-06-14T14:13:53.394Z"
   },
   {
    "duration": 40,
    "start_time": "2021-06-14T14:13:58.936Z"
   },
   {
    "duration": 60,
    "start_time": "2021-06-14T14:13:59.352Z"
   },
   {
    "duration": 3,
    "start_time": "2021-06-14T14:14:07.064Z"
   },
   {
    "duration": 8,
    "start_time": "2021-06-14T14:14:07.483Z"
   },
   {
    "duration": 181,
    "start_time": "2021-06-14T14:14:09.745Z"
   },
   {
    "duration": 1071,
    "start_time": "2021-06-14T14:14:10.633Z"
   },
   {
    "duration": 171123,
    "start_time": "2021-06-14T14:14:11.707Z"
   },
   {
    "duration": 1900293,
    "start_time": "2021-06-14T14:17:02.832Z"
   },
   {
    "duration": 1408360,
    "start_time": "2021-06-14T14:48:43.128Z"
   },
   {
    "duration": 3069,
    "start_time": "2021-06-14T16:32:08.608Z"
   },
   {
    "duration": 5,
    "start_time": "2021-06-14T16:32:11.680Z"
   },
   {
    "duration": 180,
    "start_time": "2021-06-14T16:32:11.692Z"
   },
   {
    "duration": 53,
    "start_time": "2021-06-14T16:32:11.875Z"
   },
   {
    "duration": 156,
    "start_time": "2021-06-14T16:32:11.933Z"
   },
   {
    "duration": 152,
    "start_time": "2021-06-14T16:32:15.181Z"
   },
   {
    "duration": 6,
    "start_time": "2021-06-14T16:32:15.515Z"
   },
   {
    "duration": 75,
    "start_time": "2021-06-14T16:32:15.655Z"
   },
   {
    "duration": 82,
    "start_time": "2021-06-14T16:32:15.819Z"
   },
   {
    "duration": 2993,
    "start_time": "2021-06-14T16:32:15.979Z"
   },
   {
    "duration": 13,
    "start_time": "2021-06-14T16:32:18.974Z"
   },
   {
    "duration": 60,
    "start_time": "2021-06-14T16:32:18.989Z"
   },
   {
    "duration": 115,
    "start_time": "2021-06-14T16:32:19.052Z"
   },
   {
    "duration": 11,
    "start_time": "2021-06-14T16:32:19.169Z"
   },
   {
    "duration": 50,
    "start_time": "2021-06-14T16:32:19.183Z"
   },
   {
    "duration": 314,
    "start_time": "2021-06-14T16:32:19.235Z"
   },
   {
    "duration": 136,
    "start_time": "2021-06-14T16:32:19.552Z"
   },
   {
    "duration": 45,
    "start_time": "2021-06-14T16:32:19.691Z"
   },
   {
    "duration": 60,
    "start_time": "2021-06-14T16:32:19.739Z"
   },
   {
    "duration": 68,
    "start_time": "2021-06-14T16:32:19.802Z"
   },
   {
    "duration": 953,
    "start_time": "2021-06-14T16:32:19.873Z"
   },
   {
    "duration": 37,
    "start_time": "2021-06-14T16:32:20.828Z"
   },
   {
    "duration": 108,
    "start_time": "2021-06-14T16:32:20.868Z"
   },
   {
    "duration": 62,
    "start_time": "2021-06-14T16:32:20.978Z"
   },
   {
    "duration": 507,
    "start_time": "2021-06-14T16:32:21.043Z"
   },
   {
    "duration": 40,
    "start_time": "2021-06-14T16:32:22.141Z"
   },
   {
    "duration": 61,
    "start_time": "2021-06-14T16:32:23.404Z"
   },
   {
    "duration": 4,
    "start_time": "2021-06-14T16:32:31.444Z"
   },
   {
    "duration": 8,
    "start_time": "2021-06-14T16:32:32.079Z"
   },
   {
    "duration": 2477,
    "start_time": "2021-06-14T16:58:19.460Z"
   },
   {
    "duration": 5,
    "start_time": "2021-06-14T16:58:21.940Z"
   },
   {
    "duration": 168,
    "start_time": "2021-06-14T16:58:21.949Z"
   },
   {
    "duration": 42,
    "start_time": "2021-06-14T16:58:22.120Z"
   },
   {
    "duration": 135,
    "start_time": "2021-06-14T16:58:22.165Z"
   },
   {
    "duration": 159,
    "start_time": "2021-06-14T16:58:22.303Z"
   },
   {
    "duration": 6,
    "start_time": "2021-06-14T16:58:22.464Z"
   },
   {
    "duration": 97,
    "start_time": "2021-06-14T16:58:22.473Z"
   },
   {
    "duration": 79,
    "start_time": "2021-06-14T16:58:22.573Z"
   },
   {
    "duration": 3160,
    "start_time": "2021-06-14T16:58:22.654Z"
   },
   {
    "duration": 19,
    "start_time": "2021-06-14T16:58:25.816Z"
   },
   {
    "duration": 43,
    "start_time": "2021-06-14T16:58:25.837Z"
   },
   {
    "duration": 124,
    "start_time": "2021-06-14T16:58:25.882Z"
   },
   {
    "duration": 24,
    "start_time": "2021-06-14T16:58:26.008Z"
   },
   {
    "duration": 37,
    "start_time": "2021-06-14T16:58:26.034Z"
   },
   {
    "duration": 326,
    "start_time": "2021-06-14T16:58:26.074Z"
   },
   {
    "duration": 143,
    "start_time": "2021-06-14T16:58:26.402Z"
   },
   {
    "duration": 39,
    "start_time": "2021-06-14T16:58:26.548Z"
   },
   {
    "duration": 74,
    "start_time": "2021-06-14T16:58:26.590Z"
   },
   {
    "duration": 64,
    "start_time": "2021-06-14T16:58:26.666Z"
   },
   {
    "duration": 741,
    "start_time": "2021-06-14T16:58:26.733Z"
   },
   {
    "duration": 49,
    "start_time": "2021-06-14T16:58:27.476Z"
   },
   {
    "duration": 97,
    "start_time": "2021-06-14T16:58:27.527Z"
   },
   {
    "duration": 55,
    "start_time": "2021-06-14T16:58:27.626Z"
   },
   {
    "duration": 500,
    "start_time": "2021-06-14T16:58:27.684Z"
   },
   {
    "duration": 52,
    "start_time": "2021-06-14T16:58:28.187Z"
   },
   {
    "duration": 60,
    "start_time": "2021-06-14T16:58:28.242Z"
   },
   {
    "duration": 3,
    "start_time": "2021-06-14T16:58:38.450Z"
   },
   {
    "duration": 8,
    "start_time": "2021-06-14T16:58:39.307Z"
   },
   {
    "duration": 158,
    "start_time": "2021-06-14T16:58:39.978Z"
   },
   {
    "duration": 1085,
    "start_time": "2021-06-14T16:58:40.859Z"
   },
   {
    "duration": 19620,
    "start_time": "2021-06-15T10:37:44.463Z"
   },
   {
    "duration": 7852,
    "start_time": "2021-06-15T10:38:34.034Z"
   },
   {
    "duration": 5,
    "start_time": "2021-06-15T10:38:43.399Z"
   },
   {
    "duration": 151,
    "start_time": "2021-06-15T10:38:43.552Z"
   },
   {
    "duration": 39,
    "start_time": "2021-06-15T10:38:43.715Z"
   },
   {
    "duration": 110,
    "start_time": "2021-06-15T10:38:43.872Z"
   },
   {
    "duration": 157,
    "start_time": "2021-06-15T10:38:44.134Z"
   },
   {
    "duration": 6,
    "start_time": "2021-06-15T10:38:44.320Z"
   },
   {
    "duration": 103,
    "start_time": "2021-06-15T10:38:44.465Z"
   },
   {
    "duration": 119,
    "start_time": "2021-06-15T10:38:44.625Z"
   },
   {
    "duration": 3017,
    "start_time": "2021-06-15T10:38:44.785Z"
   },
   {
    "duration": 14,
    "start_time": "2021-06-15T10:38:47.805Z"
   },
   {
    "duration": 57,
    "start_time": "2021-06-15T10:38:47.822Z"
   },
   {
    "duration": 118,
    "start_time": "2021-06-15T10:38:47.882Z"
   },
   {
    "duration": 11,
    "start_time": "2021-06-15T10:38:48.002Z"
   },
   {
    "duration": 56,
    "start_time": "2021-06-15T10:38:48.016Z"
   },
   {
    "duration": 339,
    "start_time": "2021-06-15T10:38:48.075Z"
   },
   {
    "duration": 137,
    "start_time": "2021-06-15T10:38:48.418Z"
   },
   {
    "duration": 39,
    "start_time": "2021-06-15T10:38:48.558Z"
   },
   {
    "duration": 78,
    "start_time": "2021-06-15T10:38:48.600Z"
   },
   {
    "duration": 53,
    "start_time": "2021-06-15T10:38:48.681Z"
   },
   {
    "duration": 922,
    "start_time": "2021-06-15T10:38:48.737Z"
   },
   {
    "duration": 40,
    "start_time": "2021-06-15T10:38:49.662Z"
   },
   {
    "duration": 116,
    "start_time": "2021-06-15T10:38:49.705Z"
   },
   {
    "duration": 72,
    "start_time": "2021-06-15T10:38:49.825Z"
   },
   {
    "duration": 607,
    "start_time": "2021-06-15T10:38:49.900Z"
   },
   {
    "duration": 39,
    "start_time": "2021-06-15T10:38:50.509Z"
   },
   {
    "duration": 61,
    "start_time": "2021-06-15T10:38:50.563Z"
   },
   {
    "duration": 7,
    "start_time": "2021-06-15T10:38:50.627Z"
   },
   {
    "duration": 38,
    "start_time": "2021-06-15T10:38:50.638Z"
   },
   {
    "duration": 8,
    "start_time": "2021-06-15T10:38:50.679Z"
   },
   {
    "duration": 3,
    "start_time": "2021-06-15T10:38:58.327Z"
   },
   {
    "duration": 8,
    "start_time": "2021-06-15T10:39:01.107Z"
   },
   {
    "duration": 275,
    "start_time": "2021-06-15T10:39:03.288Z"
   },
   {
    "duration": 1182,
    "start_time": "2021-06-15T10:39:05.296Z"
   },
   {
    "duration": 522,
    "start_time": "2021-06-15T10:39:16.042Z"
   },
   {
    "duration": 4,
    "start_time": "2021-06-15T10:40:09.906Z"
   },
   {
    "duration": 7,
    "start_time": "2021-06-15T11:14:01.614Z"
   },
   {
    "duration": 389,
    "start_time": "2021-06-15T11:14:20.505Z"
   },
   {
    "duration": 9193,
    "start_time": "2021-06-15T12:07:15.883Z"
   },
   {
    "duration": 5,
    "start_time": "2021-06-15T12:07:25.079Z"
   },
   {
    "duration": 173,
    "start_time": "2021-06-15T12:07:25.086Z"
   },
   {
    "duration": 39,
    "start_time": "2021-06-15T12:07:25.262Z"
   },
   {
    "duration": 129,
    "start_time": "2021-06-15T12:07:25.303Z"
   },
   {
    "duration": 166,
    "start_time": "2021-06-15T12:07:25.434Z"
   },
   {
    "duration": 12,
    "start_time": "2021-06-15T12:07:25.603Z"
   },
   {
    "duration": 89,
    "start_time": "2021-06-15T12:07:25.618Z"
   },
   {
    "duration": 86,
    "start_time": "2021-06-15T12:07:25.709Z"
   },
   {
    "duration": 2877,
    "start_time": "2021-06-15T12:07:25.798Z"
   },
   {
    "duration": 12,
    "start_time": "2021-06-15T12:07:28.678Z"
   },
   {
    "duration": 50,
    "start_time": "2021-06-15T12:07:28.692Z"
   },
   {
    "duration": 113,
    "start_time": "2021-06-15T12:07:28.761Z"
   },
   {
    "duration": 14,
    "start_time": "2021-06-15T12:07:31.164Z"
   },
   {
    "duration": 62,
    "start_time": "2021-06-15T12:07:31.316Z"
   },
   {
    "duration": 315,
    "start_time": "2021-06-15T12:07:31.470Z"
   },
   {
    "duration": 139,
    "start_time": "2021-06-15T12:07:31.788Z"
   },
   {
    "duration": 40,
    "start_time": "2021-06-15T12:07:32.180Z"
   },
   {
    "duration": 58,
    "start_time": "2021-06-15T12:07:32.397Z"
   },
   {
    "duration": 52,
    "start_time": "2021-06-15T12:07:32.549Z"
   },
   {
    "duration": 754,
    "start_time": "2021-06-15T12:07:32.708Z"
   },
   {
    "duration": 38,
    "start_time": "2021-06-15T12:07:33.464Z"
   },
   {
    "duration": 105,
    "start_time": "2021-06-15T12:07:33.505Z"
   },
   {
    "duration": 70,
    "start_time": "2021-06-15T12:07:33.613Z"
   },
   {
    "duration": 592,
    "start_time": "2021-06-15T12:07:33.685Z"
   },
   {
    "duration": 41,
    "start_time": "2021-06-15T12:07:35.293Z"
   },
   {
    "duration": 57,
    "start_time": "2021-06-15T12:07:35.500Z"
   },
   {
    "duration": 7,
    "start_time": "2021-06-15T12:07:36.205Z"
   },
   {
    "duration": 4,
    "start_time": "2021-06-15T12:07:37.355Z"
   },
   {
    "duration": 4,
    "start_time": "2021-06-15T12:07:38.580Z"
   },
   {
    "duration": 3129,
    "start_time": "2021-06-15T12:45:42.659Z"
   },
   {
    "duration": 5,
    "start_time": "2021-06-15T12:45:45.791Z"
   },
   {
    "duration": 171,
    "start_time": "2021-06-15T12:45:45.799Z"
   },
   {
    "duration": 42,
    "start_time": "2021-06-15T12:45:45.973Z"
   },
   {
    "duration": 115,
    "start_time": "2021-06-15T12:45:49.051Z"
   },
   {
    "duration": 156,
    "start_time": "2021-06-15T12:45:49.211Z"
   },
   {
    "duration": 5,
    "start_time": "2021-06-15T12:45:49.459Z"
   },
   {
    "duration": 69,
    "start_time": "2021-06-15T12:45:51.028Z"
   },
   {
    "duration": 83,
    "start_time": "2021-06-15T12:45:51.219Z"
   },
   {
    "duration": 2851,
    "start_time": "2021-06-15T12:45:51.411Z"
   },
   {
    "duration": 13,
    "start_time": "2021-06-15T12:45:54.264Z"
   },
   {
    "duration": 43,
    "start_time": "2021-06-15T12:45:54.280Z"
   },
   {
    "duration": 136,
    "start_time": "2021-06-15T12:45:54.325Z"
   },
   {
    "duration": 11,
    "start_time": "2021-06-15T12:45:54.464Z"
   },
   {
    "duration": 38,
    "start_time": "2021-06-15T12:45:54.477Z"
   },
   {
    "duration": 345,
    "start_time": "2021-06-15T12:45:54.517Z"
   },
   {
    "duration": 143,
    "start_time": "2021-06-15T12:45:54.866Z"
   },
   {
    "duration": 50,
    "start_time": "2021-06-15T12:45:55.013Z"
   },
   {
    "duration": 58,
    "start_time": "2021-06-15T12:45:55.066Z"
   },
   {
    "duration": 54,
    "start_time": "2021-06-15T12:45:55.166Z"
   },
   {
    "duration": 754,
    "start_time": "2021-06-15T12:45:55.452Z"
   },
   {
    "duration": 54,
    "start_time": "2021-06-15T12:45:56.208Z"
   },
   {
    "duration": 89,
    "start_time": "2021-06-15T12:45:56.264Z"
   },
   {
    "duration": 58,
    "start_time": "2021-06-15T12:45:57.003Z"
   },
   {
    "duration": 595,
    "start_time": "2021-06-15T12:45:57.238Z"
   },
   {
    "duration": 42,
    "start_time": "2021-06-15T12:46:00.171Z"
   },
   {
    "duration": 62,
    "start_time": "2021-06-15T12:46:00.725Z"
   },
   {
    "duration": 4,
    "start_time": "2021-06-15T12:46:14.699Z"
   },
   {
    "duration": 9,
    "start_time": "2021-06-15T12:46:16.749Z"
   },
   {
    "duration": 23570,
    "start_time": "2021-06-16T12:17:42.341Z"
   },
   {
    "duration": 3846,
    "start_time": "2021-06-16T12:18:11.831Z"
   },
   {
    "duration": 6,
    "start_time": "2021-06-16T12:18:15.679Z"
   },
   {
    "duration": 176,
    "start_time": "2021-06-16T12:18:15.689Z"
   },
   {
    "duration": 40,
    "start_time": "2021-06-16T12:18:15.867Z"
   },
   {
    "duration": 132,
    "start_time": "2021-06-16T12:18:15.909Z"
   },
   {
    "duration": 162,
    "start_time": "2021-06-16T12:18:16.043Z"
   },
   {
    "duration": 5,
    "start_time": "2021-06-16T12:18:16.208Z"
   },
   {
    "duration": 99,
    "start_time": "2021-06-16T12:18:16.216Z"
   },
   {
    "duration": 81,
    "start_time": "2021-06-16T12:18:16.318Z"
   },
   {
    "duration": 2699,
    "start_time": "2021-06-16T12:18:16.401Z"
   },
   {
    "duration": 12,
    "start_time": "2021-06-16T12:18:19.103Z"
   },
   {
    "duration": 61,
    "start_time": "2021-06-16T12:18:19.118Z"
   },
   {
    "duration": 98,
    "start_time": "2021-06-16T12:18:19.387Z"
   },
   {
    "duration": 10,
    "start_time": "2021-06-16T12:18:20.287Z"
   },
   {
    "duration": 39,
    "start_time": "2021-06-16T12:18:20.558Z"
   },
   {
    "duration": 297,
    "start_time": "2021-06-16T12:18:20.832Z"
   },
   {
    "duration": 133,
    "start_time": "2021-06-16T12:18:21.132Z"
   },
   {
    "duration": 38,
    "start_time": "2021-06-16T12:18:21.386Z"
   },
   {
    "duration": 59,
    "start_time": "2021-06-16T12:18:21.605Z"
   },
   {
    "duration": 53,
    "start_time": "2021-06-16T12:18:21.853Z"
   },
   {
    "duration": 774,
    "start_time": "2021-06-16T12:18:22.127Z"
   },
   {
    "duration": 38,
    "start_time": "2021-06-16T12:18:22.904Z"
   },
   {
    "duration": 107,
    "start_time": "2021-06-16T12:18:22.945Z"
   },
   {
    "duration": 54,
    "start_time": "2021-06-16T12:18:23.089Z"
   },
   {
    "duration": 584,
    "start_time": "2021-06-16T12:18:23.497Z"
   },
   {
    "duration": 36,
    "start_time": "2021-06-16T12:18:28.658Z"
   },
   {
    "duration": 57,
    "start_time": "2021-06-16T12:18:29.307Z"
   },
   {
    "duration": 4,
    "start_time": "2021-06-16T12:18:37.637Z"
   },
   {
    "duration": 4,
    "start_time": "2021-06-16T12:18:54.678Z"
   },
   {
    "duration": 8,
    "start_time": "2021-06-16T12:18:55.683Z"
   },
   {
    "duration": 728473,
    "start_time": "2021-06-16T12:19:16.249Z"
   },
   {
    "duration": 350,
    "start_time": "2021-06-16T12:31:41.652Z"
   },
   {
    "duration": 7,
    "start_time": "2021-06-16T12:31:47.837Z"
   },
   {
    "duration": 6,
    "start_time": "2021-06-16T12:31:51.995Z"
   },
   {
    "duration": 98,
    "start_time": "2021-06-16T12:31:54.882Z"
   },
   {
    "duration": 5,
    "start_time": "2021-06-16T12:32:02.254Z"
   },
   {
    "duration": 340,
    "start_time": "2021-06-16T12:32:32.323Z"
   },
   {
    "duration": 188158,
    "start_time": "2021-06-16T12:33:21.120Z"
   },
   {
    "duration": 691,
    "start_time": "2021-06-16T12:36:29.281Z"
   },
   {
    "duration": 11,
    "start_time": "2021-06-16T12:36:47.046Z"
   },
   {
    "duration": 620,
    "start_time": "2021-06-16T12:38:13.170Z"
   },
   {
    "duration": 2538,
    "start_time": "2021-06-16T13:52:06.278Z"
   },
   {
    "duration": 6,
    "start_time": "2021-06-16T13:52:09.868Z"
   },
   {
    "duration": 166,
    "start_time": "2021-06-16T13:52:10.109Z"
   },
   {
    "duration": 43,
    "start_time": "2021-06-16T13:52:10.325Z"
   },
   {
    "duration": 132,
    "start_time": "2021-06-16T13:52:10.591Z"
   },
   {
    "duration": 155,
    "start_time": "2021-06-16T13:52:11.741Z"
   },
   {
    "duration": 9,
    "start_time": "2021-06-16T13:52:14.703Z"
   },
   {
    "duration": 69,
    "start_time": "2021-06-16T13:52:15.214Z"
   },
   {
    "duration": 83,
    "start_time": "2021-06-16T13:52:15.373Z"
   },
   {
    "duration": 2987,
    "start_time": "2021-06-16T13:52:15.459Z"
   },
   {
    "duration": 12,
    "start_time": "2021-06-16T13:52:18.449Z"
   },
   {
    "duration": 60,
    "start_time": "2021-06-16T13:52:18.463Z"
   },
   {
    "duration": 12,
    "start_time": "2021-06-16T13:52:22.110Z"
   },
   {
    "duration": 493,
    "start_time": "2021-06-16T13:55:12.128Z"
   },
   {
    "duration": 264,
    "start_time": "2021-06-16T13:55:33.183Z"
   },
   {
    "duration": 911,
    "start_time": "2021-06-16T13:55:39.178Z"
   },
   {
    "duration": 10,
    "start_time": "2021-06-16T13:55:40.092Z"
   },
   {
    "duration": 166,
    "start_time": "2021-06-16T13:55:40.106Z"
   },
   {
    "duration": 51,
    "start_time": "2021-06-16T13:55:40.275Z"
   },
   {
    "duration": 126,
    "start_time": "2021-06-16T13:55:40.328Z"
   },
   {
    "duration": 170,
    "start_time": "2021-06-16T13:55:40.457Z"
   },
   {
    "duration": 12,
    "start_time": "2021-06-16T13:55:40.630Z"
   },
   {
    "duration": 94,
    "start_time": "2021-06-16T13:55:40.645Z"
   },
   {
    "duration": 83,
    "start_time": "2021-06-16T13:55:41.098Z"
   },
   {
    "duration": 2875,
    "start_time": "2021-06-16T13:55:42.017Z"
   },
   {
    "duration": 15,
    "start_time": "2021-06-16T13:55:44.895Z"
   },
   {
    "duration": 52,
    "start_time": "2021-06-16T13:55:44.914Z"
   },
   {
    "duration": 7774,
    "start_time": "2021-06-16T13:55:44.969Z"
   },
   {
    "duration": 2519,
    "start_time": "2021-06-16T13:56:12.945Z"
   },
   {
    "duration": 5,
    "start_time": "2021-06-16T13:56:15.467Z"
   },
   {
    "duration": 169,
    "start_time": "2021-06-16T13:56:15.475Z"
   },
   {
    "duration": 54,
    "start_time": "2021-06-16T13:56:15.647Z"
   },
   {
    "duration": 111,
    "start_time": "2021-06-16T13:56:15.736Z"
   },
   {
    "duration": 162,
    "start_time": "2021-06-16T13:56:16.087Z"
   },
   {
    "duration": 7,
    "start_time": "2021-06-16T13:56:16.487Z"
   },
   {
    "duration": 65,
    "start_time": "2021-06-16T13:56:16.832Z"
   },
   {
    "duration": 91,
    "start_time": "2021-06-16T13:56:17.159Z"
   },
   {
    "duration": 2808,
    "start_time": "2021-06-16T13:56:17.568Z"
   },
   {
    "duration": 25,
    "start_time": "2021-06-16T13:56:20.378Z"
   },
   {
    "duration": 53,
    "start_time": "2021-06-16T13:56:20.407Z"
   },
   {
    "duration": 7166,
    "start_time": "2021-06-16T13:56:20.463Z"
   },
   {
    "duration": 54,
    "start_time": "2021-06-16T13:56:46.576Z"
   },
   {
    "duration": 538,
    "start_time": "2021-06-16T13:57:07.426Z"
   },
   {
    "duration": 269,
    "start_time": "2021-06-16T13:59:01.429Z"
   },
   {
    "duration": 2455,
    "start_time": "2021-06-16T13:59:10.518Z"
   },
   {
    "duration": 5,
    "start_time": "2021-06-16T13:59:12.976Z"
   },
   {
    "duration": 164,
    "start_time": "2021-06-16T13:59:12.984Z"
   },
   {
    "duration": 52,
    "start_time": "2021-06-16T13:59:13.151Z"
   },
   {
    "duration": 125,
    "start_time": "2021-06-16T13:59:13.206Z"
   },
   {
    "duration": 158,
    "start_time": "2021-06-16T13:59:13.333Z"
   },
   {
    "duration": 10,
    "start_time": "2021-06-16T13:59:13.494Z"
   },
   {
    "duration": 67,
    "start_time": "2021-06-16T13:59:14.339Z"
   },
   {
    "duration": 75,
    "start_time": "2021-06-16T13:59:15.275Z"
   },
   {
    "duration": 2748,
    "start_time": "2021-06-16T13:59:16.170Z"
   },
   {
    "duration": 13,
    "start_time": "2021-06-16T13:59:18.920Z"
   },
   {
    "duration": 67,
    "start_time": "2021-06-16T13:59:18.936Z"
   },
   {
    "duration": 50,
    "start_time": "2021-06-16T13:59:19.283Z"
   },
   {
    "duration": 44,
    "start_time": "2021-06-16T13:59:23.651Z"
   },
   {
    "duration": 47,
    "start_time": "2021-06-16T13:59:36.243Z"
   },
   {
    "duration": 15,
    "start_time": "2021-06-16T13:59:46.383Z"
   },
   {
    "duration": 40,
    "start_time": "2021-06-16T14:00:35.373Z"
   },
   {
    "duration": 30,
    "start_time": "2021-06-16T14:01:14.301Z"
   },
   {
    "duration": 467,
    "start_time": "2021-06-16T14:06:14.608Z"
   },
   {
    "duration": 26,
    "start_time": "2021-06-16T14:06:32.405Z"
   },
   {
    "duration": 863,
    "start_time": "2021-06-16T14:07:24.599Z"
   },
   {
    "duration": 5,
    "start_time": "2021-06-16T14:07:25.465Z"
   },
   {
    "duration": 154,
    "start_time": "2021-06-16T14:07:25.473Z"
   },
   {
    "duration": 36,
    "start_time": "2021-06-16T14:07:25.630Z"
   },
   {
    "duration": 136,
    "start_time": "2021-06-16T14:07:25.668Z"
   },
   {
    "duration": 164,
    "start_time": "2021-06-16T14:07:25.807Z"
   },
   {
    "duration": 6,
    "start_time": "2021-06-16T14:07:25.973Z"
   },
   {
    "duration": 67,
    "start_time": "2021-06-16T14:07:28.630Z"
   },
   {
    "duration": 80,
    "start_time": "2021-06-16T14:07:30.302Z"
   },
   {
    "duration": 2577,
    "start_time": "2021-06-16T14:07:30.943Z"
   },
   {
    "duration": 12,
    "start_time": "2021-06-16T14:07:33.523Z"
   },
   {
    "duration": 65,
    "start_time": "2021-06-16T14:07:33.538Z"
   },
   {
    "duration": 48,
    "start_time": "2021-06-16T14:07:41.856Z"
   },
   {
    "duration": 37,
    "start_time": "2021-06-16T14:07:44.853Z"
   },
   {
    "duration": 20,
    "start_time": "2021-06-16T14:08:03.847Z"
   },
   {
    "duration": 32,
    "start_time": "2021-06-16T14:08:12.112Z"
   },
   {
    "duration": 83,
    "start_time": "2021-06-16T14:10:00.082Z"
   },
   {
    "duration": 426,
    "start_time": "2021-06-16T14:10:08.840Z"
   },
   {
    "duration": 126,
    "start_time": "2021-06-16T14:10:34.418Z"
   },
   {
    "duration": 442,
    "start_time": "2021-06-16T14:10:41.250Z"
   },
   {
    "duration": 432,
    "start_time": "2021-06-16T14:11:18.484Z"
   },
   {
    "duration": 15,
    "start_time": "2021-06-16T14:11:51.739Z"
   },
   {
    "duration": 39,
    "start_time": "2021-06-16T14:11:58.014Z"
   },
   {
    "duration": 12,
    "start_time": "2021-06-16T14:12:18.140Z"
   },
   {
    "duration": 22,
    "start_time": "2021-06-16T14:12:22.035Z"
   },
   {
    "duration": 279,
    "start_time": "2021-06-16T14:12:50.147Z"
   },
   {
    "duration": 424,
    "start_time": "2021-06-16T14:13:06.557Z"
   },
   {
    "duration": 12,
    "start_time": "2021-06-16T14:13:17.239Z"
   },
   {
    "duration": 65,
    "start_time": "2021-06-16T14:15:15.799Z"
   },
   {
    "duration": 12,
    "start_time": "2021-06-16T14:15:19.383Z"
   },
   {
    "duration": 866,
    "start_time": "2021-06-16T14:15:29.634Z"
   },
   {
    "duration": 5,
    "start_time": "2021-06-16T14:15:31.311Z"
   },
   {
    "duration": 2455,
    "start_time": "2021-06-16T14:15:37.571Z"
   },
   {
    "duration": 5,
    "start_time": "2021-06-16T14:15:40.727Z"
   },
   {
    "duration": 224,
    "start_time": "2021-06-16T14:15:41.395Z"
   },
   {
    "duration": 41,
    "start_time": "2021-06-16T14:15:41.926Z"
   },
   {
    "duration": 111,
    "start_time": "2021-06-16T14:15:42.655Z"
   },
   {
    "duration": 155,
    "start_time": "2021-06-16T14:15:44.046Z"
   },
   {
    "duration": 6,
    "start_time": "2021-06-16T14:15:46.737Z"
   },
   {
    "duration": 67,
    "start_time": "2021-06-16T14:15:47.534Z"
   },
   {
    "duration": 84,
    "start_time": "2021-06-16T14:15:48.246Z"
   },
   {
    "duration": 2903,
    "start_time": "2021-06-16T14:15:49.056Z"
   },
   {
    "duration": 16,
    "start_time": "2021-06-16T14:15:51.962Z"
   },
   {
    "duration": 50,
    "start_time": "2021-06-16T14:15:52.855Z"
   },
   {
    "duration": 52,
    "start_time": "2021-06-16T14:15:54.334Z"
   },
   {
    "duration": 42,
    "start_time": "2021-06-16T14:16:12.119Z"
   },
   {
    "duration": 90,
    "start_time": "2021-06-16T14:17:13.065Z"
   },
   {
    "duration": 84,
    "start_time": "2021-06-16T14:17:19.585Z"
   },
   {
    "duration": 45,
    "start_time": "2021-06-16T14:17:29.009Z"
   },
   {
    "duration": 19,
    "start_time": "2021-06-16T14:17:32.761Z"
   },
   {
    "duration": 73,
    "start_time": "2021-06-16T14:17:34.514Z"
   },
   {
    "duration": 43,
    "start_time": "2021-06-16T14:17:39.441Z"
   },
   {
    "duration": 345,
    "start_time": "2021-06-16T14:17:40.939Z"
   },
   {
    "duration": 151,
    "start_time": "2021-06-16T14:17:48.787Z"
   },
   {
    "duration": 46,
    "start_time": "2021-06-16T14:17:50.281Z"
   },
   {
    "duration": 67,
    "start_time": "2021-06-16T14:17:55.217Z"
   },
   {
    "duration": 64,
    "start_time": "2021-06-16T14:18:39.004Z"
   },
   {
    "duration": 27,
    "start_time": "2021-06-16T14:18:58.586Z"
   },
   {
    "duration": 768,
    "start_time": "2021-06-16T14:20:17.054Z"
   },
   {
    "duration": 77,
    "start_time": "2021-06-16T14:20:31.981Z"
   },
   {
    "duration": 130,
    "start_time": "2021-06-16T14:20:40.319Z"
   },
   {
    "duration": 44,
    "start_time": "2021-06-16T14:21:01.741Z"
   },
   {
    "duration": 41,
    "start_time": "2021-06-16T14:21:18.263Z"
   },
   {
    "duration": 100,
    "start_time": "2021-06-16T14:23:23.865Z"
   },
   {
    "duration": 58,
    "start_time": "2021-06-16T14:23:26.113Z"
   },
   {
    "duration": 28,
    "start_time": "2021-06-16T14:26:43.677Z"
   },
   {
    "duration": 39,
    "start_time": "2021-06-16T14:26:44.838Z"
   },
   {
    "duration": 98,
    "start_time": "2021-06-16T14:27:08.175Z"
   },
   {
    "duration": 56,
    "start_time": "2021-06-16T14:27:09.067Z"
   },
   {
    "duration": 635,
    "start_time": "2021-06-16T14:27:15.648Z"
   },
   {
    "duration": 12,
    "start_time": "2021-06-16T14:31:01.737Z"
   },
   {
    "duration": 922,
    "start_time": "2021-06-16T14:31:55.525Z"
   },
   {
    "duration": 5,
    "start_time": "2021-06-16T14:31:56.449Z"
   },
   {
    "duration": 133,
    "start_time": "2021-06-16T14:31:56.457Z"
   },
   {
    "duration": 40,
    "start_time": "2021-06-16T14:31:56.593Z"
   },
   {
    "duration": 130,
    "start_time": "2021-06-16T14:31:56.636Z"
   },
   {
    "duration": 164,
    "start_time": "2021-06-16T14:31:56.768Z"
   },
   {
    "duration": 5,
    "start_time": "2021-06-16T14:31:56.935Z"
   },
   {
    "duration": 94,
    "start_time": "2021-06-16T14:31:56.943Z"
   },
   {
    "duration": 90,
    "start_time": "2021-06-16T14:31:57.039Z"
   },
   {
    "duration": 2696,
    "start_time": "2021-06-16T14:31:57.132Z"
   },
   {
    "duration": 12,
    "start_time": "2021-06-16T14:31:59.831Z"
   },
   {
    "duration": 58,
    "start_time": "2021-06-16T14:31:59.846Z"
   },
   {
    "duration": 53,
    "start_time": "2021-06-16T14:31:59.907Z"
   },
   {
    "duration": 95,
    "start_time": "2021-06-16T14:31:59.963Z"
   },
   {
    "duration": 61,
    "start_time": "2021-06-16T14:32:00.061Z"
   },
   {
    "duration": 20,
    "start_time": "2021-06-16T14:32:00.125Z"
   },
   {
    "duration": 93,
    "start_time": "2021-06-16T14:32:00.148Z"
   },
   {
    "duration": 57,
    "start_time": "2021-06-16T14:32:00.243Z"
   },
   {
    "duration": 336,
    "start_time": "2021-06-16T14:32:00.304Z"
   },
   {
    "duration": 149,
    "start_time": "2021-06-16T14:32:00.642Z"
   },
   {
    "duration": 53,
    "start_time": "2021-06-16T14:32:00.793Z"
   },
   {
    "duration": 79,
    "start_time": "2021-06-16T14:32:00.849Z"
   },
   {
    "duration": 95,
    "start_time": "2021-06-16T14:32:00.931Z"
   },
   {
    "duration": 27,
    "start_time": "2021-06-16T14:32:05.363Z"
   },
   {
    "duration": 41,
    "start_time": "2021-06-16T14:32:08.604Z"
   },
   {
    "duration": 39,
    "start_time": "2021-06-16T14:34:40.680Z"
   },
   {
    "duration": 67,
    "start_time": "2021-06-16T14:34:41.495Z"
   },
   {
    "duration": 11,
    "start_time": "2021-06-16T14:34:43.856Z"
   },
   {
    "duration": 4,
    "start_time": "2021-06-16T14:34:46.792Z"
   },
   {
    "duration": 4,
    "start_time": "2021-06-16T14:34:47.671Z"
   },
   {
    "duration": 30308,
    "start_time": "2021-06-16T14:34:49.903Z"
   },
   {
    "duration": 7,
    "start_time": "2021-06-16T14:35:28.538Z"
   },
   {
    "duration": 4,
    "start_time": "2021-06-16T14:35:29.250Z"
   },
   {
    "duration": 4,
    "start_time": "2021-06-16T14:35:29.679Z"
   },
   {
    "duration": 47551,
    "start_time": "2021-06-16T14:35:30.121Z"
   },
   {
    "duration": 7,
    "start_time": "2021-06-16T14:36:19.898Z"
   },
   {
    "duration": 4,
    "start_time": "2021-06-16T14:36:20.848Z"
   },
   {
    "duration": 4,
    "start_time": "2021-06-16T14:36:21.265Z"
   },
   {
    "duration": 1226969,
    "start_time": "2021-06-16T14:36:21.682Z"
   },
   {
    "duration": 4735,
    "start_time": "2021-06-16T14:57:27.720Z"
   },
   {
    "duration": 823031,
    "start_time": "2021-06-16T14:58:17.404Z"
   },
   {
    "duration": 255366,
    "start_time": "2021-06-16T15:12:18.147Z"
   },
   {
    "duration": 337984,
    "start_time": "2021-06-16T15:16:39.103Z"
   },
   {
    "duration": 9523,
    "start_time": "2021-06-16T15:23:46.562Z"
   },
   {
    "duration": 2118825,
    "start_time": "2021-06-16T15:24:05.959Z"
   },
   {
    "duration": 13482,
    "start_time": "2021-06-16T16:00:26.131Z"
   },
   {
    "duration": 20838,
    "start_time": "2021-06-16T16:00:55.552Z"
   },
   {
    "duration": 292,
    "start_time": "2021-06-16T16:07:10.821Z"
   },
   {
    "duration": 26429,
    "start_time": "2021-06-16T16:07:12.121Z"
   },
   {
    "duration": 272637,
    "start_time": "2021-06-16T16:08:33.851Z"
   },
   {
    "duration": 258,
    "start_time": "2021-06-16T16:13:06.232Z"
   },
   {
    "duration": 348627,
    "start_time": "2021-06-16T16:13:08.480Z"
   },
   {
    "duration": 11728,
    "start_time": "2021-06-16T16:29:30.153Z"
   },
   {
    "duration": 3285,
    "start_time": "2021-06-16T16:35:55.076Z"
   },
   {
    "duration": 5,
    "start_time": "2021-06-16T16:36:00.390Z"
   },
   {
    "duration": 154,
    "start_time": "2021-06-16T16:36:01.032Z"
   },
   {
    "duration": 43,
    "start_time": "2021-06-16T16:36:01.550Z"
   },
   {
    "duration": 112,
    "start_time": "2021-06-16T16:36:01.739Z"
   },
   {
    "duration": 146,
    "start_time": "2021-06-16T16:36:01.908Z"
   },
   {
    "duration": 6,
    "start_time": "2021-06-16T16:36:02.068Z"
   },
   {
    "duration": 68,
    "start_time": "2021-06-16T16:36:02.215Z"
   },
   {
    "duration": 74,
    "start_time": "2021-06-16T16:36:02.366Z"
   },
   {
    "duration": 2598,
    "start_time": "2021-06-16T16:36:02.504Z"
   },
   {
    "duration": 12,
    "start_time": "2021-06-16T16:36:05.104Z"
   },
   {
    "duration": 41,
    "start_time": "2021-06-16T16:36:05.120Z"
   },
   {
    "duration": 75,
    "start_time": "2021-06-16T16:36:05.164Z"
   },
   {
    "duration": 95,
    "start_time": "2021-06-16T16:36:05.241Z"
   },
   {
    "duration": 63,
    "start_time": "2021-06-16T16:36:05.338Z"
   },
   {
    "duration": 18,
    "start_time": "2021-06-16T16:36:05.404Z"
   },
   {
    "duration": 90,
    "start_time": "2021-06-16T16:36:05.426Z"
   },
   {
    "duration": 42,
    "start_time": "2021-06-16T16:36:05.518Z"
   },
   {
    "duration": 362,
    "start_time": "2021-06-16T16:36:05.563Z"
   },
   {
    "duration": 146,
    "start_time": "2021-06-16T16:36:05.927Z"
   },
   {
    "duration": 43,
    "start_time": "2021-06-16T16:36:06.076Z"
   },
   {
    "duration": 86,
    "start_time": "2021-06-16T16:36:06.121Z"
   },
   {
    "duration": 95,
    "start_time": "2021-06-16T16:36:06.209Z"
   },
   {
    "duration": 27,
    "start_time": "2021-06-16T16:36:08.778Z"
   },
   {
    "duration": 39,
    "start_time": "2021-06-16T16:36:39.020Z"
   },
   {
    "duration": 103,
    "start_time": "2021-06-16T16:36:39.665Z"
   },
   {
    "duration": 56,
    "start_time": "2021-06-16T16:36:40.209Z"
   },
   {
    "duration": 629,
    "start_time": "2021-06-16T16:36:41.233Z"
   },
   {
    "duration": 37,
    "start_time": "2021-06-16T16:36:51.858Z"
   },
   {
    "duration": 69,
    "start_time": "2021-06-16T16:36:53.768Z"
   },
   {
    "duration": 7,
    "start_time": "2021-06-16T16:36:55.001Z"
   },
   {
    "duration": 4,
    "start_time": "2021-06-16T16:36:57.378Z"
   },
   {
    "duration": 4,
    "start_time": "2021-06-16T16:36:58.072Z"
   },
   {
    "duration": 42586,
    "start_time": "2021-06-16T16:37:08.338Z"
   },
   {
    "duration": 5990,
    "start_time": "2021-06-16T16:37:53.724Z"
   },
   {
    "duration": 630301,
    "start_time": "2021-06-16T16:38:02.525Z"
   },
   {
    "duration": 8358,
    "start_time": "2021-06-16T16:48:44.737Z"
   },
   {
    "duration": 4018877,
    "start_time": "2021-06-16T16:48:55.436Z"
   },
   {
    "duration": 32730,
    "start_time": "2021-06-16T17:56:13.493Z"
   },
   {
    "duration": 186694,
    "start_time": "2021-06-16T17:56:50.712Z"
   },
   {
    "duration": 3605,
    "start_time": "2021-06-16T18:20:41.062Z"
   },
   {
    "duration": 5,
    "start_time": "2021-06-16T18:20:44.670Z"
   },
   {
    "duration": 154,
    "start_time": "2021-06-16T18:20:45.804Z"
   },
   {
    "duration": 41,
    "start_time": "2021-06-16T18:20:46.138Z"
   },
   {
    "duration": 116,
    "start_time": "2021-06-16T18:20:46.324Z"
   },
   {
    "duration": 152,
    "start_time": "2021-06-16T18:20:46.489Z"
   },
   {
    "duration": 5,
    "start_time": "2021-06-16T18:20:46.649Z"
   },
   {
    "duration": 69,
    "start_time": "2021-06-16T18:20:46.819Z"
   },
   {
    "duration": 74,
    "start_time": "2021-06-16T18:20:47.105Z"
   },
   {
    "duration": 2626,
    "start_time": "2021-06-16T18:20:47.293Z"
   },
   {
    "duration": 13,
    "start_time": "2021-06-16T18:20:49.921Z"
   },
   {
    "duration": 63,
    "start_time": "2021-06-16T18:20:49.937Z"
   },
   {
    "duration": 48,
    "start_time": "2021-06-16T18:20:50.004Z"
   },
   {
    "duration": 95,
    "start_time": "2021-06-16T18:20:50.055Z"
   },
   {
    "duration": 64,
    "start_time": "2021-06-16T18:20:50.153Z"
   },
   {
    "duration": 18,
    "start_time": "2021-06-16T18:20:50.220Z"
   },
   {
    "duration": 93,
    "start_time": "2021-06-16T18:20:50.242Z"
   },
   {
    "duration": 42,
    "start_time": "2021-06-16T18:20:50.338Z"
   },
   {
    "duration": 352,
    "start_time": "2021-06-16T18:20:50.383Z"
   },
   {
    "duration": 148,
    "start_time": "2021-06-16T18:20:50.738Z"
   },
   {
    "duration": 41,
    "start_time": "2021-06-16T18:20:50.889Z"
   },
   {
    "duration": 82,
    "start_time": "2021-06-16T18:20:50.933Z"
   },
   {
    "duration": 93,
    "start_time": "2021-06-16T18:20:51.018Z"
   },
   {
    "duration": 30,
    "start_time": "2021-06-16T18:20:51.114Z"
   },
   {
    "duration": 43,
    "start_time": "2021-06-16T18:20:51.160Z"
   },
   {
    "duration": 97,
    "start_time": "2021-06-16T18:20:51.768Z"
   },
   {
    "duration": 55,
    "start_time": "2021-06-16T18:20:52.474Z"
   },
   {
    "duration": 641,
    "start_time": "2021-06-16T18:20:52.988Z"
   },
   {
    "duration": 43,
    "start_time": "2021-06-16T18:20:56.086Z"
   },
   {
    "duration": 73,
    "start_time": "2021-06-16T18:20:56.913Z"
   },
   {
    "duration": 7,
    "start_time": "2021-06-16T18:20:59.636Z"
   },
   {
    "duration": 4,
    "start_time": "2021-06-16T18:21:00.489Z"
   },
   {
    "duration": 5,
    "start_time": "2021-06-16T18:21:02.682Z"
   },
   {
    "duration": 353,
    "start_time": "2021-06-17T00:16:12.029Z"
   },
   {
    "duration": 3745,
    "start_time": "2021-06-17T00:16:35.249Z"
   },
   {
    "duration": 5,
    "start_time": "2021-06-17T00:16:39.000Z"
   },
   {
    "duration": 177,
    "start_time": "2021-06-17T00:16:39.009Z"
   },
   {
    "duration": 43,
    "start_time": "2021-06-17T00:16:39.189Z"
   },
   {
    "duration": 125,
    "start_time": "2021-06-17T00:16:39.235Z"
   },
   {
    "duration": 154,
    "start_time": "2021-06-17T00:16:39.362Z"
   },
   {
    "duration": 5,
    "start_time": "2021-06-17T00:16:39.518Z"
   },
   {
    "duration": 86,
    "start_time": "2021-06-17T00:16:39.527Z"
   },
   {
    "duration": 85,
    "start_time": "2021-06-17T00:16:39.615Z"
   },
   {
    "duration": 3026,
    "start_time": "2021-06-17T00:16:39.702Z"
   },
   {
    "duration": 12,
    "start_time": "2021-06-17T00:16:42.731Z"
   },
   {
    "duration": 66,
    "start_time": "2021-06-17T00:16:42.746Z"
   },
   {
    "duration": 51,
    "start_time": "2021-06-17T00:16:42.815Z"
   },
   {
    "duration": 104,
    "start_time": "2021-06-17T00:16:42.869Z"
   },
   {
    "duration": 63,
    "start_time": "2021-06-17T00:16:42.977Z"
   },
   {
    "duration": 18,
    "start_time": "2021-06-17T00:16:43.043Z"
   },
   {
    "duration": 99,
    "start_time": "2021-06-17T00:16:43.064Z"
   },
   {
    "duration": 44,
    "start_time": "2021-06-17T00:16:43.166Z"
   },
   {
    "duration": 359,
    "start_time": "2021-06-17T00:16:43.212Z"
   },
   {
    "duration": 151,
    "start_time": "2021-06-17T00:16:43.574Z"
   },
   {
    "duration": 42,
    "start_time": "2021-06-17T00:16:43.728Z"
   },
   {
    "duration": 79,
    "start_time": "2021-06-17T00:16:43.774Z"
   },
   {
    "duration": 88,
    "start_time": "2021-06-17T00:16:43.855Z"
   },
   {
    "duration": 28,
    "start_time": "2021-06-17T00:16:43.945Z"
   },
   {
    "duration": 55,
    "start_time": "2021-06-17T00:16:43.976Z"
   },
   {
    "duration": 99,
    "start_time": "2021-06-17T00:16:44.277Z"
   },
   {
    "duration": 56,
    "start_time": "2021-06-17T00:16:44.775Z"
   },
   {
    "duration": 622,
    "start_time": "2021-06-17T00:16:45.202Z"
   },
   {
    "duration": 42,
    "start_time": "2021-06-17T00:16:47.807Z"
   },
   {
    "duration": 66,
    "start_time": "2021-06-17T00:16:48.590Z"
   },
   {
    "duration": 7,
    "start_time": "2021-06-17T00:16:48.967Z"
   },
   {
    "duration": 4,
    "start_time": "2021-06-17T00:16:49.159Z"
   },
   {
    "duration": 4,
    "start_time": "2021-06-17T00:16:50.534Z"
   },
   {
    "duration": 81842,
    "start_time": "2021-06-17T00:17:03.767Z"
   },
   {
    "duration": 2617888,
    "start_time": "2021-06-17T00:18:25.612Z"
   },
   {
    "duration": 155356,
    "start_time": "2021-06-17T01:02:03.503Z"
   },
   {
    "duration": 13621,
    "start_time": "2021-06-17T10:44:45.583Z"
   },
   {
    "duration": 10281,
    "start_time": "2021-06-17T10:45:07.853Z"
   },
   {
    "duration": 5,
    "start_time": "2021-06-17T10:45:20.210Z"
   },
   {
    "duration": 149,
    "start_time": "2021-06-17T10:45:20.415Z"
   },
   {
    "duration": 39,
    "start_time": "2021-06-17T10:45:20.600Z"
   },
   {
    "duration": 115,
    "start_time": "2021-06-17T10:45:20.746Z"
   },
   {
    "duration": 155,
    "start_time": "2021-06-17T10:45:20.898Z"
   },
   {
    "duration": 6,
    "start_time": "2021-06-17T10:45:21.082Z"
   },
   {
    "duration": 69,
    "start_time": "2021-06-17T10:45:21.298Z"
   },
   {
    "duration": 78,
    "start_time": "2021-06-17T10:45:21.468Z"
   },
   {
    "duration": 2903,
    "start_time": "2021-06-17T10:45:21.635Z"
   },
   {
    "duration": 17,
    "start_time": "2021-06-17T10:45:24.541Z"
   },
   {
    "duration": 80,
    "start_time": "2021-06-17T10:45:24.561Z"
   },
   {
    "duration": 71,
    "start_time": "2021-06-17T10:45:24.644Z"
   },
   {
    "duration": 90,
    "start_time": "2021-06-17T10:45:24.717Z"
   },
   {
    "duration": 59,
    "start_time": "2021-06-17T10:45:24.810Z"
   },
   {
    "duration": 18,
    "start_time": "2021-06-17T10:45:24.871Z"
   },
   {
    "duration": 99,
    "start_time": "2021-06-17T10:45:24.892Z"
   },
   {
    "duration": 55,
    "start_time": "2021-06-17T10:45:24.994Z"
   },
   {
    "duration": 362,
    "start_time": "2021-06-17T10:45:25.051Z"
   },
   {
    "duration": 170,
    "start_time": "2021-06-17T10:45:25.416Z"
   },
   {
    "duration": 44,
    "start_time": "2021-06-17T10:45:25.588Z"
   },
   {
    "duration": 87,
    "start_time": "2021-06-17T10:45:25.634Z"
   },
   {
    "duration": 79,
    "start_time": "2021-06-17T10:45:25.723Z"
   },
   {
    "duration": 43,
    "start_time": "2021-06-17T10:45:25.804Z"
   },
   {
    "duration": 46,
    "start_time": "2021-06-17T10:45:25.850Z"
   },
   {
    "duration": 126,
    "start_time": "2021-06-17T10:45:25.899Z"
   },
   {
    "duration": 56,
    "start_time": "2021-06-17T10:45:26.028Z"
   },
   {
    "duration": 672,
    "start_time": "2021-06-17T10:45:26.115Z"
   },
   {
    "duration": 41,
    "start_time": "2021-06-17T10:45:28.073Z"
   },
   {
    "duration": 101,
    "start_time": "2021-06-17T10:45:28.697Z"
   },
   {
    "duration": 7,
    "start_time": "2021-06-17T10:45:30.100Z"
   },
   {
    "duration": 4,
    "start_time": "2021-06-17T10:45:34.134Z"
   },
   {
    "duration": 4,
    "start_time": "2021-06-17T10:45:34.914Z"
   },
   {
    "duration": 167194,
    "start_time": "2021-06-17T10:47:17.687Z"
   },
   {
    "duration": 250977,
    "start_time": "2021-06-17T10:57:56.456Z"
   },
   {
    "duration": 11371,
    "start_time": "2021-06-17T11:03:20.035Z"
   },
   {
    "duration": 329635,
    "start_time": "2021-06-17T11:03:41.099Z"
   },
   {
    "duration": 643296,
    "start_time": "2021-06-17T11:09:15.388Z"
   },
   {
    "duration": 317964,
    "start_time": "2021-06-17T11:21:32.643Z"
   },
   {
    "duration": 729582,
    "start_time": "2021-06-17T11:27:04.962Z"
   },
   {
    "duration": 83851,
    "start_time": "2021-06-17T11:39:14.546Z"
   },
   {
    "duration": 387140,
    "start_time": "2021-06-17T11:40:38.400Z"
   },
   {
    "duration": 686,
    "start_time": "2021-06-17T11:47:04.856Z"
   },
   {
    "duration": 30820,
    "start_time": "2021-06-17T11:49:12.011Z"
   },
   {
    "duration": 269645,
    "start_time": "2021-06-17T11:49:42.833Z"
   },
   {
    "duration": 330,
    "start_time": "2021-06-17T11:54:12.481Z"
   },
   {
    "duration": -454,
    "start_time": "2021-06-17T11:54:13.268Z"
   },
   {
    "duration": -492,
    "start_time": "2021-06-17T11:54:13.308Z"
   },
   {
    "duration": 361,
    "start_time": "2021-06-17T12:35:38.839Z"
   },
   {
    "duration": 141,
    "start_time": "2021-06-17T12:36:23.620Z"
   },
   {
    "duration": 82459,
    "start_time": "2021-06-17T12:36:29.148Z"
   },
   {
    "duration": 3445,
    "start_time": "2021-06-17T13:00:55.634Z"
   },
   {
    "duration": 5,
    "start_time": "2021-06-17T13:01:00.219Z"
   },
   {
    "duration": 144,
    "start_time": "2021-06-17T13:01:00.388Z"
   },
   {
    "duration": 45,
    "start_time": "2021-06-17T13:01:00.538Z"
   },
   {
    "duration": 122,
    "start_time": "2021-06-17T13:01:00.682Z"
   },
   {
    "duration": 275,
    "start_time": "2021-06-17T13:01:00.826Z"
   },
   {
    "duration": 7,
    "start_time": "2021-06-17T13:01:01.105Z"
   },
   {
    "duration": 121,
    "start_time": "2021-06-17T13:01:01.129Z"
   },
   {
    "duration": 77,
    "start_time": "2021-06-17T13:01:01.362Z"
   },
   {
    "duration": 5138,
    "start_time": "2021-06-17T13:01:01.508Z"
   },
   {
    "duration": 18,
    "start_time": "2021-06-17T13:01:06.650Z"
   },
   {
    "duration": 94,
    "start_time": "2021-06-17T13:01:06.672Z"
   },
   {
    "duration": 72,
    "start_time": "2021-06-17T13:01:06.769Z"
   },
   {
    "duration": 99,
    "start_time": "2021-06-17T13:01:06.843Z"
   },
   {
    "duration": 54,
    "start_time": "2021-06-17T13:01:06.945Z"
   },
   {
    "duration": 36,
    "start_time": "2021-06-17T13:01:07.003Z"
   },
   {
    "duration": 109,
    "start_time": "2021-06-17T13:01:07.045Z"
   },
   {
    "duration": 45,
    "start_time": "2021-06-17T13:01:07.158Z"
   },
   {
    "duration": 377,
    "start_time": "2021-06-17T13:01:07.207Z"
   },
   {
    "duration": 160,
    "start_time": "2021-06-17T13:01:07.586Z"
   },
   {
    "duration": 47,
    "start_time": "2021-06-17T13:01:07.748Z"
   },
   {
    "duration": 92,
    "start_time": "2021-06-17T13:01:07.798Z"
   },
   {
    "duration": 93,
    "start_time": "2021-06-17T13:01:07.893Z"
   },
   {
    "duration": 38,
    "start_time": "2021-06-17T13:01:07.989Z"
   },
   {
    "duration": 44,
    "start_time": "2021-06-17T13:01:08.029Z"
   },
   {
    "duration": 134,
    "start_time": "2021-06-17T13:01:08.075Z"
   },
   {
    "duration": 61,
    "start_time": "2021-06-17T13:01:08.211Z"
   },
   {
    "duration": 718,
    "start_time": "2021-06-17T13:01:08.275Z"
   },
   {
    "duration": 56,
    "start_time": "2021-06-17T13:01:08.996Z"
   },
   {
    "duration": 66,
    "start_time": "2021-06-17T13:01:09.370Z"
   },
   {
    "duration": 7,
    "start_time": "2021-06-17T13:01:11.355Z"
   },
   {
    "duration": 5,
    "start_time": "2021-06-17T13:01:14.746Z"
   },
   {
    "duration": 4,
    "start_time": "2021-06-17T13:01:15.860Z"
   },
   {
    "duration": 1311694,
    "start_time": "2021-06-17T13:01:18.807Z"
   },
   {
    "duration": 9067,
    "start_time": "2021-06-17T13:59:32.802Z"
   },
   {
    "duration": 5,
    "start_time": "2021-06-17T13:59:41.876Z"
   },
   {
    "duration": 183,
    "start_time": "2021-06-17T13:59:41.884Z"
   },
   {
    "duration": 60,
    "start_time": "2021-06-17T13:59:42.069Z"
   },
   {
    "duration": 130,
    "start_time": "2021-06-17T13:59:42.132Z"
   },
   {
    "duration": 179,
    "start_time": "2021-06-17T13:59:42.265Z"
   },
   {
    "duration": 6,
    "start_time": "2021-06-17T13:59:42.446Z"
   },
   {
    "duration": 95,
    "start_time": "2021-06-17T13:59:42.456Z"
   },
   {
    "duration": 88,
    "start_time": "2021-06-17T13:59:42.555Z"
   },
   {
    "duration": 2937,
    "start_time": "2021-06-17T13:59:42.645Z"
   },
   {
    "duration": 14,
    "start_time": "2021-06-17T13:59:45.584Z"
   },
   {
    "duration": 63,
    "start_time": "2021-06-17T13:59:45.600Z"
   },
   {
    "duration": 73,
    "start_time": "2021-06-17T13:59:45.666Z"
   },
   {
    "duration": 94,
    "start_time": "2021-06-17T13:59:45.741Z"
   },
   {
    "duration": 50,
    "start_time": "2021-06-17T13:59:45.837Z"
   },
   {
    "duration": 42,
    "start_time": "2021-06-17T13:59:45.890Z"
   },
   {
    "duration": 76,
    "start_time": "2021-06-17T13:59:45.934Z"
   },
   {
    "duration": 45,
    "start_time": "2021-06-17T13:59:46.025Z"
   },
   {
    "duration": 357,
    "start_time": "2021-06-17T13:59:46.072Z"
   },
   {
    "duration": 160,
    "start_time": "2021-06-17T13:59:46.432Z"
   },
   {
    "duration": 49,
    "start_time": "2021-06-17T13:59:46.595Z"
   },
   {
    "duration": 85,
    "start_time": "2021-06-17T13:59:46.646Z"
   },
   {
    "duration": 95,
    "start_time": "2021-06-17T13:59:46.734Z"
   },
   {
    "duration": 28,
    "start_time": "2021-06-17T13:59:46.831Z"
   },
   {
    "duration": 42,
    "start_time": "2021-06-17T13:59:46.862Z"
   },
   {
    "duration": 114,
    "start_time": "2021-06-17T13:59:46.928Z"
   },
   {
    "duration": 58,
    "start_time": "2021-06-17T13:59:47.045Z"
   },
   {
    "duration": 689,
    "start_time": "2021-06-17T13:59:47.106Z"
   },
   {
    "duration": 52,
    "start_time": "2021-06-17T13:59:47.797Z"
   },
   {
    "duration": 74,
    "start_time": "2021-06-17T13:59:47.851Z"
   },
   {
    "duration": 6,
    "start_time": "2021-06-17T13:59:47.928Z"
   },
   {
    "duration": 8,
    "start_time": "2021-06-17T13:59:47.937Z"
   },
   {
    "duration": 8,
    "start_time": "2021-06-17T13:59:47.947Z"
   },
   {
    "duration": 1170382,
    "start_time": "2021-06-17T13:59:50.450Z"
   },
   {
    "duration": 477,
    "start_time": "2021-06-17T14:19:20.836Z"
   },
   {
    "duration": 82274,
    "start_time": "2021-06-17T14:22:11.336Z"
   },
   {
    "duration": 887234,
    "start_time": "2021-06-17T14:23:33.613Z"
   },
   {
    "duration": 1720949,
    "start_time": "2021-06-17T14:42:34.495Z"
   },
   {
    "duration": 2004967,
    "start_time": "2021-06-17T15:12:51.336Z"
   },
   {
    "duration": 1641022,
    "start_time": "2021-06-17T15:51:02.552Z"
   },
   {
    "duration": 2516817,
    "start_time": "2021-06-17T16:19:29.943Z"
   },
   {
    "duration": 2291015,
    "start_time": "2021-06-17T17:03:41.533Z"
   },
   {
    "duration": 3,
    "start_time": "2021-06-17T17:42:45.675Z"
   },
   {
    "duration": 9,
    "start_time": "2021-06-17T17:42:46.189Z"
   },
   {
    "duration": 278,
    "start_time": "2021-06-17T17:42:46.948Z"
   },
   {
    "duration": 1332,
    "start_time": "2021-06-17T17:42:47.773Z"
   },
   {
    "duration": 52718,
    "start_time": "2021-06-17T17:42:49.108Z"
   },
   {
    "duration": 1069,
    "start_time": "2021-06-17T17:43:40.760Z"
   },
   {
    "duration": 1061,
    "start_time": "2021-06-17T17:43:40.770Z"
   },
   {
    "duration": 1059,
    "start_time": "2021-06-17T17:43:40.774Z"
   },
   {
    "duration": 1031,
    "start_time": "2021-06-17T17:43:40.803Z"
   },
   {
    "duration": 1028,
    "start_time": "2021-06-17T17:43:40.808Z"
   },
   {
    "duration": 1027,
    "start_time": "2021-06-17T17:43:40.811Z"
   },
   {
    "duration": 13,
    "start_time": "2021-06-17T17:43:48.430Z"
   },
   {
    "duration": 109850,
    "start_time": "2021-06-17T17:43:51.296Z"
   },
   {
    "duration": 9252,
    "start_time": "2021-06-17T17:48:02.774Z"
   },
   {
    "duration": 4,
    "start_time": "2021-06-17T17:48:12.029Z"
   },
   {
    "duration": 172,
    "start_time": "2021-06-17T17:48:12.036Z"
   },
   {
    "duration": 52,
    "start_time": "2021-06-17T17:48:12.210Z"
   },
   {
    "duration": 162,
    "start_time": "2021-06-17T17:48:12.264Z"
   },
   {
    "duration": 161,
    "start_time": "2021-06-17T17:48:12.429Z"
   },
   {
    "duration": 6,
    "start_time": "2021-06-17T17:48:12.592Z"
   },
   {
    "duration": 89,
    "start_time": "2021-06-17T17:48:12.603Z"
   },
   {
    "duration": 88,
    "start_time": "2021-06-17T17:48:12.694Z"
   },
   {
    "duration": 2929,
    "start_time": "2021-06-17T17:48:12.785Z"
   },
   {
    "duration": 17,
    "start_time": "2021-06-17T17:48:15.717Z"
   },
   {
    "duration": 44,
    "start_time": "2021-06-17T17:48:15.737Z"
   },
   {
    "duration": 71,
    "start_time": "2021-06-17T17:48:15.783Z"
   },
   {
    "duration": 104,
    "start_time": "2021-06-17T17:48:15.857Z"
   },
   {
    "duration": 60,
    "start_time": "2021-06-17T17:48:15.965Z"
   },
   {
    "duration": 20,
    "start_time": "2021-06-17T17:48:16.028Z"
   },
   {
    "duration": 91,
    "start_time": "2021-06-17T17:48:16.051Z"
   },
   {
    "duration": 43,
    "start_time": "2021-06-17T17:48:16.144Z"
   },
   {
    "duration": 479,
    "start_time": "2021-06-17T17:48:16.190Z"
   },
   {
    "duration": 219,
    "start_time": "2021-06-17T17:48:16.673Z"
   },
   {
    "duration": 83,
    "start_time": "2021-06-17T17:48:16.895Z"
   },
   {
    "duration": 132,
    "start_time": "2021-06-17T17:48:16.981Z"
   },
   {
    "duration": 115,
    "start_time": "2021-06-17T17:48:17.117Z"
   },
   {
    "duration": 42,
    "start_time": "2021-06-17T17:48:17.236Z"
   },
   {
    "duration": 87,
    "start_time": "2021-06-17T17:48:17.281Z"
   },
   {
    "duration": 170,
    "start_time": "2021-06-17T17:48:18.445Z"
   },
   {
    "duration": 79,
    "start_time": "2021-06-17T17:48:21.790Z"
   },
   {
    "duration": 676,
    "start_time": "2021-06-17T17:48:22.190Z"
   },
   {
    "duration": 40,
    "start_time": "2021-06-17T17:48:24.384Z"
   },
   {
    "duration": 69,
    "start_time": "2021-06-17T17:48:25.326Z"
   },
   {
    "duration": 7,
    "start_time": "2021-06-17T17:48:33.486Z"
   },
   {
    "duration": 9,
    "start_time": "2021-06-17T17:48:35.233Z"
   },
   {
    "duration": 193,
    "start_time": "2021-06-17T17:48:36.344Z"
   },
   {
    "duration": 1341,
    "start_time": "2021-06-17T17:48:38.095Z"
   },
   {
    "duration": 85345,
    "start_time": "2021-06-17T17:48:39.439Z"
   },
   {
    "duration": 83804,
    "start_time": "2021-06-17T17:50:04.788Z"
   },
   {
    "duration": 644169,
    "start_time": "2021-06-17T17:51:28.595Z"
   },
   {
    "duration": 1439,
    "start_time": "2021-06-17T18:02:11.328Z"
   },
   {
    "duration": 1433,
    "start_time": "2021-06-17T18:02:11.336Z"
   },
   {
    "duration": 1428,
    "start_time": "2021-06-17T18:02:11.342Z"
   },
   {
    "duration": 1427,
    "start_time": "2021-06-17T18:02:11.345Z"
   },
   {
    "duration": 95935,
    "start_time": "2021-06-17T18:02:18.644Z"
   },
   {
    "duration": 3195,
    "start_time": "2021-06-17T18:04:05.449Z"
   },
   {
    "duration": 5,
    "start_time": "2021-06-17T18:04:10.752Z"
   },
   {
    "duration": 155,
    "start_time": "2021-06-17T18:04:10.920Z"
   },
   {
    "duration": 56,
    "start_time": "2021-06-17T18:04:11.078Z"
   },
   {
    "duration": 118,
    "start_time": "2021-06-17T18:04:11.194Z"
   },
   {
    "duration": 152,
    "start_time": "2021-06-17T18:04:11.327Z"
   },
   {
    "duration": 10,
    "start_time": "2021-06-17T18:04:11.482Z"
   },
   {
    "duration": 67,
    "start_time": "2021-06-17T18:04:11.613Z"
   },
   {
    "duration": 77,
    "start_time": "2021-06-17T18:04:11.743Z"
   },
   {
    "duration": 2946,
    "start_time": "2021-06-17T18:04:11.856Z"
   },
   {
    "duration": 22,
    "start_time": "2021-06-17T18:04:14.804Z"
   },
   {
    "duration": 42,
    "start_time": "2021-06-17T18:04:14.829Z"
   },
   {
    "duration": 74,
    "start_time": "2021-06-17T18:04:14.874Z"
   },
   {
    "duration": 94,
    "start_time": "2021-06-17T18:04:14.950Z"
   },
   {
    "duration": 44,
    "start_time": "2021-06-17T18:04:15.047Z"
   },
   {
    "duration": 42,
    "start_time": "2021-06-17T18:04:15.093Z"
   },
   {
    "duration": 88,
    "start_time": "2021-06-17T18:04:15.139Z"
   },
   {
    "duration": 44,
    "start_time": "2021-06-17T18:04:15.229Z"
   },
   {
    "duration": 363,
    "start_time": "2021-06-17T18:04:15.276Z"
   },
   {
    "duration": 160,
    "start_time": "2021-06-17T18:04:15.641Z"
   },
   {
    "duration": 49,
    "start_time": "2021-06-17T18:04:15.803Z"
   },
   {
    "duration": 80,
    "start_time": "2021-06-17T18:04:15.855Z"
   },
   {
    "duration": 90,
    "start_time": "2021-06-17T18:04:15.937Z"
   },
   {
    "duration": 28,
    "start_time": "2021-06-17T18:04:16.030Z"
   },
   {
    "duration": 42,
    "start_time": "2021-06-17T18:04:16.061Z"
   },
   {
    "duration": 116,
    "start_time": "2021-06-17T18:04:16.126Z"
   },
   {
    "duration": 57,
    "start_time": "2021-06-17T18:04:16.245Z"
   },
   {
    "duration": 703,
    "start_time": "2021-06-17T18:04:16.953Z"
   },
   {
    "duration": 42,
    "start_time": "2021-06-17T18:04:18.723Z"
   },
   {
    "duration": 74,
    "start_time": "2021-06-17T18:04:19.654Z"
   },
   {
    "duration": 7,
    "start_time": "2021-06-17T18:04:20.705Z"
   },
   {
    "duration": 4,
    "start_time": "2021-06-17T18:04:23.647Z"
   },
   {
    "duration": 8,
    "start_time": "2021-06-17T18:04:25.752Z"
   },
   {
    "duration": 4,
    "start_time": "2021-06-17T18:04:35.617Z"
   },
   {
    "duration": 9,
    "start_time": "2021-06-17T18:04:36.385Z"
   },
   {
    "duration": 283,
    "start_time": "2021-06-17T18:04:37.242Z"
   },
   {
    "duration": 1330,
    "start_time": "2021-06-17T18:04:39.049Z"
   },
   {
    "duration": 80518,
    "start_time": "2021-06-17T18:04:40.382Z"
   },
   {
    "duration": 85186,
    "start_time": "2021-06-17T18:06:00.904Z"
   },
   {
    "duration": 1671160,
    "start_time": "2021-06-17T18:07:26.093Z"
   },
   {
    "duration": 489252,
    "start_time": "2021-06-17T18:35:17.256Z"
   },
   {
    "duration": 374,
    "start_time": "2021-06-18T10:12:33.179Z"
   },
   {
    "duration": 2885,
    "start_time": "2021-06-18T10:12:44.926Z"
   },
   {
    "duration": 5,
    "start_time": "2021-06-18T10:12:47.814Z"
   },
   {
    "duration": 163,
    "start_time": "2021-06-18T10:12:47.822Z"
   },
   {
    "duration": 45,
    "start_time": "2021-06-18T10:12:47.988Z"
   },
   {
    "duration": 137,
    "start_time": "2021-06-18T10:12:48.036Z"
   },
   {
    "duration": 159,
    "start_time": "2021-06-18T10:12:48.175Z"
   },
   {
    "duration": 6,
    "start_time": "2021-06-18T10:12:48.336Z"
   },
   {
    "duration": 90,
    "start_time": "2021-06-18T10:12:48.345Z"
   },
   {
    "duration": 84,
    "start_time": "2021-06-18T10:12:48.438Z"
   },
   {
    "duration": 2740,
    "start_time": "2021-06-18T10:12:48.524Z"
   },
   {
    "duration": 12,
    "start_time": "2021-06-18T10:12:51.266Z"
   },
   {
    "duration": 55,
    "start_time": "2021-06-18T10:12:51.281Z"
   },
   {
    "duration": 60,
    "start_time": "2021-06-18T10:12:51.339Z"
   },
   {
    "duration": 99,
    "start_time": "2021-06-18T10:12:51.410Z"
   },
   {
    "duration": 43,
    "start_time": "2021-06-18T10:12:51.511Z"
   },
   {
    "duration": 18,
    "start_time": "2021-06-18T10:12:51.556Z"
   },
   {
    "duration": 102,
    "start_time": "2021-06-18T10:12:51.578Z"
   },
   {
    "duration": 53,
    "start_time": "2021-06-18T10:12:51.682Z"
   },
   {
    "duration": 397,
    "start_time": "2021-06-18T10:12:51.737Z"
   },
   {
    "duration": 155,
    "start_time": "2021-06-18T10:12:52.137Z"
   },
   {
    "duration": 48,
    "start_time": "2021-06-18T10:12:52.294Z"
   },
   {
    "duration": 83,
    "start_time": "2021-06-18T10:12:52.345Z"
   },
   {
    "duration": 90,
    "start_time": "2021-06-18T10:12:52.430Z"
   },
   {
    "duration": 28,
    "start_time": "2021-06-18T10:12:52.522Z"
   },
   {
    "duration": 67,
    "start_time": "2021-06-18T10:12:52.552Z"
   },
   {
    "duration": 129,
    "start_time": "2021-06-18T10:12:52.622Z"
   },
   {
    "duration": 58,
    "start_time": "2021-06-18T10:12:53.437Z"
   },
   {
    "duration": 568,
    "start_time": "2021-06-18T10:12:54.071Z"
   },
   {
    "duration": 41,
    "start_time": "2021-06-18T10:12:55.172Z"
   },
   {
    "duration": 70,
    "start_time": "2021-06-18T10:12:55.670Z"
   },
   {
    "duration": 6,
    "start_time": "2021-06-18T10:12:57.574Z"
   },
   {
    "duration": 4,
    "start_time": "2021-06-18T10:12:57.757Z"
   },
   {
    "duration": 4,
    "start_time": "2021-06-18T10:12:58.901Z"
   },
   {
    "duration": 3,
    "start_time": "2021-06-18T10:13:10.671Z"
   },
   {
    "duration": 8,
    "start_time": "2021-06-18T10:13:11.080Z"
   },
   {
    "duration": 482600,
    "start_time": "2021-06-18T10:13:19.166Z"
   },
   {
    "duration": 171605,
    "start_time": "2021-06-18T10:21:21.768Z"
   },
   {
    "duration": 1355,
    "start_time": "2021-06-18T10:24:42.836Z"
   },
   {
    "duration": 81920,
    "start_time": "2021-06-18T10:26:29.697Z"
   },
   {
    "duration": 172154,
    "start_time": "2021-06-18T10:27:51.620Z"
   },
   {
    "duration": 173971,
    "start_time": "2021-06-18T10:30:55.306Z"
   },
   {
    "duration": 486861,
    "start_time": "2021-06-18T10:36:44.046Z"
   },
   {
    "duration": 1943332,
    "start_time": "2021-06-18T10:45:16.992Z"
   },
   {
    "duration": 11,
    "start_time": "2021-06-18T11:20:41.868Z"
   },
   {
    "duration": 803308,
    "start_time": "2021-06-18T11:20:49.442Z"
   },
   {
    "duration": 15161,
    "start_time": "2021-06-19T11:13:56.275Z"
   },
   {
    "duration": 3052,
    "start_time": "2021-06-19T11:14:25.338Z"
   },
   {
    "duration": 6,
    "start_time": "2021-06-19T11:14:28.393Z"
   },
   {
    "duration": 170,
    "start_time": "2021-06-19T11:14:28.402Z"
   },
   {
    "duration": 41,
    "start_time": "2021-06-19T11:14:28.574Z"
   },
   {
    "duration": 132,
    "start_time": "2021-06-19T11:14:28.617Z"
   },
   {
    "duration": 142,
    "start_time": "2021-06-19T11:14:29.624Z"
   },
   {
    "duration": 7,
    "start_time": "2021-06-19T11:14:29.928Z"
   },
   {
    "duration": 65,
    "start_time": "2021-06-19T11:14:30.433Z"
   },
   {
    "duration": 77,
    "start_time": "2021-06-19T11:14:30.720Z"
   },
   {
    "duration": 2652,
    "start_time": "2021-06-19T11:14:31.048Z"
   },
   {
    "duration": 14,
    "start_time": "2021-06-19T11:14:33.702Z"
   },
   {
    "duration": 555,
    "start_time": "2021-06-19T11:14:33.721Z"
   },
   {
    "duration": 308,
    "start_time": "2021-06-19T11:14:34.279Z"
   },
   {
    "duration": 80,
    "start_time": "2021-06-19T11:14:34.590Z"
   },
   {
    "duration": 56,
    "start_time": "2021-06-19T11:14:34.672Z"
   },
   {
    "duration": 20,
    "start_time": "2021-06-19T11:14:34.731Z"
   },
   {
    "duration": 72,
    "start_time": "2021-06-19T11:14:35.410Z"
   },
   {
    "duration": 42,
    "start_time": "2021-06-19T11:14:35.832Z"
   },
   {
    "duration": 320,
    "start_time": "2021-06-19T11:14:36.545Z"
   },
   {
    "duration": 135,
    "start_time": "2021-06-19T11:14:37.050Z"
   },
   {
    "duration": 42,
    "start_time": "2021-06-19T11:14:37.584Z"
   },
   {
    "duration": 64,
    "start_time": "2021-06-19T11:14:38.042Z"
   },
   {
    "duration": 77,
    "start_time": "2021-06-19T11:14:38.937Z"
   },
   {
    "duration": 30,
    "start_time": "2021-06-19T11:14:40.232Z"
   },
   {
    "duration": 41,
    "start_time": "2021-06-19T11:14:43.160Z"
   },
   {
    "duration": 110,
    "start_time": "2021-06-19T11:14:43.204Z"
   },
   {
    "duration": 55,
    "start_time": "2021-06-19T11:14:44.529Z"
   },
   {
    "duration": 615,
    "start_time": "2021-06-19T11:14:45.249Z"
   },
   {
    "duration": 40,
    "start_time": "2021-06-19T11:14:48.809Z"
   },
   {
    "duration": 71,
    "start_time": "2021-06-19T11:14:49.337Z"
   },
   {
    "duration": 7,
    "start_time": "2021-06-19T11:14:55.442Z"
   },
   {
    "duration": 4,
    "start_time": "2021-06-19T11:14:56.521Z"
   },
   {
    "duration": 4,
    "start_time": "2021-06-19T11:14:57.810Z"
   },
   {
    "duration": 1225933,
    "start_time": "2021-06-19T11:14:59.579Z"
   },
   {
    "duration": 20148,
    "start_time": "2021-06-19T11:36:13.690Z"
   },
   {
    "duration": 139769,
    "start_time": "2021-06-19T11:37:02.959Z"
   },
   {
    "duration": 782665,
    "start_time": "2021-06-19T11:39:39.222Z"
   },
   {
    "duration": 144,
    "start_time": "2021-06-19T11:52:41.746Z"
   },
   {
    "duration": 143,
    "start_time": "2021-06-19T11:52:41.748Z"
   },
   {
    "duration": 143,
    "start_time": "2021-06-19T11:52:41.750Z"
   },
   {
    "duration": 102507,
    "start_time": "2021-06-19T11:52:44.380Z"
   },
   {
    "duration": 147,
    "start_time": "2021-06-19T11:54:26.743Z"
   },
   {
    "duration": 146,
    "start_time": "2021-06-19T11:54:26.745Z"
   },
   {
    "duration": 146,
    "start_time": "2021-06-19T11:54:26.746Z"
   },
   {
    "duration": 430751,
    "start_time": "2021-06-19T11:54:36.600Z"
   },
   {
    "duration": 148,
    "start_time": "2021-06-19T12:01:47.206Z"
   },
   {
    "duration": 418,
    "start_time": "2021-06-19T12:02:00.058Z"
   },
   {
    "duration": 6486015,
    "start_time": "2021-06-19T12:02:11.105Z"
   },
   {
    "duration": 333,
    "start_time": "2021-06-19T13:50:17.122Z"
   },
   {
    "duration": 474,
    "start_time": "2021-06-19T13:50:16.983Z"
   },
   {
    "duration": 467,
    "start_time": "2021-06-19T13:50:16.992Z"
   },
   {
    "duration": 436739,
    "start_time": "2021-06-19T14:31:47.113Z"
   },
   {
    "duration": 19057,
    "start_time": "2021-06-19T14:39:03.855Z"
   },
   {
    "duration": 450,
    "start_time": "2021-06-19T14:39:22.465Z"
   },
   {
    "duration": 460167,
    "start_time": "2021-06-19T14:53:00.555Z"
   },
   {
    "duration": 267,
    "start_time": "2021-06-19T15:00:40.458Z"
   },
   {
    "duration": 4080590,
    "start_time": "2021-06-19T15:00:43.775Z"
   },
   {
    "duration": 14612,
    "start_time": "2021-06-20T10:56:32.005Z"
   },
   {
    "duration": 3021,
    "start_time": "2021-06-20T10:56:56.028Z"
   },
   {
    "duration": 4,
    "start_time": "2021-06-20T10:56:59.052Z"
   },
   {
    "duration": 170,
    "start_time": "2021-06-20T10:56:59.059Z"
   },
   {
    "duration": 40,
    "start_time": "2021-06-20T10:57:00.207Z"
   },
   {
    "duration": 111,
    "start_time": "2021-06-20T10:57:00.779Z"
   },
   {
    "duration": 154,
    "start_time": "2021-06-20T10:57:01.115Z"
   },
   {
    "duration": 7,
    "start_time": "2021-06-20T10:57:01.314Z"
   },
   {
    "duration": 70,
    "start_time": "2021-06-20T10:57:01.482Z"
   },
   {
    "duration": 77,
    "start_time": "2021-06-20T10:57:01.626Z"
   },
   {
    "duration": 4832,
    "start_time": "2021-06-20T10:57:01.787Z"
   },
   {
    "duration": 18,
    "start_time": "2021-06-20T10:57:06.622Z"
   },
   {
    "duration": 77,
    "start_time": "2021-06-20T10:57:06.653Z"
   },
   {
    "duration": 93,
    "start_time": "2021-06-20T10:57:06.733Z"
   },
   {
    "duration": 163,
    "start_time": "2021-06-20T10:57:06.830Z"
   },
   {
    "duration": 74,
    "start_time": "2021-06-20T10:57:06.996Z"
   },
   {
    "duration": 23,
    "start_time": "2021-06-20T10:57:07.073Z"
   },
   {
    "duration": 109,
    "start_time": "2021-06-20T10:57:07.102Z"
   },
   {
    "duration": 79,
    "start_time": "2021-06-20T10:57:07.215Z"
   },
   {
    "duration": 551,
    "start_time": "2021-06-20T10:57:07.297Z"
   },
   {
    "duration": 218,
    "start_time": "2021-06-20T10:57:07.854Z"
   },
   {
    "duration": 82,
    "start_time": "2021-06-20T10:57:08.074Z"
   },
   {
    "duration": 132,
    "start_time": "2021-06-20T10:57:08.159Z"
   },
   {
    "duration": 113,
    "start_time": "2021-06-20T10:57:08.294Z"
   },
   {
    "duration": 49,
    "start_time": "2021-06-20T10:57:08.411Z"
   },
   {
    "duration": 72,
    "start_time": "2021-06-20T10:57:08.463Z"
   },
   {
    "duration": 152,
    "start_time": "2021-06-20T10:57:08.554Z"
   },
   {
    "duration": 62,
    "start_time": "2021-06-20T10:57:08.708Z"
   },
   {
    "duration": 686,
    "start_time": "2021-06-20T10:57:08.772Z"
   },
   {
    "duration": 39,
    "start_time": "2021-06-20T10:57:09.461Z"
   },
   {
    "duration": 1429,
    "start_time": "2021-06-20T10:57:09.502Z"
   },
   {
    "duration": 722,
    "start_time": "2021-06-20T10:57:10.933Z"
   },
   {
    "duration": 266,
    "start_time": "2021-06-20T10:57:11.657Z"
   },
   {
    "duration": 4,
    "start_time": "2021-06-20T10:57:12.324Z"
   },
   {
    "duration": 4,
    "start_time": "2021-06-20T10:57:51.076Z"
   },
   {
    "duration": 9,
    "start_time": "2021-06-20T10:58:05.742Z"
   },
   {
    "duration": 262,
    "start_time": "2021-06-20T10:58:07.404Z"
   },
   {
    "duration": 1374,
    "start_time": "2021-06-20T10:58:07.669Z"
   },
   {
    "duration": 84151,
    "start_time": "2021-06-20T10:58:09.046Z"
   },
   {
    "duration": 183690,
    "start_time": "2021-06-20T10:59:33.201Z"
   },
   {
    "duration": 80379,
    "start_time": "2021-06-20T11:02:36.893Z"
   },
   {
    "duration": 16351,
    "start_time": "2021-06-20T11:03:57.276Z"
   },
   {
    "duration": 72943,
    "start_time": "2021-06-20T11:04:13.629Z"
   },
   {
    "duration": 3888,
    "start_time": "2021-06-20T11:05:59.687Z"
   },
   {
    "duration": 5,
    "start_time": "2021-06-20T11:06:03.578Z"
   },
   {
    "duration": 166,
    "start_time": "2021-06-20T11:06:03.586Z"
   },
   {
    "duration": 39,
    "start_time": "2021-06-20T11:06:03.755Z"
   },
   {
    "duration": 128,
    "start_time": "2021-06-20T11:06:03.797Z"
   },
   {
    "duration": 155,
    "start_time": "2021-06-20T11:06:04.613Z"
   },
   {
    "duration": 6,
    "start_time": "2021-06-20T11:06:05.454Z"
   },
   {
    "duration": 71,
    "start_time": "2021-06-20T11:06:05.624Z"
   },
   {
    "duration": 79,
    "start_time": "2021-06-20T11:06:05.782Z"
   },
   {
    "duration": 2689,
    "start_time": "2021-06-20T11:06:06.041Z"
   },
   {
    "duration": 21,
    "start_time": "2021-06-20T11:06:08.733Z"
   },
   {
    "duration": 46,
    "start_time": "2021-06-20T11:06:08.758Z"
   },
   {
    "duration": 71,
    "start_time": "2021-06-20T11:06:08.807Z"
   },
   {
    "duration": 107,
    "start_time": "2021-06-20T11:06:08.881Z"
   },
   {
    "duration": 65,
    "start_time": "2021-06-20T11:06:08.991Z"
   },
   {
    "duration": 21,
    "start_time": "2021-06-20T11:06:09.059Z"
   },
   {
    "duration": 108,
    "start_time": "2021-06-20T11:06:09.085Z"
   },
   {
    "duration": 42,
    "start_time": "2021-06-20T11:06:09.196Z"
   },
   {
    "duration": 371,
    "start_time": "2021-06-20T11:06:09.240Z"
   },
   {
    "duration": 162,
    "start_time": "2021-06-20T11:06:09.614Z"
   },
   {
    "duration": 48,
    "start_time": "2021-06-20T11:06:09.779Z"
   },
   {
    "duration": 107,
    "start_time": "2021-06-20T11:06:09.829Z"
   },
   {
    "duration": 91,
    "start_time": "2021-06-20T11:06:09.939Z"
   },
   {
    "duration": 40,
    "start_time": "2021-06-20T11:06:10.032Z"
   },
   {
    "duration": 41,
    "start_time": "2021-06-20T11:06:10.660Z"
   },
   {
    "duration": 99,
    "start_time": "2021-06-20T11:06:11.069Z"
   },
   {
    "duration": 57,
    "start_time": "2021-06-20T11:06:11.837Z"
   },
   {
    "duration": 653,
    "start_time": "2021-06-20T11:06:12.126Z"
   },
   {
    "duration": 40,
    "start_time": "2021-06-20T11:06:13.795Z"
   },
   {
    "duration": 69,
    "start_time": "2021-06-20T11:06:14.940Z"
   },
   {
    "duration": 7,
    "start_time": "2021-06-20T11:06:19.750Z"
   },
   {
    "duration": 5,
    "start_time": "2021-06-20T11:06:19.918Z"
   },
   {
    "duration": 4,
    "start_time": "2021-06-20T11:06:20.814Z"
   },
   {
    "duration": 4,
    "start_time": "2021-06-20T11:06:33.440Z"
   },
   {
    "duration": 9,
    "start_time": "2021-06-20T11:06:33.976Z"
   },
   {
    "duration": 2407,
    "start_time": "2021-06-20T13:31:26.085Z"
   },
   {
    "duration": 4,
    "start_time": "2021-06-20T13:31:28.495Z"
   },
   {
    "duration": 185,
    "start_time": "2021-06-20T13:31:28.502Z"
   },
   {
    "duration": 43,
    "start_time": "2021-06-20T13:31:28.689Z"
   },
   {
    "duration": 140,
    "start_time": "2021-06-20T13:31:28.734Z"
   },
   {
    "duration": 164,
    "start_time": "2021-06-20T13:31:28.876Z"
   },
   {
    "duration": 12,
    "start_time": "2021-06-20T13:31:29.042Z"
   },
   {
    "duration": 133,
    "start_time": "2021-06-20T13:31:29.059Z"
   },
   {
    "duration": 87,
    "start_time": "2021-06-20T13:31:29.195Z"
   },
   {
    "duration": 2691,
    "start_time": "2021-06-20T13:31:29.297Z"
   },
   {
    "duration": 14,
    "start_time": "2021-06-20T13:31:31.991Z"
   },
   {
    "duration": 65,
    "start_time": "2021-06-20T13:31:32.008Z"
   },
   {
    "duration": 49,
    "start_time": "2021-06-20T13:31:32.075Z"
   },
   {
    "duration": 102,
    "start_time": "2021-06-20T13:31:32.126Z"
   },
   {
    "duration": 62,
    "start_time": "2021-06-20T13:31:32.231Z"
   },
   {
    "duration": 18,
    "start_time": "2021-06-20T13:31:32.706Z"
   },
   {
    "duration": 73,
    "start_time": "2021-06-20T13:31:33.230Z"
   },
   {
    "duration": 42,
    "start_time": "2021-06-20T13:31:33.523Z"
   },
   {
    "duration": 333,
    "start_time": "2021-06-20T13:31:34.023Z"
   },
   {
    "duration": 141,
    "start_time": "2021-06-20T13:31:34.426Z"
   },
   {
    "duration": 44,
    "start_time": "2021-06-20T13:31:34.795Z"
   },
   {
    "duration": 69,
    "start_time": "2021-06-20T13:31:35.202Z"
   },
   {
    "duration": 80,
    "start_time": "2021-06-20T13:31:35.701Z"
   },
   {
    "duration": 28,
    "start_time": "2021-06-20T13:31:36.881Z"
   },
   {
    "duration": 41,
    "start_time": "2021-06-20T13:31:38.109Z"
   },
   {
    "duration": 99,
    "start_time": "2021-06-20T13:31:38.636Z"
   },
   {
    "duration": 56,
    "start_time": "2021-06-20T13:31:39.041Z"
   },
   {
    "duration": 566,
    "start_time": "2021-06-20T13:31:39.768Z"
   },
   {
    "duration": 40,
    "start_time": "2021-06-20T13:31:41.950Z"
   },
   {
    "duration": 68,
    "start_time": "2021-06-20T13:31:43.198Z"
   },
   {
    "duration": 7,
    "start_time": "2021-06-20T13:31:44.331Z"
   },
   {
    "duration": 4,
    "start_time": "2021-06-20T13:31:48.416Z"
   },
   {
    "duration": 4,
    "start_time": "2021-06-20T13:31:48.846Z"
   },
   {
    "duration": 47230,
    "start_time": "2021-06-20T13:31:54.740Z"
   },
   {
    "duration": 6894,
    "start_time": "2021-06-20T13:33:02.338Z"
   },
   {
    "duration": 38622,
    "start_time": "2021-06-20T13:33:14.893Z"
   },
   {
    "duration": 267,
    "start_time": "2021-06-20T13:34:01.869Z"
   },
   {
    "duration": 57787,
    "start_time": "2021-06-20T13:34:09.510Z"
   },
   {
    "duration": -684,
    "start_time": "2021-06-20T13:35:33.993Z"
   },
   {
    "duration": 13856,
    "start_time": "2021-06-20T13:35:34.963Z"
   },
   {
    "duration": 7846,
    "start_time": "2021-06-20T13:35:52.348Z"
   },
   {
    "duration": 248839,
    "start_time": "2021-06-20T13:36:01.865Z"
   },
   {
    "duration": 274,
    "start_time": "2021-06-20T13:42:46.132Z"
   },
   {
    "duration": 6,
    "start_time": "2021-06-20T13:42:48.250Z"
   },
   {
    "duration": 262,
    "start_time": "2021-06-20T13:43:03.061Z"
   },
   {
    "duration": 5,
    "start_time": "2021-06-20T13:43:05.358Z"
   },
   {
    "duration": 185014,
    "start_time": "2021-06-20T13:45:45.838Z"
   },
   {
    "duration": 162,
    "start_time": "2021-06-20T13:50:16.706Z"
   },
   {
    "duration": 4360,
    "start_time": "2021-07-05T17:42:26.044Z"
   },
   {
    "duration": 7,
    "start_time": "2021-07-05T17:42:30.406Z"
   },
   {
    "duration": 180,
    "start_time": "2021-07-05T17:42:30.424Z"
   },
   {
    "duration": 46,
    "start_time": "2021-07-05T17:42:30.606Z"
   },
   {
    "duration": 144,
    "start_time": "2021-07-05T17:42:30.654Z"
   },
   {
    "duration": 177,
    "start_time": "2021-07-05T17:42:30.801Z"
   },
   {
    "duration": 5,
    "start_time": "2021-07-05T17:42:30.982Z"
   },
   {
    "duration": 88,
    "start_time": "2021-07-05T17:42:30.990Z"
   },
   {
    "duration": 103,
    "start_time": "2021-07-05T17:42:31.080Z"
   },
   {
    "duration": 2983,
    "start_time": "2021-07-05T17:42:31.186Z"
   },
   {
    "duration": 15,
    "start_time": "2021-07-05T17:42:34.172Z"
   },
   {
    "duration": 56,
    "start_time": "2021-07-05T17:42:34.209Z"
   },
   {
    "duration": 87,
    "start_time": "2021-07-05T17:42:34.268Z"
   },
   {
    "duration": 104,
    "start_time": "2021-07-05T17:42:34.358Z"
   },
   {
    "duration": 67,
    "start_time": "2021-07-05T17:42:34.465Z"
   },
   {
    "duration": 20,
    "start_time": "2021-07-05T17:42:35.316Z"
   },
   {
    "duration": 75,
    "start_time": "2021-07-05T17:42:35.489Z"
   },
   {
    "duration": 44,
    "start_time": "2021-07-05T17:42:35.746Z"
   },
   {
    "duration": 361,
    "start_time": "2021-07-05T17:42:35.938Z"
   },
   {
    "duration": 159,
    "start_time": "2021-07-05T17:42:36.302Z"
   },
   {
    "duration": 56,
    "start_time": "2021-07-05T17:42:36.463Z"
   },
   {
    "duration": 73,
    "start_time": "2021-07-05T17:42:36.644Z"
   },
   {
    "duration": 88,
    "start_time": "2021-07-05T17:42:36.905Z"
   },
   {
    "duration": 29,
    "start_time": "2021-07-05T17:42:37.872Z"
   },
   {
    "duration": 50,
    "start_time": "2021-07-05T17:42:39.906Z"
   },
   {
    "duration": 107,
    "start_time": "2021-07-05T17:42:42.753Z"
   },
   {
    "duration": 60,
    "start_time": "2021-07-05T17:42:43.929Z"
   },
   {
    "duration": 585,
    "start_time": "2021-07-05T17:42:44.930Z"
   },
   {
    "duration": 42,
    "start_time": "2021-07-05T17:42:52.233Z"
   },
   {
    "duration": 77,
    "start_time": "2021-07-05T17:42:56.682Z"
   },
   {
    "duration": 7,
    "start_time": "2021-07-05T17:43:00.763Z"
   },
   {
    "duration": 5,
    "start_time": "2021-07-05T17:43:07.970Z"
   },
   {
    "duration": 65,
    "start_time": "2021-07-05T17:43:26.084Z"
   },
   {
    "duration": 475,
    "start_time": "2021-07-05T17:46:47.614Z"
   },
   {
    "duration": 14,
    "start_time": "2021-07-05T17:49:00.466Z"
   },
   {
    "duration": 67,
    "start_time": "2021-07-05T17:49:01.033Z"
   },
   {
    "duration": 7,
    "start_time": "2021-07-05T17:49:01.651Z"
   },
   {
    "duration": 5,
    "start_time": "2021-07-05T17:49:01.898Z"
   },
   {
    "duration": 4,
    "start_time": "2021-07-05T17:49:02.641Z"
   },
   {
    "duration": 1696266,
    "start_time": "2021-07-05T17:49:03.035Z"
   }
  ],
  "kernelspec": {
   "display_name": "Python 3",
   "language": "python",
   "name": "python3"
  },
  "language_info": {
   "codemirror_mode": {
    "name": "ipython",
    "version": 3
   },
   "file_extension": ".py",
   "mimetype": "text/x-python",
   "name": "python",
   "nbconvert_exporter": "python",
   "pygments_lexer": "ipython3",
   "version": "3.7.8"
  },
  "toc": {
   "base_numbering": 1,
   "nav_menu": {},
   "number_sections": true,
   "sideBar": true,
   "skip_h1_title": true,
   "title_cell": "Table of Contents",
   "title_sidebar": "Contents",
   "toc_cell": false,
   "toc_position": {},
   "toc_section_display": true,
   "toc_window_display": false
  }
 },
 "nbformat": 4,
 "nbformat_minor": 2
}
